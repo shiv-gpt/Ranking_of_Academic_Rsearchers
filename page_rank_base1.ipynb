{
 "cells": [
  {
   "cell_type": "code",
   "execution_count": 159,
   "metadata": {},
   "outputs": [],
   "source": [
    "import pandas as pd\n",
    "import json\n",
    "import numpy as np\n",
    "import matplotlib.pyplot as plt\n",
    "import seaborn as sns\n",
    "import os\n",
    "import pickle"
   ]
  },
  {
   "cell_type": "code",
   "execution_count": 160,
   "metadata": {},
   "outputs": [],
   "source": [
    "class Paper:\n",
    "    def __init__(self):\n",
    "        self.outlinks = []\n",
    "        self.inlinks = []\n",
    "        self.abstract = \"\"\n",
    "        self.keywords = []\n",
    "        self.page_rank = 1\n",
    "        self.n_citations = None\n",
    "        self.authors = []\n",
    "#         self.authors_org = []\n",
    "        self.journal = None\n",
    "        self.year = None\n",
    "        self.title = None"
   ]
  },
  {
   "cell_type": "code",
   "execution_count": 3,
   "metadata": {},
   "outputs": [],
   "source": [
    "dict = {}"
   ]
  },
  {
   "cell_type": "code",
   "execution_count": 4,
   "metadata": {},
   "outputs": [],
   "source": [
    "def init_dict(df, graph):\n",
    "    for index, row in df.iterrows():\n",
    "        id = row[\"id\"]\n",
    "        if id not in graph.keys():\n",
    "            graph[id] = Paper()\n",
    "            graph[id].outlinks = [] if not isinstance(row[\"references\"], list) else row[\"references\"]\n",
    "            graph[id].abstract = \"\" if(row[\"abstract\"]==None) else row[\"abstract\"]\n",
    "            graph[id].keywords = [] if not isinstance(row[\"keywords\"], list) else row[\"keywords\"]\n",
    "            graph[id].n_citations = row[\"n_citation\"]\n",
    "    #         authors = json.loads(row[\"authors\"])\n",
    "    #         print(row[\"authors\"])\n",
    "            if isinstance(row[\"authors\"], list):\n",
    "                for author in row[\"authors\"]:\n",
    "                    org = \"\"\n",
    "                    name = \"\"\n",
    "                    if \"org\" in author.keys():\n",
    "                        org = author[\"org\"]\n",
    "                    if \"name\" in author.keys():\n",
    "                        name = author[\"name\"]\n",
    "\n",
    "                    graph[id].authors.append((name, org))\n",
    "\n",
    "            graph[id].journal = \"\" if(row[\"venue\"]==None) else row[\"venue\"]\n",
    "            graph[id].year =  1700 if(row[\"year\"]==None) else row[\"year\"]\n",
    "            graph[id].title = \"\" if(row[\"title\"]==None) else row[\"title\"]\n",
    "        \n",
    "def fill_dict(graph):\n",
    "    length = len(graph.keys())\n",
    "    for id in graph.keys():\n",
    "        graph[id].page_rank = 1/length\n",
    "        refs = graph[id].outlinks\n",
    "#         print(refs)\n",
    "        for ref in refs:\n",
    "            if ref in graph.keys():\n",
    "                graph[ref].inlinks.append(id)"
   ]
  },
  {
   "cell_type": "code",
   "execution_count": 127,
   "metadata": {},
   "outputs": [],
   "source": [
    "def reset_page_rank(graph):\n",
    "    length = len(graph.keys())\n",
    "    for id in graph.keys():\n",
    "        graph[id].page_rank = 1/length"
   ]
  },
  {
   "cell_type": "code",
   "execution_count": 6,
   "metadata": {},
   "outputs": [
    {
     "data": {
      "text/html": [
       "<div>\n",
       "<style scoped>\n",
       "    .dataframe tbody tr th:only-of-type {\n",
       "        vertical-align: middle;\n",
       "    }\n",
       "\n",
       "    .dataframe tbody tr th {\n",
       "        vertical-align: top;\n",
       "    }\n",
       "\n",
       "    .dataframe thead th {\n",
       "        text-align: right;\n",
       "    }\n",
       "</style>\n",
       "<table border=\"1\" class=\"dataframe\">\n",
       "  <thead>\n",
       "    <tr style=\"text-align: right;\">\n",
       "      <th></th>\n",
       "      <th>abstract</th>\n",
       "      <th>authors</th>\n",
       "      <th>doi</th>\n",
       "      <th>id</th>\n",
       "      <th>isbn</th>\n",
       "      <th>issn</th>\n",
       "      <th>issue</th>\n",
       "      <th>keywords</th>\n",
       "      <th>lang</th>\n",
       "      <th>n_citation</th>\n",
       "      <th>page_end</th>\n",
       "      <th>page_start</th>\n",
       "      <th>pdf</th>\n",
       "      <th>references</th>\n",
       "      <th>title</th>\n",
       "      <th>url</th>\n",
       "      <th>venue</th>\n",
       "      <th>volume</th>\n",
       "      <th>year</th>\n",
       "    </tr>\n",
       "  </thead>\n",
       "  <tbody>\n",
       "    <tr>\n",
       "      <th>0</th>\n",
       "      <td>NaN</td>\n",
       "      <td>[{'name': 'G. Adam'}, {'name': 'K. Schreiber'}]</td>\n",
       "      <td>10.1002/ange.19650770204</td>\n",
       "      <td>53e99784b7602d9701f3e130</td>\n",
       "      <td>NaN</td>\n",
       "      <td>NaN</td>\n",
       "      <td>2</td>\n",
       "      <td>NaN</td>\n",
       "      <td>en</td>\n",
       "      <td>NaN</td>\n",
       "      <td>95</td>\n",
       "      <td>94</td>\n",
       "      <td>NaN</td>\n",
       "      <td>[53e9a6e6b7602d970301a47d, 53e9b4dfb7602d97040...</td>\n",
       "      <td>1.4-N→N′-Acylwanderung bei einem Diaminosteroid</td>\n",
       "      <td>[http://dx.doi.org/10.1002/ange.19650770204]</td>\n",
       "      <td>Angewandte Chemie</td>\n",
       "      <td>77</td>\n",
       "      <td>1965.0</td>\n",
       "    </tr>\n",
       "    <tr>\n",
       "      <th>1</th>\n",
       "      <td>NaN</td>\n",
       "      <td>[{'name': 'R. Farahbod'}, {'name': 'V. Gervasi...</td>\n",
       "      <td>NaN</td>\n",
       "      <td>53e99784b7602d9701f3e131</td>\n",
       "      <td>NaN</td>\n",
       "      <td>NaN</td>\n",
       "      <td>NaN</td>\n",
       "      <td>NaN</td>\n",
       "      <td>en</td>\n",
       "      <td>NaN</td>\n",
       "      <td>NaN</td>\n",
       "      <td>NaN</td>\n",
       "      <td>NaN</td>\n",
       "      <td>[53e9a1d0b7602d9702ac8f1b, 53e9ad1fb7602d97036...</td>\n",
       "      <td>Design and Specification of the CoreASM Execut...</td>\n",
       "      <td>NaN</td>\n",
       "      <td>NaN</td>\n",
       "      <td>NaN</td>\n",
       "      <td>NaN</td>\n",
       "    </tr>\n",
       "    <tr>\n",
       "      <th>2</th>\n",
       "      <td>The method to making technology roadmap is int...</td>\n",
       "      <td>[{'name': 'MO Chou'}, {'name': 'CHEN Jiqing'},...</td>\n",
       "      <td>NaN</td>\n",
       "      <td>53e99784b7602d9701f3e132</td>\n",
       "      <td>NaN</td>\n",
       "      <td>NaN</td>\n",
       "      <td>19</td>\n",
       "      <td>[science and technology production, technology...</td>\n",
       "      <td>zh</td>\n",
       "      <td>NaN</td>\n",
       "      <td>95</td>\n",
       "      <td>90</td>\n",
       "      <td>NaN</td>\n",
       "      <td>NaN</td>\n",
       "      <td>Practice Research on Technology Roadmap for El...</td>\n",
       "      <td>NaN</td>\n",
       "      <td>Science and Technology Management Research</td>\n",
       "      <td>NaN</td>\n",
       "      <td>2013.0</td>\n",
       "    </tr>\n",
       "    <tr>\n",
       "      <th>3</th>\n",
       "      <td>Drought is the first place in all the natural ...</td>\n",
       "      <td>[{'name': 'Peijuan Wang'}, {'name': 'Jiahua Zh...</td>\n",
       "      <td>10.1109/IGARSS.2011.6049503</td>\n",
       "      <td>53e99784b7602d9701f3e133</td>\n",
       "      <td>NaN</td>\n",
       "      <td>NaN</td>\n",
       "      <td>null</td>\n",
       "      <td>[canopy parameters, canopy spectrum, different...</td>\n",
       "      <td>en</td>\n",
       "      <td>NaN</td>\n",
       "      <td>1933</td>\n",
       "      <td>1930</td>\n",
       "      <td>NaN</td>\n",
       "      <td>[53e999c3b7602d970220b9b7, 53e9b1d6b7602d9703c...</td>\n",
       "      <td>The relationship between canopy parameters and...</td>\n",
       "      <td>[http://dx.doi.org/10.1109/IGARSS.2011.6049503]</td>\n",
       "      <td>IGARSS</td>\n",
       "      <td>null</td>\n",
       "      <td>2011.0</td>\n",
       "    </tr>\n",
       "    <tr>\n",
       "      <th>4</th>\n",
       "      <td>Determination of total sugar can serve to moni...</td>\n",
       "      <td>[{'name': 'LI Li-li', 'org': 'Yantai Institute...</td>\n",
       "      <td>NaN</td>\n",
       "      <td>53e99784b7602d9701f3e135</td>\n",
       "      <td>NaN</td>\n",
       "      <td>NaN</td>\n",
       "      <td>07</td>\n",
       "      <td>[metabolites, Jerusalem artichoke, total sugar...</td>\n",
       "      <td>zh</td>\n",
       "      <td>1.0</td>\n",
       "      <td>93+97</td>\n",
       "      <td>90</td>\n",
       "      <td>NaN</td>\n",
       "      <td>NaN</td>\n",
       "      <td>The effect of metabolites on the determination...</td>\n",
       "      <td>NaN</td>\n",
       "      <td>Food Science and Technology</td>\n",
       "      <td>NaN</td>\n",
       "      <td>2012.0</td>\n",
       "    </tr>\n",
       "  </tbody>\n",
       "</table>\n",
       "</div>"
      ],
      "text/plain": [
       "                                            abstract  \\\n",
       "0                                                NaN   \n",
       "1                                                NaN   \n",
       "2  The method to making technology roadmap is int...   \n",
       "3  Drought is the first place in all the natural ...   \n",
       "4  Determination of total sugar can serve to moni...   \n",
       "\n",
       "                                             authors  \\\n",
       "0    [{'name': 'G. Adam'}, {'name': 'K. Schreiber'}]   \n",
       "1  [{'name': 'R. Farahbod'}, {'name': 'V. Gervasi...   \n",
       "2  [{'name': 'MO Chou'}, {'name': 'CHEN Jiqing'},...   \n",
       "3  [{'name': 'Peijuan Wang'}, {'name': 'Jiahua Zh...   \n",
       "4  [{'name': 'LI Li-li', 'org': 'Yantai Institute...   \n",
       "\n",
       "                           doi                        id isbn issn issue  \\\n",
       "0     10.1002/ange.19650770204  53e99784b7602d9701f3e130  NaN  NaN     2   \n",
       "1                          NaN  53e99784b7602d9701f3e131  NaN  NaN   NaN   \n",
       "2                          NaN  53e99784b7602d9701f3e132  NaN  NaN    19   \n",
       "3  10.1109/IGARSS.2011.6049503  53e99784b7602d9701f3e133  NaN  NaN  null   \n",
       "4                          NaN  53e99784b7602d9701f3e135  NaN  NaN    07   \n",
       "\n",
       "                                            keywords lang  n_citation  \\\n",
       "0                                                NaN   en         NaN   \n",
       "1                                                NaN   en         NaN   \n",
       "2  [science and technology production, technology...   zh         NaN   \n",
       "3  [canopy parameters, canopy spectrum, different...   en         NaN   \n",
       "4  [metabolites, Jerusalem artichoke, total sugar...   zh         1.0   \n",
       "\n",
       "  page_end page_start  pdf                                         references  \\\n",
       "0       95         94  NaN  [53e9a6e6b7602d970301a47d, 53e9b4dfb7602d97040...   \n",
       "1      NaN        NaN  NaN  [53e9a1d0b7602d9702ac8f1b, 53e9ad1fb7602d97036...   \n",
       "2       95         90  NaN                                                NaN   \n",
       "3     1933       1930  NaN  [53e999c3b7602d970220b9b7, 53e9b1d6b7602d9703c...   \n",
       "4    93+97         90  NaN                                                NaN   \n",
       "\n",
       "                                               title  \\\n",
       "0    1.4-N→N′-Acylwanderung bei einem Diaminosteroid   \n",
       "1  Design and Specification of the CoreASM Execut...   \n",
       "2  Practice Research on Technology Roadmap for El...   \n",
       "3  The relationship between canopy parameters and...   \n",
       "4  The effect of metabolites on the determination...   \n",
       "\n",
       "                                               url  \\\n",
       "0     [http://dx.doi.org/10.1002/ange.19650770204]   \n",
       "1                                              NaN   \n",
       "2                                              NaN   \n",
       "3  [http://dx.doi.org/10.1109/IGARSS.2011.6049503]   \n",
       "4                                              NaN   \n",
       "\n",
       "                                        venue volume    year  \n",
       "0                           Angewandte Chemie     77  1965.0  \n",
       "1                                         NaN    NaN     NaN  \n",
       "2  Science and Technology Management Research    NaN  2013.0  \n",
       "3                                      IGARSS   null  2011.0  \n",
       "4                 Food Science and Technology    NaN  2012.0  "
      ]
     },
     "execution_count": 6,
     "metadata": {},
     "output_type": "execute_result"
    }
   ],
   "source": [
    "with open('./aminer_papers_0/aminer_papers_0.txt') as file:\n",
    "    status = []\n",
    "    for line in file:\n",
    "        \n",
    "        status.append(json.loads(line))\n",
    "        \n",
    "df = pd.DataFrame(status)\n",
    "df.head()"
   ]
  },
  {
   "cell_type": "code",
   "execution_count": 7,
   "metadata": {},
   "outputs": [
    {
     "data": {
      "text/html": [
       "<div>\n",
       "<style scoped>\n",
       "    .dataframe tbody tr th:only-of-type {\n",
       "        vertical-align: middle;\n",
       "    }\n",
       "\n",
       "    .dataframe tbody tr th {\n",
       "        vertical-align: top;\n",
       "    }\n",
       "\n",
       "    .dataframe thead th {\n",
       "        text-align: right;\n",
       "    }\n",
       "</style>\n",
       "<table border=\"1\" class=\"dataframe\">\n",
       "  <thead>\n",
       "    <tr style=\"text-align: right;\">\n",
       "      <th></th>\n",
       "      <th>abstract</th>\n",
       "      <th>authors</th>\n",
       "      <th>id</th>\n",
       "      <th>keywords</th>\n",
       "      <th>lang</th>\n",
       "      <th>n_citation</th>\n",
       "      <th>references</th>\n",
       "      <th>title</th>\n",
       "      <th>venue</th>\n",
       "      <th>year</th>\n",
       "    </tr>\n",
       "  </thead>\n",
       "  <tbody>\n",
       "    <tr>\n",
       "      <th>4</th>\n",
       "      <td>Determination of total sugar can serve to moni...</td>\n",
       "      <td>[{'name': 'LI Li-li', 'org': 'Yantai Institute...</td>\n",
       "      <td>53e99784b7602d9701f3e135</td>\n",
       "      <td>[metabolites, Jerusalem artichoke, total sugar...</td>\n",
       "      <td>zh</td>\n",
       "      <td>1.0</td>\n",
       "      <td>NaN</td>\n",
       "      <td>The effect of metabolites on the determination...</td>\n",
       "      <td>Food Science and Technology</td>\n",
       "      <td>2012.0</td>\n",
       "    </tr>\n",
       "    <tr>\n",
       "      <th>7</th>\n",
       "      <td>This paper discussed the planning and design m...</td>\n",
       "      <td>[{'name': 'LIU Yu-qiong', 'org': 'School of Re...</td>\n",
       "      <td>53e99784b7602d9701f3e139</td>\n",
       "      <td>[Planning and design method, Mountainous regio...</td>\n",
       "      <td>zh</td>\n",
       "      <td>1.0</td>\n",
       "      <td>NaN</td>\n",
       "      <td>Planning and Design Method of Land Consolidati...</td>\n",
       "      <td>Journal of Anhui Agricultural Sciences</td>\n",
       "      <td>2012.0</td>\n",
       "    </tr>\n",
       "    <tr>\n",
       "      <th>8</th>\n",
       "      <td>Rough set is a mathematical tool to deal with ...</td>\n",
       "      <td>NaN</td>\n",
       "      <td>53e99784b7602d9701f3e13a</td>\n",
       "      <td>[Data Mining, Rough Set, Algorithm, Rules Extr...</td>\n",
       "      <td>zh</td>\n",
       "      <td>3.0</td>\n",
       "      <td>NaN</td>\n",
       "      <td>A Data Mining Based on Rough Set Theory</td>\n",
       "      <td>Software Guide</td>\n",
       "      <td>2012.0</td>\n",
       "    </tr>\n",
       "    <tr>\n",
       "      <th>11</th>\n",
       "      <td>We consider the problem of determining it(Qd),...</td>\n",
       "      <td>[{'name': 'David Galvin'}]</td>\n",
       "      <td>53e99784b7602d9701f3e13d</td>\n",
       "      <td>NaN</td>\n",
       "      <td>en</td>\n",
       "      <td>1.0</td>\n",
       "      <td>[53e9aa61b7602d97033d1644, 53e9adb1b7602d97037...</td>\n",
       "      <td>Independent sets of a xed size in the discrete...</td>\n",
       "      <td>NaN</td>\n",
       "      <td>NaN</td>\n",
       "    </tr>\n",
       "    <tr>\n",
       "      <th>14</th>\n",
       "      <td>The carbon fiber used PAN as precursor is wide...</td>\n",
       "      <td>[{'name': 'JIN Li-guo', 'org': 'China Syntheti...</td>\n",
       "      <td>53e99784b7602d9701f3e140</td>\n",
       "      <td>[production technology, carbon fiber, present ...</td>\n",
       "      <td>zh</td>\n",
       "      <td>18.0</td>\n",
       "      <td>NaN</td>\n",
       "      <td>Present Situation of China Carbon Fiber Indust...</td>\n",
       "      <td>Synthetic Fiber in China</td>\n",
       "      <td>2009.0</td>\n",
       "    </tr>\n",
       "  </tbody>\n",
       "</table>\n",
       "</div>"
      ],
      "text/plain": [
       "                                             abstract  \\\n",
       "4   Determination of total sugar can serve to moni...   \n",
       "7   This paper discussed the planning and design m...   \n",
       "8   Rough set is a mathematical tool to deal with ...   \n",
       "11  We consider the problem of determining it(Qd),...   \n",
       "14  The carbon fiber used PAN as precursor is wide...   \n",
       "\n",
       "                                              authors  \\\n",
       "4   [{'name': 'LI Li-li', 'org': 'Yantai Institute...   \n",
       "7   [{'name': 'LIU Yu-qiong', 'org': 'School of Re...   \n",
       "8                                                 NaN   \n",
       "11                         [{'name': 'David Galvin'}]   \n",
       "14  [{'name': 'JIN Li-guo', 'org': 'China Syntheti...   \n",
       "\n",
       "                          id  \\\n",
       "4   53e99784b7602d9701f3e135   \n",
       "7   53e99784b7602d9701f3e139   \n",
       "8   53e99784b7602d9701f3e13a   \n",
       "11  53e99784b7602d9701f3e13d   \n",
       "14  53e99784b7602d9701f3e140   \n",
       "\n",
       "                                             keywords lang  n_citation  \\\n",
       "4   [metabolites, Jerusalem artichoke, total sugar...   zh         1.0   \n",
       "7   [Planning and design method, Mountainous regio...   zh         1.0   \n",
       "8   [Data Mining, Rough Set, Algorithm, Rules Extr...   zh         3.0   \n",
       "11                                                NaN   en         1.0   \n",
       "14  [production technology, carbon fiber, present ...   zh        18.0   \n",
       "\n",
       "                                           references  \\\n",
       "4                                                 NaN   \n",
       "7                                                 NaN   \n",
       "8                                                 NaN   \n",
       "11  [53e9aa61b7602d97033d1644, 53e9adb1b7602d97037...   \n",
       "14                                                NaN   \n",
       "\n",
       "                                                title  \\\n",
       "4   The effect of metabolites on the determination...   \n",
       "7   Planning and Design Method of Land Consolidati...   \n",
       "8             A Data Mining Based on Rough Set Theory   \n",
       "11  Independent sets of a xed size in the discrete...   \n",
       "14  Present Situation of China Carbon Fiber Indust...   \n",
       "\n",
       "                                     venue    year  \n",
       "4              Food Science and Technology  2012.0  \n",
       "7   Journal of Anhui Agricultural Sciences  2012.0  \n",
       "8                           Software Guide  2012.0  \n",
       "11                                     NaN     NaN  \n",
       "14                Synthetic Fiber in China  2009.0  "
      ]
     },
     "execution_count": 7,
     "metadata": {},
     "output_type": "execute_result"
    }
   ],
   "source": [
    "clean_df = df.drop(['pdf','url', 'volume', 'doi', 'isbn', 'issn','page_end','page_start', 'issue'],axis=1)\n",
    "clean_df.dropna(subset=['n_citation'], inplace=True)\n",
    "# clean_df['references'] = clean_df['references'].apply(lambda d: d if isinstance(d, list) else [])\n",
    "# sns.heatmap(clean_df.isnull(), cbar=False)\n",
    "clean_df.head()"
   ]
  },
  {
   "cell_type": "code",
   "execution_count": 8,
   "metadata": {},
   "outputs": [],
   "source": [
    "init_dict(clean_df)"
   ]
  },
  {
   "cell_type": "code",
   "execution_count": 9,
   "metadata": {},
   "outputs": [
    {
     "data": {
      "text/plain": [
       "262138"
      ]
     },
     "execution_count": 9,
     "metadata": {},
     "output_type": "execute_result"
    }
   ],
   "source": [
    "len(dict)"
   ]
  },
  {
   "cell_type": "code",
   "execution_count": 10,
   "metadata": {},
   "outputs": [
    {
     "data": {
      "text/plain": [
       "262138"
      ]
     },
     "execution_count": 10,
     "metadata": {},
     "output_type": "execute_result"
    }
   ],
   "source": [
    "clean_df[\"id\"].nunique()"
   ]
  },
  {
   "cell_type": "code",
   "execution_count": 11,
   "metadata": {},
   "outputs": [],
   "source": [
    "fill_dict()"
   ]
  },
  {
   "cell_type": "code",
   "execution_count": 12,
   "metadata": {},
   "outputs": [
    {
     "name": "stdout",
     "output_type": "stream",
     "text": [
      "[]\n",
      "[]\n",
      "3.814784579114817e-06\n",
      "[]\n",
      "[]\n",
      "3.814784579114817e-06\n",
      "[]\n",
      "[]\n",
      "3.814784579114817e-06\n",
      "[]\n",
      "['53e9aa61b7602d97033d1644', '53e9adb1b7602d97037b3f34', '53e99d81b7602d970263de6d', '53e9ae1cb7602d970382ae0f', '53e9b41bb7602d9703f14fae']\n",
      "3.814784579114817e-06\n",
      "[]\n",
      "[]\n",
      "3.814784579114817e-06\n",
      "[]\n",
      "[]\n",
      "3.814784579114817e-06\n",
      "[]\n",
      "[]\n",
      "3.814784579114817e-06\n",
      "[]\n",
      "[]\n",
      "3.814784579114817e-06\n",
      "['53e9980eb7602d9702023840']\n",
      "['53e99fb5b7602d9702890e18', '53e9b8a8b7602d97044831bd', '53e997f4b7602d9701ff5c74', '56d83342dabfae2eee2fde9b', '53e99fd7b7602d97028b6477', '53e9acc4b7602d97036a52a9', '53e99b0ab7602d970239c824', '53e9a26bb7602d9702b73450', '56d83346dabfae2eee2ff0ad', '56d83351dabfae2eee302fca', '55a447622401c6de3b8c92c0', '53e9b091b7602d9703af78ae', '53e9aa32b7602d970339d7cb', '53e9a6cab7602d9702ffd116', '53e9ad18b7602d97036fbc02', '53e9ab20b7602d97034a4f94', '53e9ae11b7602d97038219ca', '53e9af5ab7602d970399a87f', '53e99c44b7602d97024f6287', '53e9ae8ab7602d97038ad76c', '53e9ab55b7602d97034edf32', '53e9aea4b7602d97038c6864', '56d83341dabfae2eee2fdb27', '53e9aea4b7602d97038c69a6', '53e9a48eb7602d9702dae5ff', '53e9ab42b7602d97034d2937', '53e9b844b7602d97044026bf', '53e9ac2eb7602d97035f10b6', '53e99a1fb7602d9702272971', '53e99b2cb7602d97023c4ba4', '53e9ae4eb7602d9703865fab', '53e999a5b7602d97021e9304', '53e9abb2b7602d9703561bfa', '53e99809b7602d970201dc55', '53e9a735b7602d9703070132', '56d8334ddabfae2eee3018cc', '56d83341dabfae2eee2fda9a', '53e9aa1db7602d970338d76d']\n",
      "3.814784579114817e-06\n",
      "[]\n",
      "[]\n",
      "3.814784579114817e-06\n"
     ]
    }
   ],
   "source": [
    "for id in list(dict.keys())[:10]:\n",
    "    print(dict[id].inlinks)\n",
    "    print(dict[id].outlinks)\n",
    "    print(dict[id].page_rank)"
   ]
  },
  {
   "cell_type": "code",
   "execution_count": 13,
   "metadata": {},
   "outputs": [],
   "source": [
    "reset_page_rank()"
   ]
  },
  {
   "cell_type": "code",
   "execution_count": 128,
   "metadata": {},
   "outputs": [],
   "source": [
    "# refer here  : http://dpk.io/pagerank\n",
    "def page_rank(maxiters, epsilon, damping, graph):\n",
    "    for i in range(maxiters):\n",
    "        print(i)\n",
    "        old_ranks = {}\n",
    "        for id in graph.keys():\n",
    "            old_ranks[id] = graph[id].page_rank\n",
    "            page_rank = (1-damping)/len(graph.keys())\n",
    "            citations = graph[id].inlinks\n",
    "            for cite_id in citations:\n",
    "                page_rank += damping*(graph[cite_id].page_rank/len(graph[cite_id].outlinks))\n",
    "#             print(page_rank)\n",
    "#             if len(citations)!=0:\n",
    "            graph[id].page_rank = page_rank\n",
    "        delta = sum([abs(old_ranks[id] - graph[id].page_rank) for id in graph.keys()])\n",
    "        if delta < epsilon:\n",
    "            break\n"
   ]
  },
  {
   "cell_type": "code",
   "execution_count": 8,
   "metadata": {},
   "outputs": [],
   "source": [
    "for id in list(dict.keys())[:1000]:\n",
    "    print(dict[id].page_rank)"
   ]
  },
  {
   "cell_type": "code",
   "execution_count": 9,
   "metadata": {},
   "outputs": [],
   "source": [
    "def clean_dataFrame(df):\n",
    "    df.drop(['pdf','url', 'volume', 'doi', 'isbn', 'issn','page_end','page_start', 'issue'],axis=1, inplace=True)\n",
    "    df.dropna(subset=['n_citation'], inplace=True)\n",
    "    "
   ]
  },
  {
   "cell_type": "code",
   "execution_count": 10,
   "metadata": {},
   "outputs": [],
   "source": [
    "def read_files(dir_path, graph):\n",
    "    count = 0\n",
    "    for file_name in os.listdir(dir_path):\n",
    "        count += 1\n",
    "        file_path = os.path.join(dir_path, file_name)\n",
    "        print(file_path)\n",
    "        with open(file_path, \"r\") as f:\n",
    "            content = f.readlines()\n",
    "        for i, line in enumerate(content):\n",
    "            content[i] = json.loads(line)\n",
    "        df = pd.DataFrame(content)\n",
    "        clean_dataFrame(df)\n",
    "        init_dict(df, graph)\n",
    "        if count > 5:\n",
    "            break"
   ]
  },
  {
   "cell_type": "code",
   "execution_count": 11,
   "metadata": {},
   "outputs": [
    {
     "name": "stdout",
     "output_type": "stream",
     "text": [
      "./aminer_papers_0\\aminer_papers_0.txt\n",
      "./aminer_papers_0\\aminer_papers_1.txt\n",
      "./aminer_papers_0\\aminer_papers_10.txt\n",
      "./aminer_papers_0\\aminer_papers_11.txt\n",
      "./aminer_papers_0\\aminer_papers_12.txt\n",
      "./aminer_papers_0\\aminer_papers_13.txt\n"
     ]
    }
   ],
   "source": [
    "citation_graph = {}\n",
    "read_files(\"./aminer_papers_0\", citation_graph)"
   ]
  },
  {
   "cell_type": "code",
   "execution_count": 13,
   "metadata": {},
   "outputs": [
    {
     "data": {
      "text/plain": [
       "2658532"
      ]
     },
     "execution_count": 13,
     "metadata": {},
     "output_type": "execute_result"
    }
   ],
   "source": [
    "len(citation_graph)"
   ]
  },
  {
   "cell_type": "code",
   "execution_count": 15,
   "metadata": {},
   "outputs": [],
   "source": [
    "with open(\"unfilled_dict.pkl\", \"wb\") as f:\n",
    "    pickle.dump(citation_graph, f)"
   ]
  },
  {
   "cell_type": "code",
   "execution_count": 16,
   "metadata": {},
   "outputs": [],
   "source": [
    "fill_dict(citation_graph)"
   ]
  },
  {
   "cell_type": "code",
   "execution_count": 129,
   "metadata": {},
   "outputs": [
    {
     "name": "stdout",
     "output_type": "stream",
     "text": [
      "0\n",
      "1\n",
      "2\n",
      "3\n",
      "4\n",
      "5\n",
      "6\n",
      "7\n",
      "8\n",
      "9\n",
      "10\n",
      "11\n",
      "12\n",
      "13\n",
      "14\n",
      "15\n",
      "16\n",
      "17\n",
      "18\n",
      "19\n",
      "20\n",
      "21\n",
      "22\n",
      "23\n",
      "24\n",
      "25\n"
     ]
    }
   ],
   "source": [
    "reset_page_rank(citation_graph)\n",
    "page_rank(100,1.0e-8,0.85, citation_graph)"
   ]
  },
  {
   "cell_type": "code",
   "execution_count": 24,
   "metadata": {},
   "outputs": [
    {
     "name": "stdout",
     "output_type": "stream",
     "text": [
      "385267\n"
     ]
    }
   ],
   "source": [
    "page_ranks = set()\n",
    "for id in citation_graph.keys():\n",
    "    page_ranks.add(citation_graph[id].page_rank)\n",
    "print(len(page_ranks))"
   ]
  },
  {
   "cell_type": "code",
   "execution_count": 25,
   "metadata": {},
   "outputs": [],
   "source": [
    "with open(\"page_rank_dict.pkl\", \"wb\") as f:\n",
    "    pickle.dump(citation_graph, f)"
   ]
  },
  {
   "cell_type": "code",
   "execution_count": 34,
   "metadata": {},
   "outputs": [
    {
     "name": "stdout",
     "output_type": "stream",
     "text": [
      "['aminer_papers_0.txt', 'aminer_papers_1.txt', 'aminer_papers_10.txt', 'aminer_papers_11.txt', 'aminer_papers_12.txt', 'aminer_papers_13.txt', 'aminer_papers_14.txt', 'aminer_papers_15.txt', 'aminer_papers_16.txt', 'aminer_papers_17.txt', 'aminer_papers_18.txt', 'aminer_papers_19.txt', 'aminer_papers_2.txt', 'aminer_papers_20.txt', 'aminer_papers_21.txt', 'aminer_papers_22.txt', 'aminer_papers_23.txt', 'aminer_papers_24.txt', 'aminer_papers_25.txt', 'aminer_papers_26.txt', 'aminer_papers_27.txt', 'aminer_papers_28.txt', 'aminer_papers_29.txt', 'aminer_papers_3.txt', 'aminer_papers_4.txt', 'aminer_papers_5.txt', 'aminer_papers_6.txt', 'aminer_papers_7.txt', 'aminer_papers_8.txt', 'aminer_papers_9.txt']\n"
     ]
    }
   ],
   "source": [
    "print(os.listdir(\"./aminer_papers_0\"))"
   ]
  },
  {
   "cell_type": "code",
   "execution_count": 3,
   "metadata": {},
   "outputs": [],
   "source": [
    "with open('page_rank_dict.pkl', \"rb\") as file:\n",
    "    citation_graph = pickle.load(file)"
   ]
  },
  {
   "cell_type": "code",
   "execution_count": 6,
   "metadata": {},
   "outputs": [
    {
     "data": {
      "text/plain": [
       "2658532"
      ]
     },
     "execution_count": 6,
     "metadata": {},
     "output_type": "execute_result"
    }
   ],
   "source": [
    "len(citation_graph)"
   ]
  },
  {
   "cell_type": "code",
   "execution_count": 157,
   "metadata": {},
   "outputs": [],
   "source": [
    "class Author:\n",
    "    def __init__(self):\n",
    "        self.author_org_list = []\n",
    "        self.paper_list = []\n",
    "        self.citations = []\n",
    "        self.author_score = 0\n",
    "        self.author_score_2 = 0\n",
    "        self.author_score_list = []\n",
    "        self.h_index = 0\n",
    "        \n",
    "def create_author_map(graph):\n",
    "    authors_map = {}\n",
    "    for paper_id in graph.keys():\n",
    "        for a_name, a_org in graph[paper_id].authors:\n",
    "            if a_name and len(a_name) != 0 and \"null\" not in a_name:\n",
    "                if a_name not in authors_map.keys():\n",
    "                    authors_map[a_name] = Author()\n",
    "                authors_map[a_name].author_org_list.append(a_org)\n",
    "                authors_map[a_name].paper_list.append(paper_id)\n",
    "                authors_map[a_name].citations.append(len(graph[paper_id].inlinks))\n",
    "                authors_map[a_name].author_score += graph[paper_id].page_rank\n",
    "                authors_map[a_name].author_score_list.append(graph[paper_id].page_rank)\n",
    "        \n",
    "    for a_name in authors_map.keys():\n",
    "#         authors_map[a_name].author_score = authors_map[a_name].author_score / len(authors_map[a_name].paper_list)\n",
    "        authors_map[a_name].author_score_2 = np.median(authors_map[a_name].author_score_list)\n",
    "    \n",
    "    return authors_map\n",
    "        "
   ]
  },
  {
   "cell_type": "code",
   "execution_count": 158,
   "metadata": {},
   "outputs": [],
   "source": [
    "author_map = create_author_map(citation_graph)"
   ]
  },
  {
   "cell_type": "code",
   "execution_count": null,
   "metadata": {},
   "outputs": [],
   "source": [
    "author_names[:100]"
   ]
  },
  {
   "cell_type": "code",
   "execution_count": 131,
   "metadata": {},
   "outputs": [],
   "source": [
    "def calc_h_index(author_map):\n",
    "    for a_name in author_map.keys():\n",
    "        author_map[a_name].citations.sort()\n",
    "        i = 0\n",
    "        l = len(author_map[a_name].citations)\n",
    "        while i < l and author_map[a_name].citations[l-1-i] > i:\n",
    "            i += 1\n",
    "        author_map[a_name].h_index = i\n",
    "        \n",
    "        \n",
    "        \n",
    "        "
   ]
  },
  {
   "cell_type": "code",
   "execution_count": 161,
   "metadata": {},
   "outputs": [],
   "source": [
    "calc_h_index(author_map)\n"
   ]
  },
  {
   "cell_type": "code",
   "execution_count": 122,
   "metadata": {},
   "outputs": [],
   "source": [
    "#[((citation_graph[x].year, sum([citation_graph[x].n_citations if for y in author_map['WANG Wei'].paper_list])) for x in author_map['WANG Wei'].paper_list))\n",
    "\n",
    "def year_wise_citations(a_name):\n",
    "    paper_list = author_map[a_name].paper_list\n",
    "    print(len(paper_list))\n",
    "    from collections import defaultdict\n",
    "    d = defaultdict(int)\n",
    "    for p_id in paper_list:\n",
    "        d[citation_graph[p_id].year] += len(citation_graph[p_id].inlinks)\n",
    "    return sorted([(k,d[k]) for k in d.keys()], key = lambda x: x[0])\n"
   ]
  },
  {
   "cell_type": "code",
   "execution_count": 9,
   "metadata": {},
   "outputs": [],
   "source": [
    "with open(\"author_map.pkl\", \"rb\") as f:\n",
    "    author_map = pickle.load(f)"
   ]
  },
  {
   "cell_type": "code",
   "execution_count": 10,
   "metadata": {},
   "outputs": [],
   "source": [
    "def top_n(n, auths):\n",
    "    return auths[:n]"
   ]
  },
  {
   "cell_type": "code",
   "execution_count": 163,
   "metadata": {},
   "outputs": [],
   "source": [
    "author_names_h = sorted(author_map.keys(), key = lambda x: author_map[x].h_index)[::-1]\n",
    "author_names = sorted(author_map.keys(), key = lambda x: author_map[x].author_score_2)[::-1]\n",
    "\n",
    "top_n_our_index = top_n(5, author_names)\n",
    "top_n_h_index = top_n(5, author_names_h)"
   ]
  },
  {
   "cell_type": "code",
   "execution_count": 171,
   "metadata": {},
   "outputs": [
    {
     "data": {
      "text/plain": [
       "['Matthias Mann',\n",
       " 'Stable URL',\n",
       " 'Eric S. Lander',\n",
       " 'al. et',\n",
       " 'Hugues Hoppe',\n",
       " 'Thomas A. Henzinger',\n",
       " 'Andrew Zisserman',\n",
       " 'Jennifer Widom',\n",
       " 'Michael I. Jordan',\n",
       " 'Luca Cardelli',\n",
       " 'Amos Tversky',\n",
       " 'Andrew Strominger',\n",
       " 'Geoffrey E. Hinton',\n",
       " 'Moni Naor',\n",
       " 'Rakesh Agrawal',\n",
       " 'C. A. R. Hoare',\n",
       " 'Stephen Grossberg',\n",
       " 'Christine G. Elsik',\n",
       " 'Hugh M. Robertson',\n",
       " 'S. J. Bame',\n",
       " 'George M. Weinstock',\n",
       " 'Daphne Koller',\n",
       " 'Albert Bandura',\n",
       " 'et al',\n",
       " 'Scott Shenker',\n",
       " 'Christos Faloutsos',\n",
       " 'Ken Kennedy',\n",
       " 'Hector Garcia-Molina',\n",
       " 'Stanislas Dehaene',\n",
       " 'J. Fraser Stoddart',\n",
       " 'Shizuo Akira',\n",
       " 'Robin Milner',\n",
       " 'Moshe Y. Vardi',\n",
       " 'Peer Bork',\n",
       " 'Edward Witten',\n",
       " 'Jr .',\n",
       " 'Gerald M. Rubin',\n",
       " 'Ronald C. Kessler',\n",
       " 'Timothy A. Springer',\n",
       " 'Carlo M. Croce',\n",
       " 'Ralph M. Steinman',\n",
       " 'Michael Karin',\n",
       " 'Richard A. Flavell',\n",
       " 'Robert Tibshirani',\n",
       " 'David Botstein',\n",
       " 'Nathan Seiberg',\n",
       " 'vu',\n",
       " 'Dan Klein',\n",
       " 'Michael F. Cohen',\n",
       " 'Jonathan D. Cohen']"
      ]
     },
     "execution_count": 171,
     "metadata": {},
     "output_type": "execute_result"
    }
   ],
   "source": [
    "author_names_h[:50]"
   ]
  },
  {
   "cell_type": "code",
   "execution_count": 165,
   "metadata": {},
   "outputs": [
    {
     "data": {
      "text/plain": [
       "534355"
      ]
     },
     "execution_count": 165,
     "metadata": {},
     "output_type": "execute_result"
    }
   ],
   "source": [
    "author_names.index('Matthias Mann')"
   ]
  },
  {
   "cell_type": "code",
   "execution_count": 170,
   "metadata": {},
   "outputs": [
    {
     "data": {
      "text/plain": [
       "['clifford stein',\n",
       " 'thomas h cormen',\n",
       " 'Robert A. Meyers',\n",
       " 'C. M. Zou',\n",
       " 'H. B. Yao',\n",
       " 'P. J. Stanskas',\n",
       " 'W. F. Henning',\n",
       " 'J. B. Cumming',\n",
       " 'G. H. Heintzelman',\n",
       " 'Ming Yang Kao',\n",
       " 'E. D. Dijkstra',\n",
       " 'J. B. Sykes',\n",
       " 'G. Barreira',\n",
       " 'G. Barbier',\n",
       " 'D. Barancourt',\n",
       " 'F. J. Rohlf',\n",
       " 'J.-L. Agram',\n",
       " 'M. Agelou',\n",
       " 'V. RUBIN',\n",
       " 'charles e leiserson',\n",
       " 'ronald l rivest',\n",
       " 'Dennis Joseph',\n",
       " 'Roy Jenne',\n",
       " 'C. Ropelewski',\n",
       " 'J. Janowiak',\n",
       " 'W. Higgins',\n",
       " 'M. Iredell',\n",
       " 'L. Gandin',\n",
       " 'r p cavileer',\n",
       " 's ames',\n",
       " 'istvan simon',\n",
       " 'laszlo tisza',\n",
       " 'j r pellam',\n",
       " 'e maxwell',\n",
       " 'r parshad',\n",
       " 'r j harrison',\n",
       " 'w b nowak',\n",
       " 'max klein',\n",
       " 'j w toomey',\n",
       " 'renata rapuano',\n",
       " 'Thomas M. Mitchell',\n",
       " 'L. C. Levitt',\n",
       " 'John David Jackson',\n",
       " 'JOANIE F. NEWHART',\n",
       " 'm r schroeder',\n",
       " 'teuvo kohonen',\n",
       " 'H. Parsons',\n",
       " 'V. J. Martin',\n",
       " 'B. Panzer-Steindel',\n",
       " 'G. Govi',\n",
       " 'D. Marras',\n",
       " 'michael a horne',\n",
       " 'marc zabeau',\n",
       " 'm t kuiper',\n",
       " 'johan paleman',\n",
       " 'jerina pot',\n",
       " 'adrie friters',\n",
       " 'm hornes',\n",
       " 'theo van de lee',\n",
       " 'martin reijans',\n",
       " 'marjo bleeker',\n",
       " 'GUNNAR EKLUND',\n",
       " 'S. G. Steadman',\n",
       " 'Y. Y. Chu',\n",
       " 'G. H. Xu',\n",
       " 'V. Nanal',\n",
       " 'S. Y. Fung',\n",
       " 'S. Ueno-Hayashi',\n",
       " 'A. Kumagai',\n",
       " 'W. Eldredge',\n",
       " 'L. Ahle',\n",
       " 'William C. Jakes',\n",
       " 'Richard E. Woods',\n",
       " 'erik hilsdale',\n",
       " 'Haken H',\n",
       " 'Lawrence R. Rabiner',\n",
       " 'G. D. Rochester',\n",
       " 'Mary Ann Marcinkiewicz',\n",
       " 'Reka Albert',\n",
       " 'Albert-Laszlo Barabasiand',\n",
       " 'S Haykin',\n",
       " 'Y. Linde',\n",
       " 'russell c eberhart',\n",
       " 'james kennedy',\n",
       " 'Zh. Karamyan',\n",
       " 'A. A. Ivanilov',\n",
       " 'H. Gulkanyan',\n",
       " 'N. Grigoryan',\n",
       " 'M. Atayan',\n",
       " 'Mike Stephens',\n",
       " 'J Canny',\n",
       " 'Feuer Eric J',\n",
       " 'Samuels Alicia',\n",
       " 'Ghafoor Asma',\n",
       " 'Murray Taylor',\n",
       " 'Tiwari Ram C',\n",
       " 'C. E. de Saclay',\n",
       " 'S. Bizzaglia',\n",
       " 'Heather Berry',\n",
       " 'R. R. Sokal']"
      ]
     },
     "execution_count": 170,
     "metadata": {},
     "output_type": "execute_result"
    }
   ],
   "source": [
    "author_names[:100]"
   ]
  },
  {
   "cell_type": "code",
   "execution_count": 173,
   "metadata": {},
   "outputs": [
    {
     "data": {
      "text/plain": [
       "['53e99822b7602d9702043876']"
      ]
     },
     "execution_count": 173,
     "metadata": {},
     "output_type": "execute_result"
    }
   ],
   "source": [
    "author_map['istvan simon'].paper_list"
   ]
  },
  {
   "cell_type": "code",
   "execution_count": 149,
   "metadata": {},
   "outputs": [
    {
     "name": "stdout",
     "output_type": "stream",
     "text": [
      "1208\n",
      "WANG Wei [(1985.0, 0), (2005.0, 0), (2006.0, 0), (2007.0, 0), (2008.0, 0), (2009.0, 0), (2010.0, 0), (2011.0, 0), (2012.0, 0), (2013.0, 0)]\n",
      "1127\n",
      "ZHANG Wei [(2003.0, 1), (2005.0, 0), (2006.0, 1), (2007.0, 0), (2008.0, 0), (2009.0, 0), (2010.0, 0), (2011.0, 0), (2012.0, 0), (2013.0, 0)]\n",
      "930\n",
      "LI Wei [(1998.0, 0), (2005.0, 0), (2006.0, 0), (2007.0, 0), (2008.0, 0), (2009.0, 0), (2010.0, 0), (2011.0, 0), (2012.0, 0), (2013.0, 0)]\n",
      "898\n",
      "wang [(2001.0, 1), (2003.0, 0), (2004.0, 1), (2005.0, 9), (2006.0, 18), (2007.0, 30), (2008.0, 11), (2009.0, 10), (2010.0, 3), (2011.0, 1), (2012.0, 1), (2013.0, 0), (2014.0, 0)]\n",
      "863\n",
      "li [(1998.0, 0), (1999.0, 6), (2000.0, 0), (2001.0, 0), (2003.0, 0), (2004.0, 1), (2005.0, 7), (2006.0, 23), (2007.0, 21), (2008.0, 9), (2009.0, 3), (2010.0, 3), (2011.0, 4), (2012.0, 2), (2013.0, 0)]\n",
      "846\n",
      "zhang [(1991.0, 0), (2001.0, 0), (2002.0, 0), (2003.0, 2), (2004.0, 1), (2005.0, 8), (2006.0, 14), (2007.0, 18), (2008.0, 6), (2009.0, 10), (2010.0, 1), (2011.0, 5), (2012.0, 0), (2013.0, 0)]\n",
      "804\n",
      "ZHANG Li [(1998.0, 0), (2005.0, 0), (2006.0, 0), (2007.0, 0), (2008.0, 0), (2009.0, 0), (2010.0, 0), (2011.0, 0), (2012.0, 0), (2013.0, 0), (nan, 0)]\n",
      "802\n",
      "WANG Yan [(1998.0, 0), (2005.0, 0), (2006.0, 0), (2007.0, 0), (2008.0, 0), (2009.0, 0), (2010.0, 0), (2011.0, 0), (2012.0, 0), (2013.0, 0), (nan, 0)]\n",
      "792\n",
      "LI Li [(2005.0, 0), (2006.0, 0), (2007.0, 0), (2008.0, 0), (2009.0, 0), (2010.0, 0), (2011.0, 0), (2012.0, 0), (2013.0, 0)]\n",
      "752\n",
      "LIU Wei [(2005.0, 0), (2006.0, 0), (2007.0, 0), (2008.0, 0), (2009.0, 0), (2010.0, 0), (2011.0, 0), (2012.0, 0), (2013.0, 0)]\n",
      "746\n",
      "LI Yan [(2005.0, 0), (2006.0, 0), (2007.0, 0), (2008.0, 0), (2009.0, 0), (2010.0, 0), (2011.0, 0), (2012.0, 0), (2013.0, 0)]\n",
      "727\n",
      "LI Jing [(2005.0, 0), (2006.0, 0), (2007.0, 0), (2008.0, 0), (2009.0, 0), (2010.0, 0), (2011.0, 0), (2012.0, 0), (2013.0, 0)]\n",
      "725\n",
      "ZHANG Yan [(2005.0, 0), (2006.0, 0), (2007.0, 0), (2008.0, 0), (2009.0, 0), (2010.0, 0), (2011.0, 0), (2012.0, 0), (2013.0, 0)]\n",
      "718\n",
      "WANG Jing [(2005.0, 0), (2006.0, 0), (2007.0, 0), (2008.0, 0), (2009.0, 0), (2010.0, 0), (2011.0, 0), (2012.0, 0), (2013.0, 0)]\n",
      "713\n",
      "LI Jun [(2004.0, 0), (2005.0, 0), (2006.0, 0), (2007.0, 0), (2008.0, 0), (2009.0, 0), (2010.0, 0), (2011.0, 0), (2012.0, 0), (2013.0, 0)]\n",
      "707\n",
      "ZHANG Lei [(2005.0, 0), (2006.0, 0), (2007.0, 0), (2008.0, 0), (2009.0, 0), (2010.0, 0), (2011.0, 0), (2012.0, 0), (2013.0, 0)]\n",
      "698\n",
      "WANG Jun [(2005.0, 0), (2006.0, 0), (2007.0, 0), (2008.0, 0), (2009.0, 0), (2010.0, 0), (2011.0, 0), (2012.0, 0), (2013.0, 0)]\n",
      "683\n",
      "WANG Lei [(2005.0, 0), (2006.0, 0), (2007.0, 0), (2008.0, 0), (2009.0, 0), (2010.0, 0), (2011.0, 0), (2012.0, 0), (2013.0, 0)]\n",
      "674\n",
      "ZHANG Jing [(2005.0, 0), (2006.0, 0), (2007.0, 0), (2008.0, 0), (2009.0, 0), (2010.0, 0), (2011.0, 0), (2012.0, 0), (2013.0, 0)]\n",
      "670\n",
      "WANG Li [(1999.0, 0), (2005.0, 0), (2006.0, 0), (2007.0, 0), (2008.0, 0), (2009.0, 0), (2010.0, 0), (2011.0, 0), (2012.0, 0), (2013.0, 0)]\n",
      "625\n",
      "WANG Jian [(2005.0, 0), (2006.0, 0), (2007.0, 0), (2008.0, 0), (2009.0, 0), (2010.0, 0), (2011.0, 0), (2012.0, 0), (2013.0, 0)]\n",
      "608\n",
      "liu [(2002.0, 0), (2003.0, 0), (2004.0, 0), (2005.0, 9), (2006.0, 10), (2007.0, 12), (2008.0, 9), (2009.0, 6), (2010.0, 2), (2011.0, 2), (2012.0, 1), (2013.0, 1)]\n",
      "550\n",
      "Wei Wang [(1984.0, 0), (1985.0, 0), (1992.0, 0), (1993.0, 0), (1994.0, 2), (1995.0, 1), (1996.0, 7), (1997.0, 5), (1998.0, 8), (1999.0, 0), (2000.0, 2), (2001.0, 7), (2002.0, 17), (2003.0, 33), (2004.0, 20), (2005.0, 28), (2006.0, 38), (2007.0, 27), (2008.0, 38), (2009.0, 51), (2010.0, 23), (2011.0, 3), (2012.0, 1), (2013.0, 0), (2014.0, 0), (nan, 0), (nan, 0), (nan, 0), (nan, 0), (nan, 0), (nan, 0)]\n",
      "27\n",
      "H. Fujii [(nan, 252), (1977.0, 1), (1983.0, 0), (1985.0, 1), (1992.0, 2), (1993.0, 2), (1996.0, 7), (1997.0, 0), (1998.0, 0), (1999.0, 0), (2000.0, 0), (2001.0, 1), (2002.0, 0), (nan, 0), (2004.0, 0), (nan, 0), (2009.0, 0)]\n",
      "26\n",
      "S. Eidelman [(nan, 252), (1984.0, 0), (1998.0, 0), (2001.0, 0), (2002.0, 0), (2003.0, 9), (nan, 0), (1991.0, 0), (2004.0, 0), (2005.0, 4), (2006.0, 0), (2007.0, 1), (2008.0, 1), (nan, 0), (nan, 0)]\n",
      "567\n",
      "WANG Hui [(2005.0, 0), (2006.0, 0), (2007.0, 0), (2008.0, 0), (2009.0, 0), (2010.0, 0), (2011.0, 0), (2012.0, 0), (2013.0, 0)]\n",
      "19\n",
      "Y. Enari [(nan, 252), (2003.0, 9), (nan, 0), (2001.0, 0), (2002.0, 0), (2004.0, 0), (2005.0, 4), (2007.0, 0), (2008.0, 0), (2009.0, 0), (2010.0, 1), (nan, 0), (nan, 0)]\n",
      "18\n",
      "C. Fukunaga [(nan, 252), (1986.0, 3), (1990.0, 6), (1994.0, 0), (1996.0, 0), (2001.0, 0), (2002.0, 0), (2003.0, 9), (nan, 0), (nan, 0), (2004.0, 0), (2009.0, 0)]\n",
      "560\n",
      "ZHANG Hui [(2005.0, 0), (2006.0, 0), (2007.0, 0), (2008.0, 0), (2009.0, 0), (2010.0, 0), (2011.0, 0), (2012.0, 0), (2013.0, 0)]\n",
      "17\n",
      "N. Gabyshev [(nan, 252), (2003.0, 9), (nan, 0), (2002.0, 0), (2004.0, 0), (2005.0, 4), (2006.0, 0), (2007.0, 1), (2008.0, 1), (nan, 0), (nan, 0)]\n",
      "541\n",
      "CHEN Wei [(2005.0, 0), (2006.0, 0), (2007.0, 0), (2008.0, 0), (2009.0, 0), (2010.0, 0), (2011.0, 0), (2012.0, 0), (2013.0, 0)]\n",
      "539\n",
      "WANG Ying [(2005.0, 0), (2006.0, 0), (2007.0, 0), (2008.0, 0), (2009.0, 0), (2010.0, 0), (2011.0, 0), (2012.0, 0), (2013.0, 0), (nan, 0)]\n",
      "539\n",
      "ZHANG Ying [(2005.0, 0), (2006.0, 0), (2007.0, 0), (2008.0, 0), (2009.0, 0), (2010.0, 0), (2011.0, 0), (2012.0, 0), (2013.0, 0)]\n",
      "532\n",
      "chen [(1993.0, 3), (1994.0, 0), (1995.0, 0), (1998.0, 0), (2000.0, 3), (2001.0, 0), (2004.0, 1), (2005.0, 10), (2006.0, 14), (2007.0, 10), (2008.0, 9), (2009.0, 4), (2010.0, 1), (2011.0, 2), (2012.0, 0), (2013.0, 0)]\n",
      "535\n",
      "ZHANG Jun [(2005.0, 0), (2006.0, 0), (2007.0, 0), (2008.0, 0), (2009.0, 0), (2010.0, 0), (2011.0, 0), (2012.0, 0), (2013.0, 0)]\n",
      "532\n",
      "ZHANG Yong [(2004.0, 0), (2005.0, 0), (2006.0, 0), (2007.0, 0), (2008.0, 0), (2009.0, 0), (2010.0, 0), (2011.0, 0), (2012.0, 0), (2013.0, 0)]\n",
      "530\n",
      "LIU Jun [(2005.0, 0), (2006.0, 0), (2007.0, 0), (2008.0, 1), (2009.0, 0), (2010.0, 0), (2011.0, 0), (2012.0, 0), (2013.0, 0)]\n",
      "520\n",
      "ZHANG Jian [(2005.0, 0), (2006.0, 0), (2007.0, 0), (2008.0, 0), (2009.0, 0), (2010.0, 0), (2011.0, 0), (2012.0, 0), (2013.0, 0)]\n",
      "503\n",
      "Y. Wang [(2008.0, 28), (nan, 1), (1977.0, 0), (1979.0, 0), (1981.0, 0), (1982.0, 17), (1983.0, 0), (1984.0, 0), (1986.0, 0), (1987.0, 1), (1988.0, 2), (1989.0, 8), (1990.0, 1), (1991.0, 0), (1992.0, 11), (1993.0, 9), (1994.0, 8), (1995.0, 13), (1996.0, 6), (1997.0, 1), (1998.0, 29), (1999.0, 5), (2000.0, 7), (2001.0, 32), (2002.0, 0), (2003.0, 19), (2004.0, 39), (2005.0, 10), (2006.0, 15), (2007.0, 29), (2009.0, 26), (2010.0, 26), (2011.0, 1), (2013.0, 0), (nan, 1), (nan, 0), (nan, 0), (2014.0, 0), (nan, 0), (nan, 0), (2012.0, 0), (nan, 1)]\n",
      "507\n",
      "ZHANG Jie [(2005.0, 0), (2006.0, 0), (2007.0, 0), (2008.0, 0), (2009.0, 0), (2010.0, 0), (2011.0, 0), (2012.0, 0), (2013.0, 0)]\n",
      "497\n",
      "ZHANG Yu [(2005.0, 0), (2006.0, 0), (2007.0, 0), (2008.0, 0), (2009.0, 0), (2010.0, 0), (2011.0, 0), (2012.0, 0), (2013.0, 0)]\n",
      "453\n",
      "J. Wang [(1971.0, 0), (1977.0, 0), (1978.0, 2), (1980.0, 1), (1983.0, 0), (1984.0, 0), (1985.0, 24), (1987.0, 0), (1988.0, 0), (1989.0, 2), (1990.0, 6), (1991.0, 3), (1992.0, 10), (1993.0, 2), (1994.0, 4), (1995.0, 1), (1996.0, 770), (1997.0, 31), (1998.0, 26), (1999.0, 15), (2000.0, 18), (2001.0, 2), (2002.0, 18), (2003.0, 14), (2004.0, 46), (2005.0, 12), (2006.0, 16), (2007.0, 19), (2008.0, 17), (2009.0, 10), (2010.0, 22), (2011.0, 4), (2012.0, 1), (nan, 0), (nan, 0), (nan, 0), (nan, 0), (nan, 0), (nan, 0), (nan, 0), (nan, 0)]\n",
      "493\n",
      "WANG Yong [(2005.0, 0), (2006.0, 0), (2007.0, 0), (2008.0, 0), (2009.0, 0), (2010.0, 0), (2011.0, 0), (2012.0, 0), (2013.0, 0)]\n",
      "491\n",
      "LIU Yan [(2005.0, 0), (2006.0, 0), (2007.0, 0), (2008.0, 0), (2009.0, 0), (2010.0, 0), (2011.0, 0), (2012.0, 0), (2013.0, 0)]\n",
      "485\n",
      "LIU Ying [(1999.0, 0), (2005.0, 0), (2006.0, 0), (2007.0, 0), (2008.0, 0), (2009.0, 0), (2010.0, 0), (2011.0, 1), (2012.0, 0), (2013.0, 0)]\n",
      "479\n",
      "LI Hui [(2005.0, 0), (2006.0, 0), (2007.0, 0), (2008.0, 0), (2009.0, 0), (2010.0, 0), (2011.0, 0), (2012.0, 0), (2013.0, 0)]\n",
      "453\n",
      "vu [(1987.0, 1), (1989.0, 2), (1991.0, 0), (1992.0, 0), (1994.0, 9), (1995.0, 0), (1996.0, 14), (1997.0, 54), (1998.0, 47), (1999.0, 70), (2000.0, 53), (2001.0, 31), (2002.0, 43), (2003.0, 22), (2004.0, 24), (2005.0, 84), (2006.0, 32), (2007.0, 10), (2008.0, 11), (2009.0, 14), (2010.0, 15), (2011.0, 2), (2012.0, 0), (2014.0, 0)]\n",
      "466\n",
      "LIU Yang [(2005.0, 0), (2006.0, 0), (2007.0, 0), (2008.0, 0), (2009.0, 0), (2010.0, 0), (2011.0, 0), (2012.0, 0), (2013.0, 0)]\n",
      "446\n",
      "J. Zhang [(nan, 0), (1984.0, 1), (1986.0, 0), (1987.0, 0), (1989.0, 0), (1990.0, 0), (1991.0, 0), (1992.0, 6), (1993.0, 2), (1994.0, 10), (1995.0, 11), (1996.0, 5), (1997.0, 28), (1998.0, 6), (1999.0, 14), (2000.0, 12), (2001.0, 0), (2002.0, 10), (2003.0, 22), (2004.0, 18), (2005.0, 10), (2006.0, 12), (2007.0, 42), (2008.0, 40), (2009.0, 17), (2010.0, 14), (nan, 0), (2011.0, 0), (2012.0, 0), (nan, 0), (nan, 0), (nan, 0), (2013.0, 0), (nan, 0)]\n",
      "455\n",
      "LIU Li [(2005.0, 0), (2006.0, 0), (2007.0, 0), (2008.0, 0), (2009.0, 0), (2010.0, 0), (2011.0, 0), (2012.0, 0), (2013.0, 0)]\n",
      "453\n",
      "ZHANG Yi [(2005.0, 0), (2006.0, 0), (2007.0, 0), (2008.0, 0), (2009.0, 0), (2010.0, 0), (2011.0, 0), (2012.0, 0), (2013.0, 0)]\n",
      "451\n",
      "LI Jie [(2005.0, 0), (2006.0, 0), (2007.0, 0), (2008.0, 0), (2009.0, 0), (2010.0, 0), (2011.0, 0), (2012.0, 0), (2013.0, 0)]\n",
      "450\n",
      "ZHANG Hong [(2005.0, 0), (2006.0, 0), (2007.0, 0), (2008.0, 0), (2009.0, 0), (2010.0, 0), (2011.0, 0), (2012.0, 0), (2013.0, 0)]\n",
      "423\n",
      "Y. Zhang [(1983.0, 0), (1985.0, 0), (1987.0, 1), (1989.0, 0), (1990.0, 1), (1991.0, 0), (1992.0, 3), (1993.0, 9), (1994.0, 9), (1995.0, 10), (1996.0, 2), (1997.0, 4), (1998.0, 11), (1999.0, 25), (2000.0, 50), (2001.0, 35), (2002.0, 21), (2003.0, 9), (2004.0, 8), (2005.0, 10), (2006.0, 11), (2007.0, 81), (2008.0, 12), (2009.0, 12), (2010.0, 19), (2011.0, 0), (2013.0, 0), (nan, 0), (nan, 0), (nan, 0), (nan, 0), (nan, 0), (nan, 1), (nan, 0), (nan, 0), (nan, 0)]\n",
      "449\n",
      "WANG Yu [(1986.0, 1), (2005.0, 0), (2006.0, 0), (2007.0, 0), (2008.0, 0), (2009.0, 0), (2010.0, 0), (2011.0, 0), (2012.0, 0), (2013.0, 0)]\n",
      "438\n",
      "Li Li [(1989.0, 0), (1991.0, 0), (1994.0, 2), (1996.0, 5), (1997.0, 2), (1998.0, 3), (1999.0, 0), (2000.0, 8), (2001.0, 3), (2002.0, 10), (2003.0, 27), (2004.0, 19), (2005.0, 18), (2006.0, 10), (2007.0, 9), (2008.0, 6), (2009.0, 13), (2010.0, 2), (2011.0, 2), (2012.0, 1), (2013.0, 0), (nan, 0)]\n",
      "443\n",
      "ZHANG Min [(2005.0, 0), (2006.0, 0), (2007.0, 0), (2008.0, 0), (2009.0, 0), (2010.0, 1), (2011.0, 0), (2012.0, 0), (2013.0, 0)]\n",
      "421\n",
      "&NA; [(1845.0, 0), (1895.0, 0), (1900.0, 1), (1904.0, 0), (1907.0, 0), (1908.0, 0), (1915.0, 0), (1919.0, 0), (1920.0, 0), (1923.0, 0), (1925.0, 0), (1927.0, 0), (1928.0, 0), (1930.0, 71), (1935.0, 0), (1936.0, 0), (1938.0, 0), (1939.0, 1), (1942.0, 0), (1948.0, 0), (1951.0, 0), (1954.0, 0), (1955.0, 0), (1956.0, 1), (1957.0, 0), (1958.0, 1), (1959.0, 0), (1960.0, 0), (1961.0, 0), (1962.0, 0), (1963.0, 0), (1964.0, 0), (1965.0, 1), (1966.0, 0), (1967.0, 0), (1969.0, 0), (1970.0, 0), (1971.0, 1), (1973.0, 0), (1974.0, 1), (1975.0, 0), (1976.0, 2), (1977.0, 0), (1978.0, 1), (1979.0, 5), (1980.0, 0), (1981.0, 4), (1982.0, 1), (1983.0, 1), (1984.0, 3), (1985.0, 11), (1986.0, 4), (1987.0, 3), (1988.0, 6), (1989.0, 7), (1990.0, 0), (1991.0, 4), (1992.0, 5), (1993.0, 8), (1994.0, 2), (1995.0, 20), (1996.0, 0), (1997.0, 6), (1998.0, 3), (1999.0, 15), (2000.0, 4), (2001.0, 3), (2002.0, 2), (2003.0, 0), (2004.0, 0), (2005.0, 9), (2006.0, 9), (2007.0, 5), (2008.0, 0), (2009.0, 0), (2010.0, 0), (2014.0, 4)]\n",
      "440\n",
      "WANG Bin [(2005.0, 0), (2006.0, 0), (2007.0, 0), (2008.0, 0), (2009.0, 0), (2010.0, 0), (2011.0, 0), (2012.0, 0), (2013.0, 0)]\n",
      "440\n",
      "WANG Xin [(2005.0, 0), (2006.0, 0), (2007.0, 0), (2008.0, 0), (2009.0, 0), (2010.0, 0), (2011.0, 0), (2012.0, 0), (2013.0, 0)]\n",
      "439\n",
      "WANG Tao [(2005.0, 0), (2006.0, 0), (2007.0, 0), (2008.0, 0), (2009.0, 0), (2010.0, 0), (2011.0, 0), (2012.0, 0), (2013.0, 0)]\n",
      "438\n",
      "LI Ying [(2005.0, 0), (2006.0, 0), (2007.0, 0), (2008.0, 0), (2009.0, 0), (2010.0, 0), (2011.0, 0), (2012.0, 0), (2013.0, 0)]\n",
      "417\n",
      "Wei Li [(1984.0, 1), (1992.0, 1), (1993.0, 0), (1994.0, 4), (1995.0, 3), (1996.0, 2), (1997.0, 27), (1998.0, 3), (1999.0, 17), (2000.0, 5), (2001.0, 17), (2002.0, 6), (2003.0, 12), (2004.0, 19), (2005.0, 17), (2006.0, 26), (2007.0, 19), (2008.0, 19), (2009.0, 11), (2010.0, 5), (2011.0, 2), (2012.0, 1), (2013.0, 0), (2014.0, 0), (nan, 0), (nan, 0), (2015.0, 0), (nan, 0), (nan, 1), (nan, 1), (nan, 0), (nan, 0), (nan, 0)]\n",
      "425\n",
      "WANG Ping [(2005.0, 0), (2006.0, 0), (2007.0, 0), (2008.0, 0), (2009.0, 0), (2010.0, 0), (2011.0, 0), (2012.0, 0), (2013.0, 0)]\n",
      "422\n",
      "LI Hong [(2005.0, 0), (2006.0, 0), (2007.0, 0), (2008.0, 0), (2009.0, 0), (2010.0, 0), (2011.0, 0), (2012.0, 0), (2013.0, 0)]\n",
      "420\n",
      "LI Ping [(2004.0, 2), (2005.0, 0), (2006.0, 0), (2007.0, 0), (2008.0, 0), (2009.0, 0), (2010.0, 0), (2011.0, 0), (2012.0, 0), (2013.0, 0)]\n",
      "419\n",
      "LI Jian [(2005.0, 0), (2006.0, 0), (2007.0, 0), (2008.0, 0), (2009.0, 0), (2010.0, 0), (2011.0, 0), (2012.0, 0), (2013.0, 0)]\n",
      "410\n",
      "Wei Zhang [(1989.0, 0), (1991.0, 6), (1992.0, 1), (1993.0, 0), (1994.0, 1), (1995.0, 0), (1996.0, 0), (1997.0, 2), (1998.0, 3), (1999.0, 2), (2000.0, 7), (2001.0, 22), (2002.0, 9), (2003.0, 23), (2004.0, 36), (2005.0, 22), (2006.0, 14), (2007.0, 19), (2008.0, 26), (2010.0, 5), (nan, 0), (2009.0, 21), (2011.0, 1), (2012.0, 0), (2013.0, 1), (2014.0, 0), (nan, 0), (nan, 0), (nan, 2)]\n",
      "416\n",
      "LI Qiang [(2005.0, 0), (2006.0, 0), (2007.0, 0), (2008.0, 0), (2009.0, 0), (2010.0, 0), (2011.0, 0), (2012.0, 0), (2013.0, 0)]\n",
      "414\n",
      "yang [(2000.0, 1), (2001.0, 0), (2005.0, 6), (2006.0, 18), (2007.0, 10), (2008.0, 4), (2009.0, 2), (2010.0, 0), (2011.0, 2), (2012.0, 1), (2013.0, 1), (2014.0, 0)]\n",
      "411\n",
      "LI Yong [(2004.0, 0), (2005.0, 0), (2006.0, 0), (2007.0, 0), (2008.0, 0), (2009.0, 0), (2010.0, 0), (2011.0, 0), (2012.0, 0), (2013.0, 0)]\n",
      "410\n",
      "LI Gang [(2005.0, 0), (2006.0, 0), (2007.0, 0), (2008.0, 0), (2009.0, 0), (2010.0, 0), (2011.0, 0), (2012.0, 0), (2013.0, 0)]\n",
      "401\n",
      "WANG Feng [(2005.0, 0), (2006.0, 0), (2007.0, 0), (2008.0, 0), (2009.0, 0), (2010.0, 0), (2011.0, 0), (2012.0, 0), (2013.0, 0)]\n",
      "400\n",
      "LI Ming [(1992.0, 0), (2005.0, 0), (2006.0, 0), (2007.0, 0), (2008.0, 0), (2009.0, 0), (2010.0, 0), (2011.0, 0), (2012.0, 0), (2013.0, 0)]\n",
      "397\n",
      "CHEN Li [(2005.0, 0), (2006.0, 0), (2007.0, 0), (2008.0, 0), (2009.0, 0), (2010.0, 0), (2011.0, 0), (2012.0, 0), (2013.0, 0)]\n",
      "396\n",
      "WANG Hong [(2005.0, 0), (2006.0, 0), (2007.0, 0), (2008.0, 0), (2009.0, 0), (2010.0, 0), (2011.0, 0), (2012.0, 0), (2013.0, 0)]\n",
      "395\n",
      "LI Bin [(2005.0, 0), (2006.0, 1), (2007.0, 0), (2008.0, 0), (2009.0, 0), (2010.0, 0), (2011.0, 0), (2012.0, 0), (2013.0, 0)]\n",
      "394\n",
      "YANG Jun [(2005.0, 0), (2006.0, 0), (2007.0, 0), (2008.0, 0), (2009.0, 0), (2010.0, 0), (2011.0, 0), (2012.0, 0), (2013.0, 0)]\n",
      "394\n",
      "LIU Jing [(2005.0, 0), (2006.0, 0), (2007.0, 0), (2008.0, 0), (2009.0, 0), (2010.0, 0), (2011.0, 0), (2012.0, 0), (2013.0, 0)]\n",
      "92\n",
      "K. Abe [(nan, 126), (1967.0, 0), (1972.0, 1), (1978.0, 0), (1980.0, 0), (1983.0, 2), (1985.0, 0), (1986.0, 1), (1987.0, 3), (1988.0, 0), (1989.0, 0), (1990.0, 0), (1991.0, 0), (1992.0, 1), (1993.0, 0), (1994.0, 2), (1995.0, 5), (1996.0, 1), (1997.0, 3), (1998.0, 4), (1999.0, 0), (2000.0, 6), (2001.0, 1), (2002.0, 1), (2003.0, 16), (2004.0, 0), (2005.0, 9), (2006.0, 1), (2007.0, 3), (2008.0, 3), (2010.0, 0), (2014.0, 88), (nan, 0), (nan, 0), (nan, 1), (nan, 0), (nan, 0)]\n",
      "393\n",
      "WANG Qiang [(2005.0, 0), (2006.0, 0), (2007.0, 0), (2008.0, 0), (2009.0, 0), (2010.0, 0), (2011.0, 0), (2012.0, 0), (2013.0, 0)]\n",
      "392\n",
      "LIU Bin [(1945.0, 0), (2002.0, 0), (2005.0, 0), (2006.0, 0), (2007.0, 0), (2008.0, 0), (2009.0, 0), (2010.0, 0), (2011.0, 0), (2012.0, 0), (2013.0, 0)]\n",
      "372\n",
      "Y. Liu [(2009.0, 11), (nan, 0), (1946.0, 0), (1976.0, 0), (1981.0, 0), (1985.0, 1), (1986.0, 0), (1987.0, 0), (1988.0, 7), (1989.0, 0), (1990.0, 2), (1992.0, 0), (1993.0, 0), (1994.0, 0), (1995.0, 0), (1996.0, 7), (1997.0, 9), (1998.0, 1), (1999.0, 9), (2000.0, 9), (2001.0, 3), (2002.0, 3), (2003.0, 13), (2004.0, 29), (2006.0, 19), (2007.0, 25), (2010.0, 5), (nan, 0), (2011.0, 0), (nan, 9), (2005.0, 27), (2008.0, 36), (nan, 1), (2012.0, 0), (nan, 0), (nan, 0)]\n",
      "384\n",
      "ZHANG Tao [(2004.0, 1), (2005.0, 0), (2006.0, 0), (2007.0, 0), (2008.0, 0), (2009.0, 0), (2010.0, 0), (2011.0, 0), (2012.0, 0), (2013.0, 0)]\n",
      "384\n",
      "LI Xin [(2005.0, 0), (2006.0, 0), (2007.0, 0), (2008.0, 0), (2009.0, 0), (2010.0, 0), (2011.0, 0), (2012.0, 0), (2013.0, 0)]\n",
      "383\n",
      "WANG Fang [(2005.0, 0), (2006.0, 0), (2007.0, 0), (2008.0, 0), (2009.0, 0), (2010.0, 0), (2011.0, 0), (2012.0, 0), (2013.0, 0)]\n",
      "358\n",
      "J. Li [(1968.0, 2), (1979.0, 0), (1990.0, 0), (1992.0, 0), (1993.0, 0), (1994.0, 11), (1995.0, 16), (1996.0, 0), (1997.0, 20), (1998.0, 10), (1999.0, 4), (2000.0, 14), (2001.0, 3), (2002.0, 10), (2003.0, 19), (2004.0, 14), (2005.0, 17), (2006.0, 7), (2007.0, 32), (2008.0, 15), (2009.0, 2), (2010.0, 7), (nan, 0), (2011.0, 0), (2012.0, 0), (2013.0, 0), (nan, 0), (2014.0, 0)]\n",
      "364\n",
      "LIU Hui [(1945.0, 0), (2005.0, 0), (2006.0, 0), (2007.0, 0), (2008.0, 0), (2009.0, 0), (2010.0, 0), (2011.0, 0), (2012.0, 0), (2013.0, 0)]\n",
      "362\n",
      "WANG Yi [(2005.0, 0), (2006.0, 0), (2007.0, 0), (2008.0, 0), (2009.0, 0), (2010.0, 0), (2011.0, 0), (2012.0, 0), (2013.0, 0)]\n",
      "344\n",
      "Y. Chen [(nan, 0), (1967.0, 0), (1968.0, 1), (1977.0, 15), (1978.0, 2), (1980.0, 0), (1983.0, 0), (1985.0, 0), (1986.0, 0), (1987.0, 0), (1988.0, 0), (1989.0, 2), (1990.0, 5), (1991.0, 1), (1992.0, 0), (1993.0, 2), (1994.0, 5), (1995.0, 10), (1996.0, 3), (1997.0, 5), (1998.0, 2), (1999.0, 2), (2000.0, 14), (2001.0, 20), (2002.0, 4), (2003.0, 14), (2004.0, 17), (2005.0, 18), (2006.0, 26), (2007.0, 24), (2008.0, 20), (2009.0, 9), (2010.0, 7), (nan, 0), (nan, 0), (2011.0, 0), (nan, 0), (2013.0, 0), (nan, 0), (nan, 0), (nan, 1)]\n",
      "354\n",
      "CHEN Jun [(2005.0, 0), (2006.0, 0), (2007.0, 0), (2008.0, 0), (2009.0, 0), (2010.0, 0), (2011.0, 0), (2012.0, 0), (2013.0, 0)]\n",
      "343\n",
      "X. Wang [(1979.0, 0), (1990.0, 15), (1991.0, 5), (1992.0, 2), (1993.0, 6), (1994.0, 4), (1995.0, 3), (1996.0, 7), (1997.0, 10), (1998.0, 9), (1999.0, 4), (2000.0, 12), (2001.0, 4), (2002.0, 9), (2003.0, 17), (2004.0, 19), (2005.0, 31), (2006.0, 20), (2007.0, 12), (2008.0, 60), (2009.0, 12), (2010.0, 5), (nan, 0), (2011.0, 0), (2014.0, 0), (nan, 0), (nan, 0), (nan, 0)]\n",
      "352\n",
      "LIU Hong [(2005.0, 0), (2006.0, 0), (2007.0, 0), (2008.0, 0), (2009.0, 0), (2010.0, 0), (2011.0, 0), (2012.0, 0), (2013.0, 0)]\n",
      "296\n",
      "H. Wang [(nan, 27), (1956.0, 0), (1984.0, 0), (1986.0, 6), (1987.0, 4), (1988.0, 3), (1989.0, 1), (1990.0, 1), (1991.0, 2), (1992.0, 2), (1993.0, 0), (1994.0, 7), (1995.0, 0), (1996.0, 3), (1997.0, 12), (1998.0, 12), (1999.0, 1), (2000.0, 5), (2001.0, 9), (2002.0, 1), (2003.0, 11), (2004.0, 0), (2005.0, 18), (2006.0, 18), (2007.0, 15), (2008.0, 18), (2009.0, 17), (2010.0, 8), (2011.0, 0), (2013.0, 0), (nan, 0), (nan, 0), (nan, 0)]\n",
      "350\n",
      "ZHANG Bo [(2002.0, 0), (2005.0, 0), (2006.0, 0), (2007.0, 0), (2008.0, 0), (2009.0, 0), (2010.0, 0), (2011.0, 0), (2012.0, 0), (2013.0, 0)]\n",
      "349\n",
      "LI Feng [(2005.0, 0), (2006.0, 0), (2007.0, 0), (2008.0, 0), (2009.0, 0), (2010.0, 0), (2011.0, 0), (2012.0, 0), (2013.0, 0)]\n",
      "347\n",
      "CHEN Jing [(2005.0, 0), (2006.0, 0), (2007.0, 1), (2008.0, 0), (2009.0, 0), (2010.0, 0), (2011.0, 0), (2012.0, 0), (2013.0, 0)]\n",
      "347\n",
      "CHEN Yan [(2005.0, 0), (2006.0, 0), (2007.0, 0), (2008.0, 0), (2009.0, 0), (2010.0, 0), (2011.0, 0), (2012.0, 0), (2013.0, 0)]\n",
      "345\n",
      "CHEN Jie [(2005.0, 0), (2006.0, 0), (2007.0, 0), (2008.0, 0), (2009.0, 0), (2010.0, 0), (2011.0, 0), (2012.0, 0), (2013.0, 0)]\n",
      "334\n",
      "Y. Li [(1985.0, 0), (1987.0, 4), (1988.0, 0), (1989.0, 4), (1990.0, 3), (1991.0, 0), (1992.0, 0), (1993.0, 5), (1994.0, 0), (1995.0, 0), (1996.0, 4), (1997.0, 2), (1998.0, 8), (1999.0, 3), (2000.0, 4), (2001.0, 2), (2002.0, 10), (2003.0, 131), (2004.0, 15), (2005.0, 14), (2006.0, 8), (2007.0, 16), (2008.0, 19), (2009.0, 18), (2010.0, 15), (2011.0, 0), (2012.0, 0), (nan, 0), (nan, 0), (nan, 0), (2014.0, 0), (nan, 0)]\n"
     ]
    }
   ],
   "source": [
    "for author in author_names[:100]:\n",
    "    print(author, year_wise_citations(author))\n",
    "    "
   ]
  },
  {
   "cell_type": "code",
   "execution_count": 143,
   "metadata": {},
   "outputs": [
    {
     "name": "stdout",
     "output_type": "stream",
     "text": [
      "45\n",
      "Matthias Mann [(1990.0, 14), (1995.0, 3), (1996.0, 59), (1997.0, 18), (1999.0, 0), (2000.0, 0), (2001.0, 56), (2002.0, 77), (2003.0, 59), (2005.0, 67), (2006.0, 28), (nan, 0), (2007.0, 1), (2008.0, 19), (2009.0, 1), (2010.0, 4)]\n",
      "64\n",
      "Stable URL [(1947.0, 26), (1953.0, 3), (1957.0, 30), (1960.0, 81), (1972.0, 2), (1978.0, 1), (1979.0, 386), (1980.0, 69), (1984.0, 1), (1986.0, 11), (1988.0, 105), (1989.0, 25), (1991.0, 5), (1992.0, 3), (1993.0, 148), (1994.0, 10), (1995.0, 0), (1996.0, 27), (1997.0, 2), (1998.0, 3), (1999.0, 7), (2000.0, 3), (2001.0, 25), (2002.0, 22), (2003.0, 1), (2005.0, 2), (2007.0, 56), (2008.0, 60), (2012.0, 6), (nan, 3), (2014.0, 0)]\n",
      "24\n",
      "Eric S. Lander [(1988.0, 3), (1991.0, 30), (1992.0, 4), (1993.0, 23), (1996.0, 7), (1998.0, 2), (1999.0, 24), (2001.0, 67), (2002.0, 30), (2003.0, 27), (2004.0, 107), (2005.0, 0), (2006.0, 92), (2007.0, 62), (2008.0, 3)]\n",
      "33\n",
      "al. et [(1975.0, 0), (1984.0, 22), (1985.0, 7), (1986.0, 15), (1987.0, 4), (1989.0, 205), (1990.0, 12), (1991.0, 223), (1992.0, 28), (1993.0, 48), (1994.0, 113), (1995.0, 48), (2006.0, 0)]\n",
      "33\n",
      "Hugues Hoppe [(2002.0, 77), (nan, 1), (1993.0, 94), (1996.0, 196), (1997.0, 29), (1999.0, 14), (2000.0, 79), (2001.0, 41), (2005.0, 0), (2009.0, 3), (2011.0, 3), (nan, 1), (nan, 4), (2003.0, 4), (2004.0, 43), (2006.0, 44), (2007.0, 5), (nan, 2), (2010.0, 0)]\n",
      "94\n",
      "Thomas A. Henzinger [(1990.0, 35), (1991.0, 21), (1992.0, 2), (1994.0, 18), (1995.0, 86), (1996.0, 45), (1997.0, 36), (1998.0, 30), (1999.0, 21), (2000.0, 19), (2001.0, 55), (2002.0, 109), (2003.0, 27), (2004.0, 11), (2005.0, 23), (2006.0, 25), (2007.0, 16), (2008.0, 18), (2009.0, 10), (2010.0, 6), (2011.0, 2), (2012.0, 4), (2013.0, 0), (2014.0, 48)]\n",
      "52\n",
      "Andrew Zisserman [(1987.0, 97), (1990.0, 0), (1991.0, 30), (1992.0, 16), (1993.0, 0), (1994.0, 0), (1995.0, 7), (1996.0, 5), (1997.0, 17), (1998.0, 31), (1999.0, 17), (2000.0, 593), (2002.0, 11), (2003.0, 3), (2004.0, 20), (2005.0, 1), (2006.0, 10), (2007.0, 70), (2008.0, 25), (2009.0, 35), (2010.0, 2), (2012.0, 5), (2013.0, 0), (nan, 0), (nan, 1)]\n",
      "28\n",
      "Jennifer Widom [(2003.0, 1), (nan, 2), (1994.0, 47), (1995.0, 36), (1996.0, 86), (1997.0, 202), (1998.0, 0), (1999.0, 16), (2000.0, 2), (2001.0, 17), (2002.0, 59), (2004.0, 11), (2005.0, 19), (2006.0, 14), (2012.0, 0)]\n",
      "45\n",
      "Michael I. Jordan [(1991.0, 16), (1992.0, 3), (1993.0, 28), (1994.0, 10), (1996.0, 0), (1997.0, 2), (1998.0, 1), (2000.0, 0), (2001.0, 323), (2002.0, 33), (2003.0, 144), (2004.0, 17), (2005.0, 13), (2006.0, 58), (2007.0, 9), (2008.0, 5), (2009.0, 2), (2010.0, 16), (2011.0, 0), (2013.0, 1), (2014.0, 0), (nan, 0)]\n",
      "44\n",
      "Luca Cardelli [(1996.0, 22), (nan, 0), (2004.0, 54), (nan, 2), (1980.0, 0), (nan, 0), (1982.0, 0), (1986.0, 5), (1987.0, 16), (1989.0, 3), (1990.0, 16), (1991.0, 13), (1993.0, 41), (1994.0, 3), (1995.0, 37), (1998.0, 214), (nan, 17), (1997.0, 9), (1999.0, 11), (2000.0, 20), (2001.0, 7), (2008.0, 2), (2009.0, 0), (2011.0, 2), (nan, 0), (nan, 0), (2010.0, 3), (2012.0, 0), (nan, 0)]\n",
      "21\n",
      "Amos Tversky [(1969.0, 52), (1971.0, 42), (1974.0, 0), (1977.0, 193), (1979.0, 3), (1982.0, 11), (1983.0, 47), (1985.0, 28), (1986.0, 3), (1988.0, 59), (1990.0, 1), (1993.0, 76), (1997.0, 16), (nan, 8), (1996.0, 0)]\n",
      "32\n",
      "Andrew Strominger [(1983.0, 1), (1986.0, 0), (1987.0, 9), (1988.0, 0), (1990.0, 18), (1991.0, 21), (1992.0, 3), (1993.0, 0), (1994.0, 3), (1996.0, 50), (1997.0, 11), (1998.0, 17), (2000.0, 42), (2002.0, 21), (2003.0, 24), (2004.0, 12), (2005.0, 12), (2007.0, 1), (2008.0, 6), (2010.0, 3)]\n",
      "44\n",
      "Geoffrey E. Hinton [(1983.0, 22), (1987.0, 11), (1991.0, 2), (1992.0, 36), (1993.0, 6), (1994.0, 11), (1995.0, 26), (1996.0, 27), (1999.0, 2), (2001.0, 0), (2002.0, 20), (2004.0, 30), (2006.0, 3), (2007.0, 3), (2008.0, 1), (2009.0, 20), (2010.0, 4), (2011.0, 1), (2012.0, 16), (2013.0, 0)]\n",
      "36\n",
      "Moni Naor [(1988.0, 6), (1990.0, 0), (1991.0, 86), (1992.0, 8), (1994.0, 40), (1995.0, 10), (1996.0, 13), (1998.0, 14), (1999.0, 49), (2000.0, 19), (2001.0, 73), (2002.0, 62), (2003.0, 68), (2004.0, 12), (2006.0, 13), (2007.0, 7), (2008.0, 54), (nan, 1), (2009.0, 1)]\n",
      "36\n",
      "Rakesh Agrawal [(1985.0, 12), (1988.0, 8), (1993.0, 3), (1994.0, 1), (1995.0, 255), (1996.0, 119), (1997.0, 25), (1998.0, 27), (1999.0, 1), (2001.0, 8), (2002.0, 68), (2004.0, 23), (2005.0, 13), (2006.0, 10), (2008.0, 0), (2009.0, 33), (2011.0, 0), (nan, 0), (2012.0, 0), (2014.0, 0), (2016.0, 0)]\n",
      "40\n",
      "C. A. R. Hoare [(1961.0, 31), (1964.0, 0), (1965.0, 2), (1967.0, 0), (1968.0, 1), (1969.0, 324), (1972.0, 61), (nan, 0), (1973.0, 108), (1975.0, 10), (1976.0, 3), (1978.0, 207), (1981.0, 1), (1983.0, 72), (1985.0, 961), (1987.0, 47), (1990.0, 3), (1992.0, 9), (1993.0, 2), (1994.0, 15), (1995.0, 9), (1996.0, 1), (2000.0, 0), (2002.0, 2), (2004.0, 6), (2006.0, 0), (2009.0, 4)]\n",
      "36\n",
      "Stephen Grossberg [(nan, 0), (1969.0, 21), (1975.0, 12), (1978.0, 3), (1980.0, 61), (1984.0, 3), (1986.0, 0), (1987.0, 55), (1988.0, 31), (1989.0, 0), (1991.0, 46), (1993.0, 22), (1995.0, 7), (1998.0, 5), (1999.0, 4), (2001.0, 0), (2003.0, 16), (2005.0, 3), (2009.0, 0), (2010.0, 3), (2013.0, 14), (nan, 0)]\n",
      "13\n",
      "Christine G. Elsik [(2005.0, 0), (2006.0, 135)]\n",
      "18\n",
      "Hugh M. Robertson [(1997.0, 9), (1999.0, 1), (2000.0, 1), (2001.0, 6), (2006.0, 130), (2009.0, 0), (2010.0, 0)]\n",
      "35\n",
      "S. J. Bame [(1968.0, 38), (1974.0, 15), (1975.0, 23), (1976.0, 27), (1977.0, 3), (1978.0, 29), (1979.0, 12), (1981.0, 15), (1982.0, 1), (1983.0, 9), (1984.0, 20), (1985.0, 2), (1987.0, 7), (1990.0, 25), (1993.0, 11), (1995.0, 37), (1998.0, 6)]\n",
      "17\n",
      "George M. Weinstock [(1989.0, 1), (1998.0, 2), (2002.0, 9), (2003.0, 1), (2006.0, 131), (2008.0, 2), (2010.0, 0)]\n",
      "35\n",
      "Daphne Koller [(1991.0, 12), (1993.0, 0), (1994.0, 9), (1995.0, 6), (1996.0, 30), (1997.0, 35), (1999.0, 12), (2000.0, 25), (2001.0, 7), (2002.0, 64), (2003.0, 81), (2004.0, 20), (2005.0, 10), (2006.0, 4), (2007.0, 0), (2008.0, 2), (2010.0, 3), (2012.0, 0), (2013.0, 0), (2014.0, 14)]\n",
      "21\n",
      "Albert Bandura [(1973.0, 0), (1977.0, 0), (1978.0, 0), (1980.0, 13), (1982.0, 197), (1989.0, 101), (1992.0, 24), (1994.0, 6), (1996.0, 19), (1999.0, 10), (2001.0, 89), (nan, 0), (2002.0, 8), (2003.0, 4), (2005.0, 5)]\n",
      "142\n",
      "et al [(1969.0, 0), (1970.0, 2), (1971.0, 0), (1973.0, 6), (1974.0, 0), (1975.0, 6), (1976.0, 5), (1978.0, 2), (1979.0, 2), (1980.0, 3), (1981.0, 1), (1982.0, 8), (1983.0, 11), (1984.0, 6), (1985.0, 1), (1986.0, 16), (1987.0, 13), (1988.0, 62), (1989.0, 3), (1990.0, 37), (1991.0, 28), (1992.0, 45), (1993.0, 110), (1994.0, 29), (1995.0, 40), (1996.0, 17), (1997.0, 8), (2002.0, 0), (2004.0, 0), (2008.0, 0)]\n",
      "44\n",
      "Scott Shenker [(1987.0, 4), (1988.0, 1), (1990.0, 3), (1993.0, 99), (1994.0, 115), (1997.0, 0), (1998.0, 8), (1999.0, 14), (2000.0, 4), (2001.0, 5), (2002.0, 147), (2004.0, 43), (2005.0, 24), (2006.0, 5), (2008.0, 0), (2009.0, 0), (2011.0, 2), (nan, 0), (2010.0, 28), (2013.0, 4), (nan, 0), (nan, 4), (2012.0, 0), (nan, 0)]\n",
      "75\n",
      "Christos Faloutsos [(1987.0, 75), (1989.0, 0), (1990.0, 0), (1991.0, 3), (1992.0, 23), (1994.0, 0), (1995.0, 11), (1997.0, 22), (1999.0, 232), (2000.0, 35), (2002.0, 16), (2003.0, 3), (2004.0, 19), (2005.0, 10), (2006.0, 2), (2007.0, 65), (2008.0, 10), (2009.0, 19), (2010.0, 2), (2011.0, 6), (2012.0, 1), (2013.0, 0), (nan, 0), (2014.0, 1)]\n",
      "24\n",
      "Ken Kennedy [(1976.0, 1), (1984.0, 17), (1986.0, 13), (1988.0, 12), (1991.0, 63), (1992.0, 11), (1993.0, 1), (1995.0, 5), (1997.0, 1), (2001.0, 72), (2003.0, 0), (2004.0, 11), (2005.0, 14), (2007.0, 2), (2008.0, 0), (2013.0, 0)]\n",
      "47\n",
      "Hector Garcia-Molina [(1985.0, 0), (1987.0, 3), (1988.0, 7), (1990.0, 1), (1991.0, 9), (1992.0, 0), (1993.0, 6), (1994.0, 3), (1995.0, 41), (1996.0, 38), (1998.0, 8), (1999.0, 16), (2000.0, 18), (2001.0, 40), (2002.0, 33), (2003.0, 5), (2004.0, 0), (2005.0, 49), (2006.0, 2), (2008.0, 24), (2009.0, 2), (2010.0, 4), (2011.0, 7), (2012.0, 1), (nan, 0)]\n",
      "26\n",
      "Stanislas Dehaene [(1991.0, 10), (1994.0, 15), (1997.0, 22), (1998.0, 39), (2001.0, 37), (2002.0, 32), (2004.0, 1), (2006.0, 11), (nan, 0), (2003.0, 61), (2005.0, 35), (2007.0, 0), (2008.0, 4), (2011.0, 0), (2014.0, 0)]\n",
      "100\n",
      "J. Fraser Stoddart [(1975.0, 0), (1976.0, 0), (1980.0, 0), (1981.0, 0), (1985.0, 1), (1987.0, 1), (1988.0, 2), (1989.0, 3), (1991.0, 12), (1992.0, 0), (1993.0, 3), (1994.0, 0), (1995.0, 2), (1996.0, 47), (1997.0, 24), (1998.0, 26), (1999.0, 10), (2000.0, 1), (2001.0, 7), (2002.0, 47), (2003.0, 5), (2004.0, 51), (2005.0, 14), (2006.0, 29), (2007.0, 7), (2008.0, 16), (2009.0, 6), (2010.0, 0), (nan, 0)]\n"
     ]
    },
    {
     "name": "stdout",
     "output_type": "stream",
     "text": [
      "60\n",
      "Shizuo Akira [(1983.0, 1), (1994.0, 40), (1995.0, 11), (1997.0, 1), (1999.0, 61), (2000.0, 12), (2001.0, 80), (2003.0, 20), (2004.0, 20), (2005.0, 48), (2006.0, 25), (2007.0, 8), (2008.0, 3), (2010.0, 1), (nan, 0), (2009.0, 7), (2011.0, 0), (nan, 1)]\n",
      "26\n",
      "Robin Milner [(1972.0, 4), (1973.0, 1), (1989.0, 10), (1990.0, 49), (1991.0, 58), (1992.0, 72), (1993.0, 29), (1994.0, 6), (1995.0, 281), (1996.0, 12), (1999.0, 0), (2001.0, 11), (2003.0, 10), (2005.0, 1), (2006.0, 1), (2007.0, 1), (2008.0, 4), (2009.0, 0), (nan, 2), (nan, 0)]\n",
      "73\n",
      "Moshe Y. Vardi [(1980.0, 30), (1982.0, 8), (1983.0, 3), (1984.0, 0), (1986.0, 15), (1987.0, 0), (1992.0, 2), (1994.0, 25), (1995.0, 186), (1996.0, 2), (1997.0, 20), (1998.0, 57), (1999.0, 27), (2000.0, 12), (2001.0, 8), (2002.0, 3), (2003.0, 3), (2004.0, 2), (2005.0, 18), (2006.0, 2), (2007.0, 5), (2008.0, 1), (2009.0, 3), (2010.0, 0), (2011.0, 5), (2012.0, 0), (2013.0, 0), (2014.0, 0), (nan, 1), (nan, 2), (nan, 0)]\n",
      "38\n",
      "Peer Bork [(1993.0, 0), (1994.0, 6), (1995.0, 2), (1996.0, 23), (1997.0, 0), (1998.0, 28), (1999.0, 5), (2000.0, 14), (2001.0, 20), (2002.0, 38), (2003.0, 22), (2004.0, 3), (2005.0, 10), (2006.0, 26), (2007.0, 29), (2008.0, 7), (2010.0, 1)]\n",
      "39\n",
      "Edward Witten [(1976.0, 5), (1977.0, 2), (1979.0, 9), (1980.0, 20), (1981.0, 33), (1984.0, 3), (1985.0, 24), (1987.0, 10), (1988.0, 42), (1992.0, 10), (1994.0, 0), (1995.0, 7), (1996.0, 7), (1997.0, 19), (1998.0, 280), (1999.0, 53), (2000.0, 17), (2001.0, 5), (2002.0, 7), (2003.0, 13), (2004.0, 43), (2005.0, 2), (2008.0, 5), (2009.0, 0), (2010.0, 2), (2011.0, 1)]\n",
      "231\n",
      "Jr . [(nan, 0), (1872.0, 1), (1963.0, 0), (1969.0, 0), (1970.0, 0), (1977.0, 1), (1978.0, 0), (1984.0, 29), (1987.0, 12), (1988.0, 1), (1989.0, 8), (1990.0, 3), (1992.0, 18), (1993.0, 3), (1995.0, 23), (1996.0, 3), (1997.0, 15), (1998.0, 39), (1999.0, 10), (2000.0, 7), (2002.0, 15), (2003.0, 30), (2006.0, 4), (nan, 0), (2007.0, 15), (nan, 0), (2004.0, 39), (nan, 0), (nan, 0), (nan, 0), (nan, 0), (2008.0, 2), (nan, 2), (nan, 1), (2005.0, 11), (2012.0, 1), (nan, 0), (nan, 0), (2011.0, 16), (nan, 0), (nan, 1), (nan, 1), (nan, 0), (1982.0, 0), (1983.0, 4), (1991.0, 16), (1994.0, 24), (2001.0, 10), (2010.0, 8), (nan, 2), (nan, 0), (nan, 0), (nan, 2), (nan, 0), (nan, 2), (nan, 0), (nan, 0), (nan, 2), (1966.0, 2), (1971.0, 1), (nan, 6), (nan, 0), (nan, 1), (nan, 0), (nan, 0), (nan, 0), (1967.0, 0), (1986.0, 3), (2009.0, 1), (nan, 0), (nan, 0), (nan, 0), (nan, 0), (nan, 0), (nan, 0), (nan, 1), (nan, 0), (nan, 0), (nan, 0), (nan, 0), (1985.0, 1), (nan, 0), (2013.0, 0), (nan, 3), (nan, 3), (nan, 0)]\n",
      "23\n",
      "Gerald M. Rubin [(1970.0, 0), (1981.0, 14), (1982.0, 15), (1983.0, 8), (1984.0, 31), (1985.0, 14), (1986.0, 9), (1987.0, 8), (1989.0, 2), (1993.0, 7), (1994.0, 17), (1995.0, 28), (1998.0, 2), (1999.0, 3), (2000.0, 5), (2001.0, 23), (2002.0, 22), (2005.0, 3), (nan, 0)]\n",
      "32\n",
      "Ronald C. Kessler [(1978.0, 17), (1987.0, 14), (1992.0, 5), (1993.0, 16), (1994.0, 1), (1998.0, 15), (1999.0, 5), (2000.0, 18), (2001.0, 7), (2002.0, 5), (2003.0, 60), (2004.0, 42), (2005.0, 5), (2006.0, 7), (2007.0, 1), (2008.0, 0), (2009.0, 2), (2010.0, 0)]\n",
      "19\n",
      "Timothy A. Springer [(1982.0, 1), (1985.0, 1), (1987.0, 10), (1988.0, 43), (1989.0, 14), (1990.0, 14), (1994.0, 221), (1995.0, 12), (1996.0, 3), (1997.0, 0), (1998.0, 2), (2001.0, 9), (2002.0, 17), (2003.0, 0), (2007.0, 0)]\n",
      "41\n",
      "Carlo M. Croce [(2008.0, 14), (nan, 1), (1973.0, 0), (1980.0, 0), (1985.0, 0), (1987.0, 0), (1988.0, 8), (1990.0, 9), (1992.0, 2), (1993.0, 6), (1995.0, 0), (1996.0, 14), (1997.0, 2), (1998.0, 22), (2000.0, 7), (2001.0, 12), (2002.0, 94), (2003.0, 4), (2005.0, 57), (2006.0, 1), (2007.0, 0), (2009.0, 16), (2010.0, 1), (nan, 0)]\n",
      "14\n",
      "Ralph M. Steinman [(1993.0, 2), (1995.0, 13), (1996.0, 17), (1997.0, 23), (1999.0, 48), (2000.0, 11), (2003.0, 77), (2006.0, 9), (2007.0, 4), (2010.0, 0), (nan, 13), (nan, 16)]\n",
      "26\n",
      "Michael Karin [(1980.0, 1), (1990.0, 4), (1991.0, 28), (1994.0, 174), (1996.0, 23), (2001.0, 38), (2002.0, 16), (2003.0, 2), (2004.0, 14), (2005.0, 9), (2006.0, 12), (2007.0, 5), (2008.0, 1), (2009.0, 6), (2010.0, 0)]\n",
      "43\n",
      "Richard A. Flavell [(1983.0, 11), (1990.0, 0), (1991.0, 3), (1993.0, 0), (1996.0, 18), (1997.0, 1), (1998.0, 12), (1999.0, 7), (2000.0, 62), (2001.0, 6), (2002.0, 44), (2003.0, 10), (2004.0, 1), (2005.0, 13), (2006.0, 7), (2007.0, 0), (2008.0, 2), (2009.0, 8), (2010.0, 1), (nan, 0), (2011.0, 0)]\n",
      "20\n",
      "Robert Tibshirani [(1986.0, 62), (1987.0, 1), (1992.0, 3), (1993.0, 10), (1994.0, 11), (1995.0, 27), (1997.0, 3), (1998.0, 3), (2001.0, 89), (2002.0, 112), (2004.0, 207), (2007.0, 13), (2009.0, 0), (2013.0, 0)]\n",
      "23\n",
      "David Botstein [(1974.0, 1), (1988.0, 6), (1989.0, 1), (1999.0, 64), (2000.0, 163), (2001.0, 95), (2002.0, 50), (2003.0, 46), (2004.0, 38), (2005.0, 2), (2008.0, 0), (nan, 4), (2007.0, 16)]\n",
      "23\n",
      "Nathan Seiberg [(1990.0, 2), (1991.0, 3), (1994.0, 20), (1995.0, 0), (1996.0, 14), (1997.0, 16), (1998.0, 17), (1999.0, 81), (2001.0, 14), (2003.0, 13), (2004.0, 8), (2005.0, 17), (2007.0, 9), (2009.0, 12), (2010.0, 0)]\n",
      "453\n",
      "vu [(1987.0, 1), (1989.0, 2), (1991.0, 0), (1992.0, 0), (1994.0, 9), (1995.0, 0), (1996.0, 14), (1997.0, 54), (1998.0, 47), (1999.0, 70), (2000.0, 53), (2001.0, 31), (2002.0, 43), (2003.0, 22), (2004.0, 24), (2005.0, 84), (2006.0, 32), (2007.0, 10), (2008.0, 11), (2009.0, 14), (2010.0, 15), (2011.0, 2), (2012.0, 0), (2014.0, 0)]\n",
      "22\n",
      "Dan Klein [(2001.0, 2), (2002.0, 52), (2003.0, 118), (2004.0, 23), (2006.0, 42), (2007.0, 4), (2008.0, 4), (2010.0, 7), (2011.0, 0), (2013.0, 0)]\n",
      "27\n",
      "Michael F. Cohen [(1987.0, 11), (1988.0, 0), (1992.0, 0), (1993.0, 23), (1994.0, 20), (1996.0, 150), (1997.0, 0), (2000.0, 8), (2001.0, 22), (2002.0, 6), (2004.0, 23), (nan, 1), (2005.0, 15), (2006.0, 1), (2007.0, 20), (2009.0, 0), (2011.0, 4), (2012.0, 0)]\n",
      "26\n",
      "Jonathan D. Cohen [(1993.0, 88), (1995.0, 88), (1996.0, 6), (1997.0, 38), (1999.0, 0), (2001.0, 207), (2002.0, 68), (2004.0, 4), (nan, 2), (2003.0, 0), (2005.0, 0), (2006.0, 1), (2007.0, 2), (2008.0, 11), (2009.0, 1), (2011.0, 0)]\n",
      "47\n",
      "David Wagner [(1978.0, 2), (1997.0, 13), (1998.0, 22), (1999.0, 42), (2000.0, 14), (2002.0, 51), (2004.0, 6), (2005.0, 11), (2008.0, 6), (2011.0, 24), (nan, 0), (2003.0, 24), (2006.0, 1), (2010.0, 1), (2012.0, 0), (nan, 0)]\n",
      "34\n",
      "Silvio Micali [(1983.0, 11), (1984.0, 136), (1986.0, 30), (1991.0, 49), (1999.0, 11), (2000.0, 34), (2001.0, 3), (2002.0, 20), (2003.0, 33), (2004.0, 4), (2005.0, 11), (2006.0, 5), (2007.0, 0), (2008.0, 3), (2011.0, 0), (2012.0, 1), (2013.0, 0)]\n",
      "35\n",
      "Pedro Domingos [(1995.0, 0), (1996.0, 48), (1998.0, 5), (2001.0, 59), (2002.0, 17), (2004.0, 15), (2008.0, 7), (2012.0, 8), (2014.0, 0), (nan, 0), (2005.0, 22), (2007.0, 6), (2013.0, 0), (nan, 0), (1997.0, 90), (2000.0, 8), (2006.0, 77), (2009.0, 13), (nan, 2), (nan, 1)]\n",
      "23\n",
      "Robert Endre Tarjan [(1974.0, 5), (1976.0, 48), (1979.0, 41), (1981.0, 0), (1982.0, 5), (1983.0, 58), (1984.0, 117), (1985.0, 24), (1986.0, 34), (1988.0, 0), (1989.0, 9), (1990.0, 3), (1998.0, 1), (2003.0, 0), (2004.0, 2), (2007.0, 2), (2009.0, 0)]\n",
      "55\n",
      "V. S. Subrahmanian [(1987.0, 21), (1989.0, 21), (1990.0, 1), (1992.0, 26), (1993.0, 42), (1994.0, 17), (1995.0, 9), (1996.0, 49), (1997.0, 22), (1998.0, 6), (1999.0, 0), (2000.0, 27), (2001.0, 7), (2002.0, 2), (2003.0, 9), (2005.0, 2), (2006.0, 2), (2007.0, 2), (2008.0, 1), (2009.0, 1), (2010.0, 1), (nan, 4), (2011.0, 1), (2013.0, 0), (nan, 1), (2014.0, 1)]\n",
      "44\n",
      "Christos H. Papadimitriou [(1980.0, 2), (1981.0, 67), (1982.0, 19), (1983.0, 16), (1985.0, 7), (1986.0, 6), (1987.0, 1), (1988.0, 10), (1991.0, 0), (1994.0, 187), (1995.0, 13), (1997.0, 0), (1998.0, 20), (1999.0, 90), (2000.0, 14), (2001.0, 7), (2002.0, 0), (2003.0, 0), (2005.0, 9), (2007.0, 1), (2008.0, 1), (2011.0, 1), (2013.0, 0), (2014.0, 0)]\n",
      "22\n",
      "Ewan Birney [(1993.0, 30), (1998.0, 39), (2001.0, 5), (2002.0, 22), (2004.0, 44), (2005.0, 71), (2006.0, 55), (2007.0, 8), (2008.0, 59), (2010.0, 7), (2012.0, 1), (2014.0, 0)]\n",
      "29\n",
      "Amos Fiat [(1988.0, 6), (1991.0, 37), (1992.0, 3), (1994.0, 40), (1995.0, 3), (1996.0, 2), (1997.0, 22), (1999.0, 11), (2000.0, 5), (2001.0, 12), (2002.0, 17), (2003.0, 19), (2005.0, 10), (2006.0, 2), (2007.0, 1), (2008.0, 52), (2009.0, 5), (2010.0, 0), (2011.0, 3), (nan, 1)]\n",
      "18\n",
      "Peter Schröder [(1991.0, 9), (1993.0, 22), (1999.0, 22), (2000.0, 73), (2001.0, 41), (2003.0, 30), (2004.0, 2), (2005.0, 13), (2006.0, 0), (2007.0, 4)]\n",
      "31\n",
      "Cynthia Dwork [(1986.0, 1), (1991.0, 86), (1992.0, 17), (1993.0, 2), (1996.0, 13), (1998.0, 0), (1999.0, 33), (2001.0, 67), (2003.0, 68), (2004.0, 12), (2006.0, 110), (2007.0, 17), (2008.0, 2), (2009.0, 1), (2011.0, 1), (2013.0, 0), (2015.0, 0), (nan, 0)]\n",
      "65\n",
      "Mark P. Mattson [(1986.0, 0), (1989.0, 2), (1992.0, 27), (1993.0, 13), (1994.0, 1), (1995.0, 6), (1996.0, 1), (1998.0, 28), (1999.0, 32), (2000.0, 45), (2001.0, 9), (2002.0, 22), (2003.0, 6), (2004.0, 18), (2005.0, 2), (2006.0, 12), (2007.0, 18), (2008.0, 10), (2009.0, 0), (2010.0, 1), (2011.0, 0), (2012.0, 1)]\n",
      "43\n",
      "Rajeev Alur [(1990.0, 35), (1994.0, 20), (1995.0, 4), (1996.0, 64), (1998.0, 30), (1999.0, 39), (2001.0, 10), (2002.0, 1), (2003.0, 4), (2004.0, 37), (2005.0, 15), (2006.0, 5), (2009.0, 0), (2011.0, 0), (2012.0, 0), (2013.0, 1)]\n",
      "78\n",
      "Anil K. Jain [(2002.0, 20), (2010.0, 3), (nan, 0), (nan, 0), (1987.0, 1), (1989.0, 2), (1991.0, 46), (1992.0, 6), (1993.0, 22), (1996.0, 29), (2009.0, 9), (nan, 0), (nan, 0), (1997.0, 4), (1998.0, 22), (1999.0, 9), (2000.0, 1), (2001.0, 8), (2003.0, 20), (2004.0, 27), (2005.0, 3), (2006.0, 12), (2007.0, 17), (2008.0, 15), (nan, 1), (2011.0, 16), (nan, 3), (2012.0, 0), (2013.0, 1)]\n",
      "31\n",
      "Richard Szeliski [(nan, 0), (nan, 0), (nan, 0), (1991.0, 9), (1995.0, 22), (1996.0, 150), (1998.0, 91), (2000.0, 64), (nan, 0), (1997.0, 11), (1999.0, 15), (2001.0, 46), (2003.0, 2), (2004.0, 26), (2005.0, 15), (2006.0, 5), (2007.0, 0), (2008.0, 0), (2009.0, 14), (2010.0, 1), (2012.0, 0)]\n",
      "14\n",
      "Patrick O. Brown [(1999.0, 60), (2000.0, 176), (2001.0, 115), (2002.0, 26), (2003.0, 13), (2004.0, 38), (2008.0, 6), (2010.0, 1)]\n",
      "21\n",
      "Joseph E. LeDoux [(1986.0, 8), (1991.0, 1), (1993.0, 31), (1995.0, 61), (1997.0, 4), (1998.0, 6), (1999.0, 14), (2000.0, 1), (2001.0, 13), (2002.0, 8), (2004.0, 28), (2006.0, 5), (2007.0, 1), (2009.0, 0), (2010.0, 1)]\n",
      "20\n",
      "Ulman Lindenberger [(1993.0, 12), (1994.0, 22), (1997.0, 12), (2000.0, 32), (2001.0, 12), (2002.0, 0), (2003.0, 5), (2005.0, 35), (2006.0, 12), (2010.0, 2), (2011.0, 0), (2012.0, 0)]\n",
      "43\n",
      "J. T. Gosling [(1976.0, 4), (1978.0, 29), (1979.0, 12), (1981.0, 3), (1983.0, 6), (1984.0, 12), (1987.0, 6), (1988.0, 6), (1990.0, 29), (1993.0, 32), (1995.0, 30), (1996.0, 8), (1997.0, 4), (1998.0, 9), (1999.0, 2), (2000.0, 11), (2001.0, 1), (2004.0, 0), (2006.0, 1), (2007.0, 0), (2009.0, 1), (2010.0, 0)]\n",
      "25\n",
      "Kai Simons [(1965.0, 0), (1971.0, 0), (1981.0, 0), (1982.0, 10), (1985.0, 2), (1986.0, 2), (1990.0, 7), (1993.0, 10), (1994.0, 3), (1995.0, 20), (1997.0, 29), (1999.0, 14), (2000.0, 9), (2002.0, 24), (2004.0, 10), (2005.0, 0), (2008.0, 0), (2009.0, 0), (2010.0, 0)]\n",
      "37\n",
      "Ian A. Wilson [(1987.0, 4), (1996.0, 15), (1999.0, 13), (2002.0, 12), (2003.0, 0), (2004.0, 9), (2005.0, 29), (2006.0, 38), (2007.0, 2), (2008.0, 1), (2009.0, 0), (2010.0, 0)]\n",
      "35\n",
      "Steven A. Rosenberg [(1978.0, 2), (1980.0, 0), (1983.0, 3), (1984.0, 0), (1987.0, 2), (1989.0, 2), (1990.0, 1), (1994.0, 9), (1995.0, 10), (1996.0, 28), (1997.0, 9), (1999.0, 18), (2001.0, 9), (2003.0, 21), (2004.0, 13), (2005.0, 6), (2006.0, 8), (2007.0, 2), (2009.0, 0), (nan, 0)]\n",
      "29\n",
      "Mark Gerstein [(2001.0, 30), (2002.0, 15), (2003.0, 12), (2004.0, 2), (2005.0, 28), (2006.0, 28), (2007.0, 11), (2008.0, 2), (2009.0, 3), (2011.0, 4), (nan, 0), (2010.0, 0)]\n",
      "17\n",
      "M. E. J. Newman [(1994.0, 0), (1996.0, 2), (1998.0, 2), (2000.0, 24), (2001.0, 68), (2002.0, 211), (2006.0, 132), (2008.0, 2), (2009.0, 85), (2013.0, 0)]\n",
      "41\n",
      "Alberto Mantovani [(1976.0, 0), (1981.0, 3), (1983.0, 1), (1985.0, 0), (1988.0, 1), (1994.0, 14), (1998.0, 9), (1999.0, 44), (2000.0, 8), (2001.0, 13), (2002.0, 65), (2004.0, 3), (2005.0, 3), (2006.0, 0), (2007.0, 2), (2008.0, 21), (2009.0, 6), (2010.0, 2), (2011.0, 0), (nan, 0)]\n",
      "23\n",
      "Lewis L. Lanier [(1982.0, 0), (1987.0, 6), (1992.0, 0), (1993.0, 15), (1996.0, 5), (1998.0, 34), (1999.0, 50), (2000.0, 52), (2001.0, 36), (2005.0, 62), (2006.0, 3), (2007.0, 1), (2008.0, 5), (2011.0, 0), (nan, 0)]\n",
      "39\n",
      "D. A. Gurnett [(1964.0, 2), (1965.0, 9), (1972.0, 1), (1973.0, 12), (1976.0, 20), (1979.0, 2), (1980.0, 2), (1981.0, 8), (1983.0, 1), (1984.0, 3), (1985.0, 24), (1986.0, 16), (1987.0, 1), (1988.0, 0), (1990.0, 6), (1991.0, 1), (1992.0, 0), (1993.0, 4), (1996.0, 0), (1998.0, 0), (2001.0, 3), (2003.0, 10), (2004.0, 4), (2005.0, 5), (2007.0, 0), (2008.0, 1), (2009.0, 0)]\n",
      "34\n",
      "Mark Hallett [(1973.0, 1), (1987.0, 0), (1989.0, 0), (1990.0, 16), (1991.0, 2), (1992.0, 20), (1993.0, 11), (1994.0, 0), (1995.0, 42), (1996.0, 12), (1998.0, 8), (2000.0, 28), (2002.0, 4), (2003.0, 12), (2004.0, 1), (2005.0, 0), (2006.0, 1), (2007.0, 3), (2008.0, 2), (2009.0, 0), (2010.0, 0)]\n",
      "82\n",
      "C. T. Russell [(1970.0, 8), (1975.0, 11), (1979.0, 14), (1980.0, 15), (1981.0, 14), (1982.0, 4), (1983.0, 10), (1984.0, 9), (1985.0, 8), (1986.0, 3), (1987.0, 5), (1988.0, 1), (1990.0, 25), (1991.0, 10), (1992.0, 7), (1993.0, 35), (1994.0, 7), (1995.0, 2), (1996.0, 2), (1997.0, 14), (1998.0, 15), (1999.0, 1), (2000.0, 2), (2001.0, 6), (2002.0, 8), (2003.0, 5), (2004.0, 10), (2005.0, 2), (2006.0, 0), (2007.0, 1), (2008.0, 6), (2009.0, 8), (2011.0, 0), (nan, 0), (2010.0, 0)]\n",
      "29\n",
      "Zohar Manna [(1968.0, 3), (1975.0, 2), (1980.0, 2), (1985.0, 6), (1987.0, 7), (1989.0, 11), (1991.0, 21), (1992.0, 17), (1993.0, 12), (1994.0, 14), (1996.0, 24), (1997.0, 15), (1999.0, 4), (2002.0, 3), (2005.0, 9), (2007.0, 0)]\n",
      "33\n",
      "Graham A. Colditz [(1991.0, 1), (1992.0, 1), (1994.0, 22), (1995.0, 20), (1997.0, 4), (1998.0, 1), (1999.0, 28), (2000.0, 11), (2002.0, 1), (2003.0, 10), (2004.0, 33), (2005.0, 9), (2006.0, 0), (2007.0, 7), (2010.0, 9), (nan, 3), (2011.0, 0)]\n",
      "118\n",
      "Xin Chen [(1988.0, 0), (1993.0, 0), (1994.0, 0), (1996.0, 0), (1997.0, 0), (1998.0, 0), (1999.0, 9), (2000.0, 9), (2001.0, 59), (2002.0, 45), (2003.0, 17), (2004.0, 33), (2005.0, 5), (2006.0, 9), (2007.0, 14), (2009.0, 2), (nan, 0), (2008.0, 2), (2010.0, 0), (2011.0, 0), (2012.0, 0), (2013.0, 0), (2014.0, 0), (nan, 1)]\n",
      "28\n",
      "Michael P. Wellman [(1987.0, 0), (1989.0, 8), (1991.0, 36), (1992.0, 1), (1996.0, 8), (1997.0, 8), (1998.0, 62), (1999.0, 2), (2000.0, 9), (2001.0, 22), (2002.0, 0), (2004.0, 3), (2005.0, 5), (2006.0, 34), (2007.0, 8), (2009.0, 3), (nan, 1), (2011.0, 0)]\n",
      "17\n",
      "Steven Henikoff [(1992.0, 4), (1996.0, 17), (1998.0, 9), (1999.0, 15), (2002.0, 2), (2003.0, 47), (2004.0, 19), (2006.0, 48), (2010.0, 0)]\n",
      "30\n",
      "Craig Boutilier [(1990.0, 5), (1992.0, 1), (1994.0, 10), (1996.0, 50), (1997.0, 21), (1998.0, 14), (1999.0, 22), (2000.0, 9), (2002.0, 4), (2003.0, 5), (2004.0, 4), (2005.0, 4), (2006.0, 2), (2007.0, 2), (2010.0, 0), (2011.0, 2), (2012.0, 0), (2013.0, 0)]\n",
      "48\n",
      "W. Bruce Croft [(1978.0, 0), (1981.0, 1), (1983.0, 0), (1984.0, 0), (1987.0, 11), (1990.0, 1), (1993.0, 8), (1997.0, 4), (1998.0, 23), (1999.0, 27), (2009.0, 5), (nan, 0), (2002.0, 50), (nan, 2), (1991.0, 8), (1995.0, 44), (1996.0, 8), (2000.0, 2), (2004.0, 29), (2005.0, 12), (2006.0, 15), (2007.0, 5), (2008.0, 0), (2010.0, 1), (2011.0, 6), (2012.0, 1), (nan, 0)]\n",
      "46\n",
      "Hans-Peter Kriegel [(1977.0, 1), (1986.0, 15), (1988.0, 8), (1990.0, 19), (1994.0, 25), (1995.0, 10), (1997.0, 11), (1999.0, 0), (2000.0, 86), (2001.0, 4), (2002.0, 2), (2005.0, 1), (2006.0, 10), (2007.0, 6), (2008.0, 6), (2009.0, 18), (2010.0, 1), (2011.0, 1), (2012.0, 2), (nan, 0), (2013.0, 0), (2014.0, 0)]\n",
      "20\n",
      "Robert C. Myers [(1995.0, 0), (1996.0, 4), (1998.0, 17), (1999.0, 29), (2000.0, 34), (2001.0, 28), (2002.0, 32), (2003.0, 1), (2004.0, 0), (2006.0, 4), (2008.0, 9), (2009.0, 1), (2010.0, 1), (2011.0, 2)]\n",
      "22\n",
      "Jan Chomicki [(2009.0, 0), (nan, 0), (1990.0, 1), (1994.0, 12), (1995.0, 39), (1999.0, 51), (2001.0, 8), (2002.0, 0), (2003.0, 28), (2004.0, 0), (2005.0, 3), (2006.0, 2), (2007.0, 10), (2011.0, 0)]\n",
      "28\n",
      "Jeffrey F. Naughton [(1986.0, 3), (1987.0, 3), (1988.0, 1), (1989.0, 0), (1991.0, 7), (1993.0, 51), (1994.0, 19), (1995.0, 1), (1997.0, 11), (2000.0, 5), (2001.0, 60), (2002.0, 16), (2006.0, 0), (2007.0, 16), (2008.0, 0), (2009.0, 1), (2010.0, 0), (2011.0, 0), (2013.0, 0)]\n",
      "25\n",
      "Stefan Savage [(1993.0, 15), (1994.0, 22), (2000.0, 35), (2002.0, 8), (2003.0, 25), (2004.0, 49), (2005.0, 21), (2006.0, 1), (2007.0, 5), (2008.0, 4), (2009.0, 5), (2010.0, 4), (2011.0, 4), (2012.0, 0), (2013.0, 0), (nan, 1)]\n",
      "40\n",
      "Amir Pnueli [(1978.0, 7), (1981.0, 0), (1983.0, 4), (1984.0, 0), (1986.0, 16), (1987.0, 7), (1988.0, 2), (1991.0, 21), (1992.0, 18), (1993.0, 16), (1994.0, 11), (1996.0, 1), (1997.0, 9), (1998.0, 24), (2000.0, 7), (2001.0, 13), (2002.0, 3), (2003.0, 0), (2005.0, 5), (2007.0, 14), (2008.0, 1), (2010.0, 0)]\n",
      "35\n",
      "Ronald Fagin [(1976.0, 0), (1980.0, 6), (1985.0, 8), (1986.0, 15), (1990.0, 16), (1992.0, 1), (1994.0, 4), (1995.0, 188), (1996.0, 1), (1997.0, 11), (1999.0, 44), (2002.0, 70), (2005.0, 2), (2006.0, 3), (2007.0, 8), (2009.0, 12), (2010.0, 2), (nan, 2), (2011.0, 0)]\n",
      "21\n",
      "Pat Hanrahan [(1988.0, 70), (1991.0, 42), (1993.0, 22), (1994.0, 1), (1996.0, 221), (1997.0, 13), (1998.0, 0), (2000.0, 0), (2001.0, 28), (2002.0, 46), (2003.0, 7), (2005.0, 6), (2006.0, 4), (2007.0, 3), (2008.0, 2), (2009.0, 3), (2010.0, 0)]\n",
      "29\n",
      "Gunnar von Heijne [(1989.0, 0), (nan, 0), (1976.0, 1), (1980.0, 0), (1990.0, 56), (1991.0, 10), (1993.0, 0), (1996.0, 7), (1997.0, 0), (1998.0, 0), (1999.0, 28), (2000.0, 11), (2003.0, 23), (2004.0, 11), (2005.0, 21), (2006.0, 1), (2007.0, 22), (2008.0, 4), (2009.0, 0), (2011.0, 0)]\n",
      "215\n",
      "Ming Li [(1985.0, 0), (1986.0, 0), (1987.0, 21), (1988.0, 1), (1991.0, 0), (1992.0, 0), (1993.0, 18), (1994.0, 4), (1995.0, 0), (1996.0, 0), (1997.0, 27), (1998.0, 17), (1999.0, 4), (2000.0, 3), (2001.0, 11), (2002.0, 6), (2003.0, 3), (2004.0, 47), (2005.0, 6), (2006.0, 17), (2007.0, 1), (2008.0, 11), (2009.0, 1), (2010.0, 0), (2011.0, 1), (2012.0, 1), (2013.0, 2), (2014.0, 0)]\n",
      "23\n",
      "Jitendra Malik [(1994.0, 0), (2001.0, 69), (2009.0, 20), (nan, 1), (1995.0, 0), (1996.0, 27), (1997.0, 0), (1998.0, 29), (1999.0, 24), (2002.0, 7), (2003.0, 1), (2004.0, 5), (2005.0, 2), (2006.0, 27), (nan, 0), (2011.0, 18), (2012.0, 1)]\n",
      "65\n",
      "Robert Langer [(1980.0, 8), (1983.0, 0), (1986.0, 1), (1987.0, 1), (1988.0, 0), (1989.0, 3), (1990.0, 0), (1991.0, 10), (1992.0, 12), (1993.0, 7), (1994.0, 0), (1995.0, 10), (1996.0, 14), (1997.0, 8), (1998.0, 0), (1999.0, 34), (2008.0, 9), (2010.0, 2), (nan, 0), (2000.0, 5), (2002.0, 2), (2003.0, 29), (2004.0, 0), (2005.0, 2), (2006.0, 10), (2007.0, 12), (2009.0, 9), (2011.0, 0)]\n",
      "52\n",
      "Chad A. Mirkin [(1990.0, 0), (1994.0, 0), (1996.0, 0), (1998.0, 12), (2000.0, 10), (2001.0, 4), (2002.0, 66), (2003.0, 0), (2004.0, 20), (2005.0, 58), (2006.0, 16), (2007.0, 11), (2008.0, 7), (2009.0, 4), (2010.0, 3), (2011.0, 0)]\n",
      "23\n",
      "William T. Freeman [(1991.0, 11), (2005.0, 5), (2009.0, 0), (nan, 2), (1997.0, 23), (2000.0, 36), (2001.0, 80), (2002.0, 3), (2003.0, 99), (nan, 3), (2006.0, 10), (2008.0, 8), (2010.0, 3), (2011.0, 2), (2013.0, 0)]\n",
      "24\n",
      "Richard E. Mayer [(1977.0, 1), (1978.0, 0), (1980.0, 0), (1981.0, 2), (1988.0, 9), (1989.0, 20), (1992.0, 6), (1995.0, 0), (1996.0, 11), (1999.0, 0), (2001.0, 71), (2002.0, 11), (2003.0, 18), (2005.0, 9), (2007.0, 2), (2008.0, 0)]\n"
     ]
    }
   ],
   "source": [
    "for author in author_names_h[:100]:\n",
    "    print(author, year_wise_citations(author))\n",
    "    "
   ]
  },
  {
   "cell_type": "code",
   "execution_count": 115,
   "metadata": {},
   "outputs": [
    {
     "data": {
      "text/plain": [
       "3.7614743775888774e-07"
      ]
     },
     "execution_count": 115,
     "metadata": {},
     "output_type": "execute_result"
    }
   ],
   "source": [
    "author_map['WANG Wei'].author_score"
   ]
  },
  {
   "cell_type": "code",
   "execution_count": 109,
   "metadata": {},
   "outputs": [
    {
     "data": {
      "text/plain": [
       "3.7614743775888346e-07"
      ]
     },
     "execution_count": 109,
     "metadata": {},
     "output_type": "execute_result"
    }
   ],
   "source": [
    "1/len(citation_graph)"
   ]
  },
  {
   "cell_type": "code",
   "execution_count": 120,
   "metadata": {},
   "outputs": [
    {
     "data": {
      "image/png": "[encoded data removed]",
      "text/plain": [
       "<Figure size 576x360 with 1 Axes>"
      ]
     },
     "metadata": {
      "needs_background": "light"
     },
     "output_type": "display_data"
    }
   ],
   "source": [
    "plt.figure(figsize=(8,5))\n",
    "for author in top_n_our_index:\n",
    "    year_wise = year_wise_citations(author)\n",
    "    years = [x[0] for x in year_wise]\n",
    "    citations = [x[1] for x in year_wise]\n",
    "    plt.plot(years, citations)\n",
    "    plt.xticks = np.arange(1985.0, 2018.0, step = 1.0)\n",
    "plt.legend(top_n_our_index)\n",
    "plt.xlabel('Years')\n",
    "plt.ylabel('Number of citations')\n",
    "plt.title('Yearly citations - Top 5 authors (scored on our index)')\n",
    "plt.show()"
   ]
  },
  {
   "cell_type": "code",
   "execution_count": 103,
   "metadata": {
    "scrolled": false
   },
   "outputs": [
    {
     "data": {
      "image/png": "[encoded data removed]",
      "text/plain": [
       "<Figure size 576x360 with 1 Axes>"
      ]
     },
     "metadata": {
      "needs_background": "light"
     },
     "output_type": "display_data"
    }
   ],
   "source": [
    "plt.figure(figsize=(8,5))\n",
    "for author in top_n_h_index:\n",
    "    year_wise = year_wise_citations(author)\n",
    "    years = [x[0] for x in year_wise]\n",
    "    citations = [x[1] for x in year_wise]\n",
    "    plt.plot(years, citations)\n",
    "    plt.xticks = np.arange(1985.0, 2018.0, step = 1.0)\n",
    "plt.legend(top_n_h_index)\n",
    "plt.xlabel('Years')\n",
    "plt.ylabel('Number of citations')\n",
    "plt.title('Yearly citations - Top 5 authors (scored on h-index)')\n",
    "plt.show()"
   ]
  },
  {
   "cell_type": "code",
   "execution_count": 51,
   "metadata": {},
   "outputs": [],
   "source": [
    "def autolabel(rects):\n",
    "    \"\"\"\n",
    "    Attach a text label above each bar displaying its height\n",
    "    \"\"\"\n",
    "    for rect in rects:\n",
    "        height = rect.get_height()\n",
    "        ax.text(rect.get_x() + rect.get_width()/2., 1.05*height,\n",
    "                '%d' % int(height),\n",
    "                ha='center', va='bottom')"
   ]
  },
  {
   "cell_type": "code",
   "execution_count": 104,
   "metadata": {},
   "outputs": [
    {
     "data": {
      "image/png": "[encoded data removed]",
      "text/plain": [
       "<Figure size 432x288 with 1 Axes>"
      ]
     },
     "metadata": {
      "needs_background": "light"
     },
     "output_type": "display_data"
    }
   ],
   "source": [
    "n_groups = 5\n",
    "\n",
    "top_our_index = [len(author_map[author].paper_list) for author in top_n_our_index]\n",
    "# std_men = (2, 3, 4, 1, 2)\n",
    "\n",
    "top_h_index = [len(author_map[author].paper_list) for author in top_n_h_index]\n",
    "# std_women = (3, 5, 2, 3, 3)\n",
    "\n",
    "fig, ax = plt.subplots()\n",
    "\n",
    "index = np.arange(n_groups)\n",
    "bar_width = 0.35\n",
    "\n",
    "opacity = 0.4\n",
    "error_config = {'ecolor': '0.3'}\n",
    "\n",
    "rects1 = ax.bar(index, top_our_index, bar_width,\n",
    "                alpha=opacity, color='b',\n",
    "                error_kw=error_config,\n",
    "                label='Our Index')\n",
    "\n",
    "rects2 = ax.bar(index + bar_width, top_h_index, bar_width,\n",
    "                alpha=opacity, color='r',\n",
    "                error_kw=error_config,\n",
    "                label='H-Index')\n",
    "\n",
    "ax.set_xlabel('Rank')\n",
    "# ax.set_ylabel('Papers published')\n",
    "ax.set_title('Total Papers published - Top 5 Authors')\n",
    "ax.set_xticks(index + bar_width / 2)\n",
    "ax.set_xticklabels(range(1,6))\n",
    "ax.set_yticks([])\n",
    "ax.set_ylim(0, max(top_our_index) + 200)\n",
    "ax.legend()\n",
    "autolabel(rects1)\n",
    "autolabel(rects2)\n",
    "# fig.tight_layout()\n",
    "plt.show()"
   ]
  },
  {
   "cell_type": "code",
   "execution_count": 105,
   "metadata": {},
   "outputs": [
    {
     "data": {
      "image/png": "[encoded data removed]",
      "text/plain": [
       "<Figure size 432x288 with 1 Axes>"
      ]
     },
     "metadata": {
      "needs_background": "light"
     },
     "output_type": "display_data"
    }
   ],
   "source": [
    "n_groups = 5\n",
    "\n",
    "top_our_index = [np.average(author_map[author].citations) for author in top_n_our_index]\n",
    "# std_men = (2, 3, 4, 1, 2)\n",
    "\n",
    "top_h_index = [np.average(author_map[author].citations) for author in top_n_h_index]\n",
    "# std_women = (3, 5, 2, 3, 3)\n",
    "\n",
    "fig, ax = plt.subplots()\n",
    "\n",
    "index = np.arange(n_groups)\n",
    "bar_width = 0.35\n",
    "\n",
    "opacity = 0.4\n",
    "error_config = {'ecolor': '0.3'}\n",
    "\n",
    "rects1 = ax.bar(index, top_our_index, bar_width,\n",
    "                alpha=opacity, color='b',\n",
    "                error_kw=error_config,\n",
    "                label='Our Index')\n",
    "\n",
    "rects2 = ax.bar(index + bar_width, top_h_index, bar_width,\n",
    "                alpha=opacity, color='r',\n",
    "                error_kw=error_config,\n",
    "                label='H-Index')\n",
    "\n",
    "ax.set_xlabel('Rank')\n",
    "# ax.set_ylabel('Average Citations')\n",
    "ax.set_title('Average number of Citations - Top 5 Authors')\n",
    "ax.set_xticks(index + bar_width / 2)\n",
    "ax.set_xticklabels(range(1,6))\n",
    "ax.set_yticks([])\n",
    "ax.set_ylim(0, max(top_h_index) + 10)\n",
    "ax.legend()\n",
    "\n",
    "autolabel(rects1)\n",
    "autolabel(rects2)\n",
    "fig.tight_layout()\n",
    "plt.show()"
   ]
  },
  {
   "cell_type": "code",
   "execution_count": 66,
   "metadata": {},
   "outputs": [
    {
     "data": {
      "image/png": "[encoded data removed]",
      "text/plain": [
       "<Figure size 432x288 with 1 Axes>"
      ]
     },
     "metadata": {
      "needs_background": "light"
     },
     "output_type": "display_data"
    }
   ],
   "source": [
    "n_groups = 5\n",
    "\n",
    "top_our_index = [np.median(author_map[author].citations) for author in top_n_our_index]\n",
    "# std_men = (2, 3, 4, 1, 2)\n",
    "\n",
    "top_h_index = [np.median(author_map[author].citations) for author in top_n_h_index]\n",
    "# std_women = (3, 5, 2, 3, 3)\n",
    "\n",
    "fig, ax = plt.subplots()\n",
    "\n",
    "index = np.arange(n_groups)\n",
    "bar_width = 0.35\n",
    "\n",
    "opacity = 0.4\n",
    "error_config = {'ecolor': '0.3'}\n",
    "\n",
    "rects1 = ax.bar(index, top_our_index, bar_width,\n",
    "                alpha=opacity, color='b',\n",
    "                error_kw=error_config,\n",
    "                label='Our Index')\n",
    "\n",
    "rects2 = ax.bar(index + bar_width, top_h_index, bar_width,\n",
    "                alpha=opacity, color='r',\n",
    "                error_kw=error_config,\n",
    "                label='H-Index')\n",
    "\n",
    "ax.set_xlabel('Rank')\n",
    "# ax.set_ylabel('Median Citations')\n",
    "ax.set_title('Median number of Citations - Top Authors')\n",
    "ax.set_xticks(index + bar_width / 2)\n",
    "ax.set_xticklabels(range(1,6))\n",
    "ax.set_yticks([])\n",
    "ax.set_ylim(0, max(top_h_index) + 5)\n",
    "ax.legend()\n",
    "\n",
    "autolabel(rects1)\n",
    "autolabel(rects2)\n",
    "fig.tight_layout()\n",
    "plt.show()"
   ]
  },
  {
   "cell_type": "code",
   "execution_count": 33,
   "metadata": {},
   "outputs": [
    {
     "data": {
      "text/plain": [
       "[553, 691, 971, 215, 142]"
      ]
     },
     "execution_count": 33,
     "metadata": {},
     "output_type": "execute_result"
    }
   ],
   "source": [
    "[author_names_h.index(author) for author in top_n_our_index]"
   ]
  },
  {
   "cell_type": "code",
   "execution_count": 34,
   "metadata": {},
   "outputs": [
    {
     "data": {
      "text/plain": [
       "[76, 108, 101, 99, 44]"
      ]
     },
     "execution_count": 34,
     "metadata": {},
     "output_type": "execute_result"
    }
   ],
   "source": [
    "[author_names.index(author) for author in top_n_h_index]"
   ]
  },
  {
   "cell_type": "code",
   "execution_count": 167,
   "metadata": {},
   "outputs": [],
   "source": [
    "common_authors = list(set(author_names[:100]) & set(author_names_h[:100]))"
   ]
  },
  {
   "cell_type": "code",
   "execution_count": 168,
   "metadata": {},
   "outputs": [
    {
     "data": {
      "text/plain": [
       "[]"
      ]
     },
     "execution_count": 168,
     "metadata": {},
     "output_type": "execute_result"
    }
   ],
   "source": [
    "[author_names.index(author) for author in common_authors]"
   ]
  },
  {
   "cell_type": "code",
   "execution_count": 169,
   "metadata": {},
   "outputs": [
    {
     "data": {
      "text/plain": [
       "[]"
      ]
     },
     "execution_count": 169,
     "metadata": {},
     "output_type": "execute_result"
    }
   ],
   "source": [
    "[author_names_h.index(author) for author in common_authors]"
   ]
  },
  {
   "cell_type": "code",
   "execution_count": 76,
   "metadata": {},
   "outputs": [
    {
     "data": {
      "image/png": "[encoded data removed]",
      "text/plain": [
       "<Figure size 432x288 with 1 Axes>"
      ]
     },
     "metadata": {
      "needs_background": "light"
     },
     "output_type": "display_data"
    }
   ],
   "source": [
    "top_our_index = [author_names.index(author) + 1 for author in common_authors]\n",
    "# std_men = (2, 3, 4, 1, 2)\n",
    "\n",
    "top_h_index = [author_names_h.index(author) + 1 for author in common_authors]\n",
    "# std_women = (3, 5, 2, 3, 3)\n",
    "\n",
    "n_groups = len(top_our_index)\n",
    "\n",
    "fig, ax = plt.subplots()\n",
    "\n",
    "index = np.arange(n_groups)\n",
    "bar_width = 0.35\n",
    "\n",
    "opacity = 0.4\n",
    "error_config = {'ecolor': '0.3'}\n",
    "# plt.figure(figsize=(18,15))\n",
    "fig.size = (18,15)\n",
    "rects1 = ax.bar(index, top_our_index, bar_width,\n",
    "                alpha=opacity, color='b',\n",
    "                error_kw=error_config,\n",
    "                label='Our Index')\n",
    "\n",
    "rects2 = ax.bar(index + bar_width, top_h_index, bar_width,\n",
    "                alpha=opacity, color='r',\n",
    "                error_kw=error_config,\n",
    "                label='H-Index')\n",
    "\n",
    "ax.set_xlabel('Authors')\n",
    "# ax.set_ylabel('Ranking')\n",
    "ax.set_title('Rankings of authors found in both top 100 rankings')\n",
    "ax.set_xticks(index + bar_width / 2)\n",
    "ax.set_yticks([])\n",
    "ax.set_xticklabels(common_authors, rotation = 90)\n",
    "ax.set_yticks([])\n",
    "ax.set_ylim(0, 150)\n",
    "ax.legend()\n",
    "\n",
    "autolabel(rects1)\n",
    "autolabel(rects2)\n",
    "# fig.tight_layout()\n",
    "plt.show()"
   ]
  },
  {
   "cell_type": "code",
   "execution_count": 85,
   "metadata": {},
   "outputs": [],
   "source": [
    "def author_keywords(auth):\n",
    "    keywords = []\n",
    "    for paper in author_map[author].paper_list:\n",
    "        keywords += citation_graph[paper].keywords\n",
    "    return set(keywords)\n",
    "        "
   ]
  },
  {
   "cell_type": "code",
   "execution_count": 90,
   "metadata": {},
   "outputs": [
    {
     "data": {
      "text/plain": [
       "3856"
      ]
     },
     "execution_count": 90,
     "metadata": {},
     "output_type": "execute_result"
    }
   ],
   "source": [
    "len(author_keywords('Li Li'))"
   ]
  },
  {
   "cell_type": "code",
   "execution_count": null,
   "metadata": {},
   "outputs": [],
   "source": [
    "# plots\n",
    "\n",
    "# 1. top n authors' citations distribution \n",
    "# 2. top n authors' no. of papers distribution\n",
    "# 3. missing values graph\n",
    "# 4. top n authors' h-index and our index comparison\n",
    "# 5. top n authors' reverse comparison\n",
    "# \n",
    "# citations distribution\n",
    "# \n",
    "\n",
    "\n",
    "# score\n",
    "# 1. use a constant rate of decay using publish date\n",
    "# 2. people with a lot of citations need to be accounted for\n",
    "# 3. young authors with lesser research time need to be weighted equally \n",
    "# 4. median citations for author instead of average\n",
    "# 5. journal impact factor\n",
    "# 6. domain of other fields\n"
   ]
  }
 ],
 "metadata": {
  "kernelspec": {
   "display_name": "Python 3",
   "language": "python",
   "name": "python3"
  },
  "language_info": {
   "codemirror_mode": {
    "name": "ipython",
    "version": 3
   },
   "file_extension": ".py",
   "mimetype": "text/x-python",
   "name": "python",
   "nbconvert_exporter": "python",
   "pygments_lexer": "ipython3",
   "version": "3.7.0"
  }
 },
 "nbformat": 4,
 "nbformat_minor": 2
}
