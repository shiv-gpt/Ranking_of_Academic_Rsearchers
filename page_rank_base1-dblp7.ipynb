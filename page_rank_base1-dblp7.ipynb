{
 "cells": [
  {
   "cell_type": "code",
   "execution_count": 1,
   "metadata": {},
   "outputs": [
    {
     "name": "stderr",
     "output_type": "stream",
     "text": [
      "/home/shivanggupta1994/venv/lib/python3.5/site-packages/fuzzywuzzy/fuzz.py:11: UserWarning: Using slow pure-python SequenceMatcher. Install python-Levenshtein to remove this warning\n",
      "  warnings.warn('Using slow pure-python SequenceMatcher. Install python-Levenshtein to remove this warning')\n"
     ]
    }
   ],
   "source": [
    "import pandas as pd\n",
    "import json\n",
    "import numpy as np\n",
    "import matplotlib.pyplot as plt\n",
    "import seaborn as sns\n",
    "import os\n",
    "import pickle\n",
    "from fuzzywuzzy import fuzz"
   ]
  },
  {
   "cell_type": "code",
   "execution_count": 2,
   "metadata": {},
   "outputs": [],
   "source": [
    "class Paper:\n",
    "    def __init__(self):\n",
    "        self.outlinks = []\n",
    "        self.inlinks = []\n",
    "        self.abstract = \"\"\n",
    "        self.page_rank = 1\n",
    "        self.authors = []\n",
    "        self.keywords = []\n",
    "#         self.authors_org = []\n",
    "        self.journal = None\n",
    "        self.year = None\n",
    "        self.title = None\n",
    "        self.id = None\n",
    "        self.duration = None\n",
    "        \n",
    "    def __repr__(self):\n",
    "        print(\"###########\\noutlinks = %s\\n, inlinks = %s\\n, abstract = %s\\n, keywords = %s\\n, page_rank = %s\\n, authors \\\n",
    "              = %s\\n, journal = %s\\n, year = %s\\n, title = %s\\n, id = %s\\n###########\\n\" % (str(self.outlinks), str(self.inlinks), str(self.abstract) \\\n",
    "             , str(self.keywords), str(self.page_rank), str(self.authors), str(self.journal), str(self.year), str(self.title), str(self.id)))\n",
    "        return \"###########\\noutlinks = {}\\n, inlinks = {}\\n, abstract = {}\\n, keywords = {}\\n, page_rank = {}\\n, authors \\\n",
    "              = {}\\n, journal = {}\\n, year = {}\\n, title = {}\\n, id = {}\\n###########\\n\".format(str(self.outlinks), str(self.inlinks), str(self.abstract) \\\n",
    "             , str(self.keywords), str(self.page_rank), str(self.authors), str(self.journal), str(self.year), str(self.title), str(self.id))\n",
    "    def __str__(self):\n",
    "        print(\"###########\\noutlinks = %s\\n, inlinks = %s\\n, abstract = %s\\n, keywords = %s\\n, page_rank = %s\\n, authors \\\n",
    "              = %s\\n, journal = %s\\n, year = %s\\n, title = %s\\n, id = %s\\n###########\\n\" % (str(self.outlinks), str(self.inlinks), str(self.abstract) \\\n",
    "             , str(self.keywords), str(self.page_rank), str(self.authors), str(self.journal), str(self.year), str(self.title), str(self.id)))\n",
    "        return \"###########\\noutlinks = {}\\n, inlinks = {}\\n, abstract = {}\\n, keywords = {}\\n, page_rank = {}\\n, authors \\\n",
    "              = {}\\n, journal = {}\\n, year = {}\\n, title = {}\\n, id = {}\\n###########\\n\".format(str(self.outlinks), str(self.inlinks), str(self.abstract) \\\n",
    "             , str(self.keywords), str(self.page_rank), str(self.authors), str(self.journal), str(self.year), str(self.title), str(self.id))"
   ]
  },
  {
   "cell_type": "code",
   "execution_count": 3,
   "metadata": {},
   "outputs": [],
   "source": [
    "def parse_file(filepath, graph):\n",
    "    with open(filepath, \"r\") as f:\n",
    "        content = f.readlines()\n",
    "    \n",
    "    print(content[:20])\n",
    "    print(len(content))\n",
    "    obj = None\n",
    "    i = 0\n",
    "    while i < len(content):\n",
    "        if not obj:\n",
    "            obj = Paper()\n",
    "        \n",
    "        if content[i] == '  \\n':\n",
    "#             print(\"here\")\n",
    "            graph[obj.id] = obj\n",
    "            obj = None\n",
    "        else:\n",
    "#             print(\"here\")\n",
    "            try:\n",
    "                if content[i][1] == \"*\":\n",
    "                    obj.title = content[i][2:].rstrip(\"\\n\")\n",
    "                elif content[i][1] == \"@\":\n",
    "                    obj.authors = content[i][2:].rstrip(\"\\n\").split(\",\")\n",
    "                elif content[i][1] == \"t\":\n",
    "                    obj.year = int(content[i][2:].rstrip(\"\\n\"))\n",
    "                elif content[i][1] == \"c\":\n",
    "                    obj.journal = content[i][2:].rstrip(\"\\n\")\n",
    "                elif content[i][1] == \"i\":\n",
    "                    obj.id = content[i][6:].rstrip(\"\\n\")\n",
    "                elif content[i][1] == \"%\":\n",
    "                    obj.outlinks.append(content[i][2:].rstrip(\"\\n\"))\n",
    "                elif content[i][1] == \"!\":\n",
    "                    obj.abstract = content[i][2:].rstrip(\"\\n\")\n",
    "            except:\n",
    "#                 print(i)\n",
    "                print(content[i])\n",
    "            \n",
    "        i += 1\n",
    "        \n",
    "    "
   ]
  },
  {
   "cell_type": "code",
   "execution_count": null,
   "metadata": {},
   "outputs": [
    {
     "name": "stdout",
     "output_type": "stream",
     "text": [
      "['#*OQL[C++]: Extending C++ with an Object Query Capability.\\n', '#@José A. Blakeley\\n', '#t1995\\n', '#cModern Database Systems\\n', '#index2\\n', '#% \\n', '#!\\n', '  \\n', '#*Transaction Management in Multidatabase Systems.\\n', '#@Yuri Breitbart,Hector Garcia-Molina,Abraham Silberschatz\\n', '#t1995\\n', '#cModern Database Systems\\n', '#index3\\n', '#% \\n', '#!\\n', '  \\n', '#*Overview of the ADDS System.\\n', '#@Yuri Breitbart,Tom C. Reyes\\n', '#t1995\\n', '#cModern Database Systems\\n']\n",
      "20797701\n"
     ]
    }
   ],
   "source": [
    "citation_graph = {}\n",
    "parse_file(\"data/DBLP_Citation_2014_May/publications.txt\", citation_graph)"
   ]
  },
  {
   "cell_type": "code",
   "execution_count": null,
   "metadata": {},
   "outputs": [],
   "source": [
    "import csv\n",
    "\n",
    "conf_full_dict = {}\n",
    "conf_abbr_dict = {}\n",
    "\n",
    "with open(\"data/conf.csv\", \"r+\") as f:\n",
    "    csv_reader = csv.reader(f, delimiter=',')\n",
    "    for row in csv_reader:\n",
    "        conf_full_dict[row[1].lower()] = int(row[3])\n",
    "        conf_abbr_dict[row[2].lower()] = int(row[3])\n",
    "print(len(conf_full_dict))\n",
    "print(len(conf_abbr_dict))"
   ]
  },
  {
   "cell_type": "code",
   "execution_count": null,
   "metadata": {},
   "outputs": [],
   "source": [
    "citation_graph[\"27\"]"
   ]
  },
  {
   "cell_type": "code",
   "execution_count": null,
   "metadata": {},
   "outputs": [],
   "source": [
    "def init_dict(df, graph):\n",
    "    for index, row in df.iterrows():\n",
    "        id = row[\"id\"]\n",
    "        if id not in graph.keys():\n",
    "            graph[id] = Paper()\n",
    "            graph[id].outlinks = [] if not isinstance(row[\"references\"], list) else row[\"references\"]\n",
    "            graph[id].abstract = \"\" if(row[\"abstract\"]==None) else row[\"abstract\"]\n",
    "            graph[id].keywords = [] if not isinstance(row[\"keywords\"], list) else row[\"keywords\"]\n",
    "            graph[id].n_citations = row[\"n_citation\"]\n",
    "    #         authors = json.loads(row[\"authors\"])\n",
    "    #         print(row[\"authors\"])\n",
    "            if isinstance(row[\"authors\"], list):\n",
    "                for author in row[\"authors\"]:\n",
    "                    org = \"\"\n",
    "                    name = \"\"\n",
    "                    if \"org\" in author.keys():\n",
    "                        org = author[\"org\"]\n",
    "                    if \"name\" in author.keys():\n",
    "                        name = author[\"name\"]\n",
    "\n",
    "                    graph[id].authors.append((name, org))\n",
    "\n",
    "            graph[id].journal = \"\" if(row[\"venue\"]==None) else row[\"venue\"]\n",
    "            graph[id].year =  1700 if(row[\"year\"]==None) else row[\"year\"]\n",
    "            graph[id].title = \"\" if(row[\"title\"]==None) else row[\"title\"]\n",
    "import math        \n",
    "def fill_dict(graph):\n",
    "    length = len(graph.keys())\n",
    "    for id in graph.keys():\n",
    "        graph[id].inlinks = []\n",
    "    for id in graph.keys():\n",
    "        graph[id].page_rank = 1/length\n",
    "        refs = graph[id].outlinks\n",
    "#         print(refs)\n",
    "        for ref in refs:\n",
    "            if ref in graph.keys():\n",
    "                graph[ref].inlinks.append(id)\n",
    "    unique_years = []\n",
    "    for id in graph.keys():\n",
    "        if(math.isnan(graph[id].year)):\n",
    "            graph[id].year = 1700\n",
    "        if graph[id].year != 1700:\n",
    "            unique_years.append(2018 - graph[id].year)\n",
    "            graph[id].duration = 2018 - graph[id].year\n",
    "#     print(list(unique_years))\n",
    "    median_duration = np.median(list(unique_years))\n",
    "    print(median_duration)\n",
    "    for id in graph.keys():\n",
    "        if graph[id].year == 1700:\n",
    "            graph[id].duration = median_duration"
   ]
  },
  {
   "cell_type": "code",
   "execution_count": null,
   "metadata": {},
   "outputs": [],
   "source": [
    "def reset_page_rank(graph):\n",
    "    length = len(graph.keys())\n",
    "    for id in graph.keys():\n",
    "        graph[id].page_rank = 1/length"
   ]
  },
  {
   "cell_type": "code",
   "execution_count": 9,
   "metadata": {},
   "outputs": [],
   "source": [
    "# refer here  : http://dpk.io/pagerank\n",
    "def page_rank(maxiters, epsilon, damping, graph):\n",
    "    for i in range(maxiters):\n",
    "        print(i)\n",
    "        old_ranks = {}\n",
    "        for id in graph.keys():\n",
    "            old_ranks[id] = graph[id].page_rank\n",
    "            page_rank = (1-damping)/len(graph.keys())\n",
    "            citations = graph[id].inlinks\n",
    "            for cite_id in citations:\n",
    "                page_rank += damping*(graph[cite_id].page_rank/len(graph[cite_id].outlinks))\n",
    "#             print(page_rank)\n",
    "#             if len(citations)!=0:\n",
    "            graph[id].page_rank = page_rank\n",
    "        delta = sum([abs(old_ranks[id] - graph[id].page_rank) for id in graph.keys()])\n",
    "        if delta < epsilon:\n",
    "            break\n"
   ]
  },
  {
   "cell_type": "code",
   "execution_count": 15,
   "metadata": {},
   "outputs": [],
   "source": [
    "with open(\"unfilled_dict.pkl\", \"wb\") as f:\n",
    "    pickle.dump(citation_graph, f)"
   ]
  },
  {
   "cell_type": "code",
   "execution_count": 36,
   "metadata": {},
   "outputs": [
    {
     "name": "stdout",
     "output_type": "stream",
     "text": [
      "12.0\n"
     ]
    }
   ],
   "source": [
    "fill_dict(citation_graph)"
   ]
  },
  {
   "cell_type": "code",
   "execution_count": 37,
   "metadata": {},
   "outputs": [
    {
     "name": "stdout",
     "output_type": "stream",
     "text": [
      "0\n",
      "1\n",
      "2\n",
      "3\n",
      "4\n",
      "5\n",
      "6\n",
      "7\n",
      "8\n",
      "9\n",
      "10\n",
      "11\n"
     ]
    },
    {
     "ename": "KeyboardInterrupt",
     "evalue": "",
     "output_type": "error",
     "traceback": [
      "\u001b[0;31m---------------------------------------------------------------------------\u001b[0m",
      "\u001b[0;31mKeyboardInterrupt\u001b[0m                         Traceback (most recent call last)",
      "\u001b[0;32m<ipython-input-37-b14257d49a25>\u001b[0m in \u001b[0;36m<module>\u001b[0;34m\u001b[0m\n\u001b[1;32m      1\u001b[0m \u001b[0mreset_page_rank\u001b[0m\u001b[0;34m(\u001b[0m\u001b[0mcitation_graph\u001b[0m\u001b[0;34m)\u001b[0m\u001b[0;34m\u001b[0m\u001b[0m\n\u001b[0;32m----> 2\u001b[0;31m \u001b[0mpage_rank\u001b[0m\u001b[0;34m(\u001b[0m\u001b[0;36m100\u001b[0m\u001b[0;34m,\u001b[0m\u001b[0;36m1.0e-8\u001b[0m\u001b[0;34m,\u001b[0m\u001b[0;36m0.85\u001b[0m\u001b[0;34m,\u001b[0m \u001b[0mcitation_graph\u001b[0m\u001b[0;34m)\u001b[0m\u001b[0;34m\u001b[0m\u001b[0m\n\u001b[0m",
      "\u001b[0;32m<ipython-input-9-55d47a37a3bf>\u001b[0m in \u001b[0;36mpage_rank\u001b[0;34m(maxiters, epsilon, damping, graph)\u001b[0m\n\u001b[1;32m      9\u001b[0m             \u001b[0mcitations\u001b[0m \u001b[0;34m=\u001b[0m \u001b[0mgraph\u001b[0m\u001b[0;34m[\u001b[0m\u001b[0mid\u001b[0m\u001b[0;34m]\u001b[0m\u001b[0;34m.\u001b[0m\u001b[0minlinks\u001b[0m\u001b[0;34m\u001b[0m\u001b[0m\n\u001b[1;32m     10\u001b[0m             \u001b[0;32mfor\u001b[0m \u001b[0mcite_id\u001b[0m \u001b[0;32min\u001b[0m \u001b[0mcitations\u001b[0m\u001b[0;34m:\u001b[0m\u001b[0;34m\u001b[0m\u001b[0m\n\u001b[0;32m---> 11\u001b[0;31m                 \u001b[0mpage_rank\u001b[0m \u001b[0;34m+=\u001b[0m \u001b[0mdamping\u001b[0m\u001b[0;34m*\u001b[0m\u001b[0;34m(\u001b[0m\u001b[0mgraph\u001b[0m\u001b[0;34m[\u001b[0m\u001b[0mcite_id\u001b[0m\u001b[0;34m]\u001b[0m\u001b[0;34m.\u001b[0m\u001b[0mpage_rank\u001b[0m\u001b[0;34m/\u001b[0m\u001b[0mlen\u001b[0m\u001b[0;34m(\u001b[0m\u001b[0mgraph\u001b[0m\u001b[0;34m[\u001b[0m\u001b[0mcite_id\u001b[0m\u001b[0;34m]\u001b[0m\u001b[0;34m.\u001b[0m\u001b[0moutlinks\u001b[0m\u001b[0;34m)\u001b[0m\u001b[0;34m)\u001b[0m\u001b[0;34m\u001b[0m\u001b[0m\n\u001b[0m\u001b[1;32m     12\u001b[0m \u001b[0;31m#             print(page_rank)\u001b[0m\u001b[0;34m\u001b[0m\u001b[0;34m\u001b[0m\u001b[0m\n\u001b[1;32m     13\u001b[0m \u001b[0;31m#             if len(citations)!=0:\u001b[0m\u001b[0;34m\u001b[0m\u001b[0;34m\u001b[0m\u001b[0m\n",
      "\u001b[0;31mKeyboardInterrupt\u001b[0m: "
     ]
    }
   ],
   "source": [
    "reset_page_rank(citation_graph)\n",
    "page_rank(100,1.0e-8,0.85, citation_graph)"
   ]
  },
  {
   "cell_type": "code",
   "execution_count": 16,
   "metadata": {},
   "outputs": [],
   "source": [
    "with open(\"page_rank_dict_dblp7.pkl\", \"wb\") as f:\n",
    "    pickle.dump(conf_full_dict, f)"
   ]
  },
  {
   "cell_type": "code",
   "execution_count": 26,
   "metadata": {},
   "outputs": [
    {
     "ename": "EOFError",
     "evalue": "Ran out of input",
     "output_type": "error",
     "traceback": [
      "\u001b[0;31m---------------------------------------------------------------------------\u001b[0m",
      "\u001b[0;31mEOFError\u001b[0m                                  Traceback (most recent call last)",
      "\u001b[0;32m<ipython-input-26-970ac0c2a1cf>\u001b[0m in \u001b[0;36m<module>\u001b[0;34m\u001b[0m\n\u001b[1;32m      1\u001b[0m \u001b[0mcitation_graph\u001b[0m \u001b[0;34m=\u001b[0m \u001b[0;34m{\u001b[0m\u001b[0;34m}\u001b[0m\u001b[0;34m\u001b[0m\u001b[0m\n\u001b[1;32m      2\u001b[0m \u001b[0;32mwith\u001b[0m \u001b[0mopen\u001b[0m\u001b[0;34m(\u001b[0m\u001b[0;34m\"page_rank_dict_dblp7.pkl\"\u001b[0m\u001b[0;34m,\u001b[0m \u001b[0;34m\"rb+\"\u001b[0m\u001b[0;34m)\u001b[0m \u001b[0;32mas\u001b[0m \u001b[0mf\u001b[0m\u001b[0;34m:\u001b[0m\u001b[0;34m\u001b[0m\u001b[0m\n\u001b[0;32m----> 3\u001b[0;31m     \u001b[0mcitation_graph\u001b[0m \u001b[0;34m=\u001b[0m \u001b[0mpickle\u001b[0m\u001b[0;34m.\u001b[0m\u001b[0mload\u001b[0m\u001b[0;34m(\u001b[0m\u001b[0mf\u001b[0m\u001b[0;34m)\u001b[0m\u001b[0;34m\u001b[0m\u001b[0m\n\u001b[0m",
      "\u001b[0;31mEOFError\u001b[0m: Ran out of input"
     ]
    }
   ],
   "source": [
    "citation_graph = {}\n",
    "with open(\"page_rank_dict_dblp7.pkl\", \"rb+\") as f:\n",
    "    citation_graph = pickle.load(f)"
   ]
  },
  {
   "cell_type": "code",
   "execution_count": 17,
   "metadata": {},
   "outputs": [],
   "source": [
    "max_h5_index = max(conf_full_dict, key = lambda x : conf_full_dict[x])\n",
    "max_h5_index = conf_full_dict[max_h5_index]\n",
    "min_h5_index = min(conf_full_dict, key = lambda x : conf_full_dict[x])\n",
    "min_h5_index = conf_full_dict[min_h5_index]\n",
    "\n",
    "for conf_name in conf_full_dict.keys():\n",
    "    conf_full_dict[conf_name] = (conf_full_dict[conf_name] - min_h5_index)/(max_h5_index - min_h5_index)\n",
    "for conf_name in conf_abbr_dict.keys():\n",
    "    conf_abbr_dict[conf_name] = (conf_abbr_dict[conf_name] - min_h5_index)/(max_h5_index - min_h5_index)\n"
   ]
  },
  {
   "cell_type": "code",
   "execution_count": 28,
   "metadata": {},
   "outputs": [],
   "source": [
    "with open(\"test.pkl\", \"wb\") as f:\n",
    "    pickle.dump(conf_full_dict, f)"
   ]
  },
  {
   "cell_type": "code",
   "execution_count": 30,
   "metadata": {},
   "outputs": [
    {
     "data": {
      "text/plain": [
       "945"
      ]
     },
     "execution_count": 30,
     "metadata": {},
     "output_type": "execute_result"
    }
   ],
   "source": [
    "temp = {}\n",
    "with open(\"test.pkl\", \"rb+\") as f:\n",
    "    temp = pickle.load(f)\n",
    "len(temp)"
   ]
  },
  {
   "cell_type": "code",
   "execution_count": 22,
   "metadata": {
    "scrolled": true
   },
   "outputs": [
    {
     "name": "stdout",
     "output_type": "stream",
     "text": [
      "0\n",
      "1000\n",
      "2000\n",
      "3000\n",
      "4000\n",
      "5000\n",
      "6000\n",
      "7000\n",
      "8000\n",
      "9000\n",
      "10000\n",
      "11000\n",
      "12000\n",
      "13000\n",
      "14000\n",
      "15000\n",
      "16000\n",
      "17000\n",
      "18000\n",
      "19000\n",
      "20000\n",
      "21000\n",
      "22000\n",
      "23000\n",
      "24000\n",
      "25000\n",
      "26000\n",
      "27000\n",
      "28000\n",
      "29000\n",
      "30000\n",
      "31000\n",
      "32000\n",
      "33000\n",
      "34000\n",
      "35000\n",
      "36000\n",
      "37000\n",
      "38000\n",
      "39000\n",
      "40000\n",
      "41000\n",
      "42000\n",
      "43000\n",
      "44000\n",
      "45000\n",
      "46000\n",
      "47000\n",
      "48000\n",
      "49000\n",
      "50000\n",
      "51000\n",
      "52000\n",
      "53000\n",
      "54000\n",
      "55000\n",
      "56000\n",
      "57000\n",
      "58000\n",
      "59000\n",
      "60000\n",
      "61000\n",
      "62000\n",
      "63000\n",
      "64000\n",
      "65000\n",
      "66000\n",
      "67000\n",
      "68000\n",
      "69000\n",
      "70000\n",
      "71000\n",
      "72000\n",
      "73000\n",
      "74000\n",
      "75000\n",
      "76000\n",
      "77000\n",
      "78000\n",
      "79000\n",
      "80000\n",
      "81000\n",
      "82000\n",
      "83000\n",
      "84000\n",
      "85000\n",
      "86000\n",
      "87000\n",
      "88000\n",
      "89000\n",
      "90000\n",
      "91000\n",
      "92000\n",
      "93000\n",
      "94000\n",
      "95000\n",
      "96000\n",
      "97000\n",
      "98000\n",
      "99000\n",
      "100000\n",
      "101000\n",
      "102000\n",
      "103000\n",
      "104000\n",
      "105000\n",
      "106000\n",
      "107000\n",
      "108000\n",
      "109000\n",
      "110000\n",
      "111000\n",
      "112000\n",
      "113000\n",
      "114000\n",
      "115000\n",
      "116000\n",
      "117000\n",
      "118000\n",
      "119000\n",
      "120000\n",
      "121000\n",
      "122000\n",
      "123000\n",
      "124000\n",
      "125000\n",
      "126000\n",
      "127000\n",
      "128000\n",
      "129000\n",
      "130000\n",
      "131000\n",
      "132000\n",
      "133000\n",
      "134000\n",
      "135000\n",
      "136000\n",
      "137000\n",
      "138000\n",
      "139000\n",
      "140000\n",
      "141000\n",
      "142000\n",
      "143000\n",
      "144000\n",
      "145000\n",
      "146000\n",
      "147000\n",
      "148000\n",
      "149000\n",
      "150000\n",
      "151000\n",
      "152000\n",
      "153000\n",
      "154000\n",
      "155000\n",
      "156000\n",
      "157000\n",
      "158000\n",
      "159000\n",
      "160000\n",
      "161000\n",
      "162000\n",
      "163000\n",
      "164000\n",
      "165000\n",
      "166000\n",
      "167000\n",
      "168000\n"
     ]
    },
    {
     "ename": "KeyboardInterrupt",
     "evalue": "",
     "output_type": "error",
     "traceback": [
      "\u001b[0;31m---------------------------------------------------------------------------\u001b[0m",
      "\u001b[0;31mKeyboardInterrupt\u001b[0m                         Traceback (most recent call last)",
      "\u001b[0;32m<ipython-input-22-7a4936727b97>\u001b[0m in \u001b[0;36m<module>\u001b[0;34m\u001b[0m\n\u001b[1;32m     19\u001b[0m         \u001b[0mj\u001b[0m \u001b[0;34m=\u001b[0m \u001b[0mp_obj\u001b[0m\u001b[0;34m.\u001b[0m\u001b[0mjournal\u001b[0m\u001b[0;34m.\u001b[0m\u001b[0mlower\u001b[0m\u001b[0;34m(\u001b[0m\u001b[0;34m)\u001b[0m\u001b[0;34m\u001b[0m\u001b[0m\n\u001b[1;32m     20\u001b[0m         \u001b[0;32mfor\u001b[0m \u001b[0mconf\u001b[0m \u001b[0;32min\u001b[0m \u001b[0malpha_conf_dict\u001b[0m\u001b[0;34m[\u001b[0m\u001b[0mj\u001b[0m\u001b[0;34m[\u001b[0m\u001b[0;36m0\u001b[0m\u001b[0;34m]\u001b[0m\u001b[0;34m]\u001b[0m\u001b[0;34m:\u001b[0m\u001b[0;34m\u001b[0m\u001b[0m\n\u001b[0;32m---> 21\u001b[0;31m             \u001b[0mfz_ratio\u001b[0m \u001b[0;34m=\u001b[0m \u001b[0mfuzz\u001b[0m\u001b[0;34m.\u001b[0m\u001b[0mratio\u001b[0m\u001b[0;34m(\u001b[0m\u001b[0mj\u001b[0m\u001b[0;34m,\u001b[0m \u001b[0mconf\u001b[0m\u001b[0;34m)\u001b[0m\u001b[0;34m\u001b[0m\u001b[0m\n\u001b[0m\u001b[1;32m     22\u001b[0m             \u001b[0;32mif\u001b[0m \u001b[0mfz_ratio\u001b[0m \u001b[0;34m>\u001b[0m \u001b[0mfz_ratio_max\u001b[0m\u001b[0;34m:\u001b[0m\u001b[0;34m\u001b[0m\u001b[0m\n\u001b[1;32m     23\u001b[0m                 \u001b[0mfz_ratio_max\u001b[0m \u001b[0;34m=\u001b[0m \u001b[0mfz_ratio\u001b[0m\u001b[0;34m\u001b[0m\u001b[0m\n",
      "\u001b[0;32m~/venv/lib/python3.5/site-packages/fuzzywuzzy/utils.py\u001b[0m in \u001b[0;36mdecorator\u001b[0;34m(*args, **kwargs)\u001b[0m\n\u001b[1;32m     36\u001b[0m         \u001b[0;32mif\u001b[0m \u001b[0margs\u001b[0m\u001b[0;34m[\u001b[0m\u001b[0;36m0\u001b[0m\u001b[0;34m]\u001b[0m \u001b[0;32mis\u001b[0m \u001b[0;32mNone\u001b[0m \u001b[0;32mor\u001b[0m \u001b[0margs\u001b[0m\u001b[0;34m[\u001b[0m\u001b[0;36m1\u001b[0m\u001b[0;34m]\u001b[0m \u001b[0;32mis\u001b[0m \u001b[0;32mNone\u001b[0m\u001b[0;34m:\u001b[0m\u001b[0;34m\u001b[0m\u001b[0m\n\u001b[1;32m     37\u001b[0m             \u001b[0;32mreturn\u001b[0m \u001b[0;36m0\u001b[0m\u001b[0;34m\u001b[0m\u001b[0m\n\u001b[0;32m---> 38\u001b[0;31m         \u001b[0;32mreturn\u001b[0m \u001b[0mfunc\u001b[0m\u001b[0;34m(\u001b[0m\u001b[0;34m*\u001b[0m\u001b[0margs\u001b[0m\u001b[0;34m,\u001b[0m \u001b[0;34m**\u001b[0m\u001b[0mkwargs\u001b[0m\u001b[0;34m)\u001b[0m\u001b[0;34m\u001b[0m\u001b[0m\n\u001b[0m\u001b[1;32m     39\u001b[0m     \u001b[0;32mreturn\u001b[0m \u001b[0mdecorator\u001b[0m\u001b[0;34m\u001b[0m\u001b[0m\n\u001b[1;32m     40\u001b[0m \u001b[0;34m\u001b[0m\u001b[0m\n",
      "\u001b[0;32m~/venv/lib/python3.5/site-packages/fuzzywuzzy/utils.py\u001b[0m in \u001b[0;36mdecorator\u001b[0;34m(*args, **kwargs)\u001b[0m\n\u001b[1;32m     27\u001b[0m         \u001b[0;32mif\u001b[0m \u001b[0margs\u001b[0m\u001b[0;34m[\u001b[0m\u001b[0;36m0\u001b[0m\u001b[0;34m]\u001b[0m \u001b[0;34m==\u001b[0m \u001b[0margs\u001b[0m\u001b[0;34m[\u001b[0m\u001b[0;36m1\u001b[0m\u001b[0;34m]\u001b[0m\u001b[0;34m:\u001b[0m\u001b[0;34m\u001b[0m\u001b[0m\n\u001b[1;32m     28\u001b[0m             \u001b[0;32mreturn\u001b[0m \u001b[0;36m100\u001b[0m\u001b[0;34m\u001b[0m\u001b[0m\n\u001b[0;32m---> 29\u001b[0;31m         \u001b[0;32mreturn\u001b[0m \u001b[0mfunc\u001b[0m\u001b[0;34m(\u001b[0m\u001b[0;34m*\u001b[0m\u001b[0margs\u001b[0m\u001b[0;34m,\u001b[0m \u001b[0;34m**\u001b[0m\u001b[0mkwargs\u001b[0m\u001b[0;34m)\u001b[0m\u001b[0;34m\u001b[0m\u001b[0m\n\u001b[0m\u001b[1;32m     30\u001b[0m     \u001b[0;32mreturn\u001b[0m \u001b[0mdecorator\u001b[0m\u001b[0;34m\u001b[0m\u001b[0m\n\u001b[1;32m     31\u001b[0m \u001b[0;34m\u001b[0m\u001b[0m\n",
      "\u001b[0;32m~/venv/lib/python3.5/site-packages/fuzzywuzzy/utils.py\u001b[0m in \u001b[0;36mdecorator\u001b[0;34m(*args, **kwargs)\u001b[0m\n\u001b[1;32m     45\u001b[0m         \u001b[0;32mif\u001b[0m \u001b[0mlen\u001b[0m\u001b[0;34m(\u001b[0m\u001b[0margs\u001b[0m\u001b[0;34m[\u001b[0m\u001b[0;36m0\u001b[0m\u001b[0;34m]\u001b[0m\u001b[0;34m)\u001b[0m \u001b[0;34m==\u001b[0m \u001b[0;36m0\u001b[0m \u001b[0;32mor\u001b[0m \u001b[0mlen\u001b[0m\u001b[0;34m(\u001b[0m\u001b[0margs\u001b[0m\u001b[0;34m[\u001b[0m\u001b[0;36m1\u001b[0m\u001b[0;34m]\u001b[0m\u001b[0;34m)\u001b[0m \u001b[0;34m==\u001b[0m \u001b[0;36m0\u001b[0m\u001b[0;34m:\u001b[0m\u001b[0;34m\u001b[0m\u001b[0m\n\u001b[1;32m     46\u001b[0m             \u001b[0;32mreturn\u001b[0m \u001b[0;36m0\u001b[0m\u001b[0;34m\u001b[0m\u001b[0m\n\u001b[0;32m---> 47\u001b[0;31m         \u001b[0;32mreturn\u001b[0m \u001b[0mfunc\u001b[0m\u001b[0;34m(\u001b[0m\u001b[0;34m*\u001b[0m\u001b[0margs\u001b[0m\u001b[0;34m,\u001b[0m \u001b[0;34m**\u001b[0m\u001b[0mkwargs\u001b[0m\u001b[0;34m)\u001b[0m\u001b[0;34m\u001b[0m\u001b[0m\n\u001b[0m\u001b[1;32m     48\u001b[0m     \u001b[0;32mreturn\u001b[0m \u001b[0mdecorator\u001b[0m\u001b[0;34m\u001b[0m\u001b[0m\n\u001b[1;32m     49\u001b[0m \u001b[0;34m\u001b[0m\u001b[0m\n",
      "\u001b[0;32m~/venv/lib/python3.5/site-packages/fuzzywuzzy/fuzz.py\u001b[0m in \u001b[0;36mratio\u001b[0;34m(s1, s2)\u001b[0m\n\u001b[1;32m     26\u001b[0m \u001b[0;34m\u001b[0m\u001b[0m\n\u001b[1;32m     27\u001b[0m     \u001b[0mm\u001b[0m \u001b[0;34m=\u001b[0m \u001b[0mSequenceMatcher\u001b[0m\u001b[0;34m(\u001b[0m\u001b[0;32mNone\u001b[0m\u001b[0;34m,\u001b[0m \u001b[0ms1\u001b[0m\u001b[0;34m,\u001b[0m \u001b[0ms2\u001b[0m\u001b[0;34m)\u001b[0m\u001b[0;34m\u001b[0m\u001b[0m\n\u001b[0;32m---> 28\u001b[0;31m     \u001b[0;32mreturn\u001b[0m \u001b[0mutils\u001b[0m\u001b[0;34m.\u001b[0m\u001b[0mintr\u001b[0m\u001b[0;34m(\u001b[0m\u001b[0;36m100\u001b[0m \u001b[0;34m*\u001b[0m \u001b[0mm\u001b[0m\u001b[0;34m.\u001b[0m\u001b[0mratio\u001b[0m\u001b[0;34m(\u001b[0m\u001b[0;34m)\u001b[0m\u001b[0;34m)\u001b[0m\u001b[0;34m\u001b[0m\u001b[0m\n\u001b[0m\u001b[1;32m     29\u001b[0m \u001b[0;34m\u001b[0m\u001b[0m\n\u001b[1;32m     30\u001b[0m \u001b[0;34m\u001b[0m\u001b[0m\n",
      "\u001b[0;32m/usr/lib/python3.5/difflib.py\u001b[0m in \u001b[0;36mratio\u001b[0;34m(self)\u001b[0m\n\u001b[1;32m    642\u001b[0m         \"\"\"\n\u001b[1;32m    643\u001b[0m \u001b[0;34m\u001b[0m\u001b[0m\n\u001b[0;32m--> 644\u001b[0;31m         \u001b[0mmatches\u001b[0m \u001b[0;34m=\u001b[0m \u001b[0msum\u001b[0m\u001b[0;34m(\u001b[0m\u001b[0mtriple\u001b[0m\u001b[0;34m[\u001b[0m\u001b[0;34m-\u001b[0m\u001b[0;36m1\u001b[0m\u001b[0;34m]\u001b[0m \u001b[0;32mfor\u001b[0m \u001b[0mtriple\u001b[0m \u001b[0;32min\u001b[0m \u001b[0mself\u001b[0m\u001b[0;34m.\u001b[0m\u001b[0mget_matching_blocks\u001b[0m\u001b[0;34m(\u001b[0m\u001b[0;34m)\u001b[0m\u001b[0;34m)\u001b[0m\u001b[0;34m\u001b[0m\u001b[0m\n\u001b[0m\u001b[1;32m    645\u001b[0m         \u001b[0;32mreturn\u001b[0m \u001b[0m_calculate_ratio\u001b[0m\u001b[0;34m(\u001b[0m\u001b[0mmatches\u001b[0m\u001b[0;34m,\u001b[0m \u001b[0mlen\u001b[0m\u001b[0;34m(\u001b[0m\u001b[0mself\u001b[0m\u001b[0;34m.\u001b[0m\u001b[0ma\u001b[0m\u001b[0;34m)\u001b[0m \u001b[0;34m+\u001b[0m \u001b[0mlen\u001b[0m\u001b[0;34m(\u001b[0m\u001b[0mself\u001b[0m\u001b[0;34m.\u001b[0m\u001b[0mb\u001b[0m\u001b[0;34m)\u001b[0m\u001b[0;34m)\u001b[0m\u001b[0;34m\u001b[0m\u001b[0m\n\u001b[1;32m    646\u001b[0m \u001b[0;34m\u001b[0m\u001b[0m\n",
      "\u001b[0;32m/usr/lib/python3.5/difflib.py\u001b[0m in \u001b[0;36mget_matching_blocks\u001b[0;34m(self)\u001b[0m\n\u001b[1;32m    477\u001b[0m         \u001b[0;32mwhile\u001b[0m \u001b[0mqueue\u001b[0m\u001b[0;34m:\u001b[0m\u001b[0;34m\u001b[0m\u001b[0m\n\u001b[1;32m    478\u001b[0m             \u001b[0malo\u001b[0m\u001b[0;34m,\u001b[0m \u001b[0mahi\u001b[0m\u001b[0;34m,\u001b[0m \u001b[0mblo\u001b[0m\u001b[0;34m,\u001b[0m \u001b[0mbhi\u001b[0m \u001b[0;34m=\u001b[0m \u001b[0mqueue\u001b[0m\u001b[0;34m.\u001b[0m\u001b[0mpop\u001b[0m\u001b[0;34m(\u001b[0m\u001b[0;34m)\u001b[0m\u001b[0;34m\u001b[0m\u001b[0m\n\u001b[0;32m--> 479\u001b[0;31m             \u001b[0mi\u001b[0m\u001b[0;34m,\u001b[0m \u001b[0mj\u001b[0m\u001b[0;34m,\u001b[0m \u001b[0mk\u001b[0m \u001b[0;34m=\u001b[0m \u001b[0mx\u001b[0m \u001b[0;34m=\u001b[0m \u001b[0mself\u001b[0m\u001b[0;34m.\u001b[0m\u001b[0mfind_longest_match\u001b[0m\u001b[0;34m(\u001b[0m\u001b[0malo\u001b[0m\u001b[0;34m,\u001b[0m \u001b[0mahi\u001b[0m\u001b[0;34m,\u001b[0m \u001b[0mblo\u001b[0m\u001b[0;34m,\u001b[0m \u001b[0mbhi\u001b[0m\u001b[0;34m)\u001b[0m\u001b[0;34m\u001b[0m\u001b[0m\n\u001b[0m\u001b[1;32m    480\u001b[0m             \u001b[0;31m# a[alo:i] vs b[blo:j] unknown\u001b[0m\u001b[0;34m\u001b[0m\u001b[0;34m\u001b[0m\u001b[0m\n\u001b[1;32m    481\u001b[0m             \u001b[0;31m# a[i:i+k] same as b[j:j+k]\u001b[0m\u001b[0;34m\u001b[0m\u001b[0;34m\u001b[0m\u001b[0m\n",
      "\u001b[0;32m/usr/lib/python3.5/difflib.py\u001b[0m in \u001b[0;36mfind_longest_match\u001b[0;34m(self, alo, ahi, blo, bhi)\u001b[0m\n\u001b[1;32m    408\u001b[0m                 \u001b[0;32mif\u001b[0m \u001b[0mj\u001b[0m \u001b[0;34m>=\u001b[0m \u001b[0mbhi\u001b[0m\u001b[0;34m:\u001b[0m\u001b[0;34m\u001b[0m\u001b[0m\n\u001b[1;32m    409\u001b[0m                     \u001b[0;32mbreak\u001b[0m\u001b[0;34m\u001b[0m\u001b[0m\n\u001b[0;32m--> 410\u001b[0;31m                 \u001b[0mk\u001b[0m \u001b[0;34m=\u001b[0m \u001b[0mnewj2len\u001b[0m\u001b[0;34m[\u001b[0m\u001b[0mj\u001b[0m\u001b[0;34m]\u001b[0m \u001b[0;34m=\u001b[0m \u001b[0mj2lenget\u001b[0m\u001b[0;34m(\u001b[0m\u001b[0mj\u001b[0m\u001b[0;34m-\u001b[0m\u001b[0;36m1\u001b[0m\u001b[0;34m,\u001b[0m \u001b[0;36m0\u001b[0m\u001b[0;34m)\u001b[0m \u001b[0;34m+\u001b[0m \u001b[0;36m1\u001b[0m\u001b[0;34m\u001b[0m\u001b[0m\n\u001b[0m\u001b[1;32m    411\u001b[0m                 \u001b[0;32mif\u001b[0m \u001b[0mk\u001b[0m \u001b[0;34m>\u001b[0m \u001b[0mbestsize\u001b[0m\u001b[0;34m:\u001b[0m\u001b[0;34m\u001b[0m\u001b[0m\n\u001b[1;32m    412\u001b[0m                     \u001b[0mbesti\u001b[0m\u001b[0;34m,\u001b[0m \u001b[0mbestj\u001b[0m\u001b[0;34m,\u001b[0m \u001b[0mbestsize\u001b[0m \u001b[0;34m=\u001b[0m \u001b[0mi\u001b[0m\u001b[0;34m-\u001b[0m\u001b[0mk\u001b[0m\u001b[0;34m+\u001b[0m\u001b[0;36m1\u001b[0m\u001b[0;34m,\u001b[0m \u001b[0mj\u001b[0m\u001b[0;34m-\u001b[0m\u001b[0mk\u001b[0m\u001b[0;34m+\u001b[0m\u001b[0;36m1\u001b[0m\u001b[0;34m,\u001b[0m \u001b[0mk\u001b[0m\u001b[0;34m\u001b[0m\u001b[0m\n",
      "\u001b[0;31mKeyboardInterrupt\u001b[0m: "
     ]
    }
   ],
   "source": [
    "count = 0\n",
    "count1 = 0\n",
    "conf_dict_merged = {**conf_full_dict, **conf_abbr_dict}\n",
    "del conf_dict_merged[\"\"]\n",
    "conf_names = sorted(conf_dict_merged.keys())\n",
    "from collections import defaultdict\n",
    "alpha_conf_dict = defaultdict(list)\n",
    "for conf_name in conf_names:\n",
    "    alpha_conf_dict[conf_name[0]].append(conf_name)\n",
    "\n",
    "for i,id in enumerate(list(citation_graph.keys())):\n",
    "    p_obj = citation_graph[id]\n",
    "    if p_obj.journal.lower() in alpha_conf_dict[p_obj.journal.lower()[0]]:\n",
    "        count += 1\n",
    "        citation_graph[id].page_rank *= conf_dict_merged[p_obj.journal.lower()]\n",
    "    else:\n",
    "        fz_ratio_max = 0\n",
    "        fz_conf = \"\"\n",
    "        j = p_obj.journal.lower()\n",
    "        for conf in alpha_conf_dict[j[0]]:\n",
    "            fz_ratio = fuzz.ratio(j, conf)\n",
    "            if fz_ratio > fz_ratio_max:\n",
    "                fz_ratio_max = fz_ratio\n",
    "                fz_conf = conf\n",
    "        if fz_ratio_max == 0:\n",
    "            count1 += 1\n",
    "            citation_graph[id].page_rank *= 0.5\n",
    "        else:\n",
    "            citation_graph[id].page_rank *= conf_dict_merged[fz_conf]\n",
    "    if i%1000 == 0:\n",
    "        print(i)\n",
    "            \n",
    "print(\"%d/%d\" % (count, len(citation_graph)))"
   ]
  },
  {
   "cell_type": "code",
   "execution_count": 103,
   "metadata": {},
   "outputs": [
    {
     "name": "stdout",
     "output_type": "stream",
     "text": [
      "10430/2146341\n"
     ]
    }
   ],
   "source": [
    "print(\"%d/%d\" % (count1, len(citation_graph)))"
   ]
  },
  {
   "cell_type": "code",
   "execution_count": 27,
   "metadata": {},
   "outputs": [
    {
     "name": "stdout",
     "output_type": "stream",
     "text": [
      "335146\n"
     ]
    }
   ],
   "source": [
    "page_ranks = set()\n",
    "for id in citation_graph.keys():\n",
    "    page_ranks.add(citation_graph[id].page_rank)\n",
    "print(len(page_ranks))"
   ]
  },
  {
   "cell_type": "code",
   "execution_count": 25,
   "metadata": {},
   "outputs": [],
   "source": [
    "with open(\"page_rank_dict.pkl\", \"wb\") as f:\n",
    "    pickle.dump(citation_graph, f)"
   ]
  },
  {
   "cell_type": "code",
   "execution_count": 34,
   "metadata": {},
   "outputs": [
    {
     "name": "stdout",
     "output_type": "stream",
     "text": [
      "['aminer_papers_0.txt', 'aminer_papers_1.txt', 'aminer_papers_10.txt', 'aminer_papers_11.txt', 'aminer_papers_12.txt', 'aminer_papers_13.txt', 'aminer_papers_14.txt', 'aminer_papers_15.txt', 'aminer_papers_16.txt', 'aminer_papers_17.txt', 'aminer_papers_18.txt', 'aminer_papers_19.txt', 'aminer_papers_2.txt', 'aminer_papers_20.txt', 'aminer_papers_21.txt', 'aminer_papers_22.txt', 'aminer_papers_23.txt', 'aminer_papers_24.txt', 'aminer_papers_25.txt', 'aminer_papers_26.txt', 'aminer_papers_27.txt', 'aminer_papers_28.txt', 'aminer_papers_29.txt', 'aminer_papers_3.txt', 'aminer_papers_4.txt', 'aminer_papers_5.txt', 'aminer_papers_6.txt', 'aminer_papers_7.txt', 'aminer_papers_8.txt', 'aminer_papers_9.txt']\n"
     ]
    }
   ],
   "source": [
    "print(os.listdir(\"./aminer_papers_0\"))"
   ]
  },
  {
   "cell_type": "code",
   "execution_count": 3,
   "metadata": {},
   "outputs": [],
   "source": [
    "with open('page_rank_dict.pkl', \"rb\") as file:\n",
    "    citation_graph = pickle.load(file)"
   ]
  },
  {
   "cell_type": "code",
   "execution_count": 28,
   "metadata": {},
   "outputs": [
    {
     "data": {
      "text/plain": [
       "2146341"
      ]
     },
     "execution_count": 28,
     "metadata": {},
     "output_type": "execute_result"
    }
   ],
   "source": [
    "len(citation_graph)"
   ]
  },
  {
   "cell_type": "code",
   "execution_count": 51,
   "metadata": {},
   "outputs": [],
   "source": [
    "class Author:\n",
    "    def __init__(self):\n",
    "        self.author_org_list = []\n",
    "        self.paper_list = []\n",
    "        self.citations = []\n",
    "        self.author_score = 0\n",
    "        self.author_score_2 = 0\n",
    "        self.author_score_list = []\n",
    "        self.h_index = 0\n",
    "        \n",
    "def create_author_map(graph):\n",
    "    authors_map = {}\n",
    "    for paper_id in graph.keys():\n",
    "        for a_index,a_name in enumerate(graph[paper_id].authors):\n",
    "            if a_name and len(a_name) != 0 and \"null\" not in a_name:\n",
    "                if a_name not in authors_map.keys():\n",
    "                    authors_map[a_name] = Author()\n",
    "#                 authors_map[a_name].author_org_list.append(a_org)\n",
    "                authors_map[a_name].paper_list.append(paper_id)\n",
    "                authors_map[a_name].citations.append(len(graph[paper_id].inlinks))\n",
    "                authors_map[a_name].author_score += graph[paper_id].page_rank\n",
    "                author_index_weight = 1/(2**a_index)\n",
    "                authors_map[a_name].author_score_list.append(author_index_weight*graph[paper_id].page_rank*math.log10(((len(graph[paper_id].inlinks) + 1)/graph[paper_id].duration)))\n",
    "        \n",
    "    for a_name in authors_map.keys():\n",
    "#         authors_map[a_name].author_score = authors_map[a_name].author_score / len(authors_map[a_name].paper_list)\n",
    "#         authors_map[a_name].author_score_2 = np.median(authors_map[a_name].author_score_list)\n",
    "         authors_map[a_name].author_score_2 = np.median(authors_map[a_name].author_score_list) + math.log10(len(authors_map[a_name].paper_list))/len(citation_graph)\n",
    "    return authors_map\n",
    "        "
   ]
  },
  {
   "cell_type": "code",
   "execution_count": 52,
   "metadata": {},
   "outputs": [],
   "source": [
    "author_map = create_author_map(citation_graph)"
   ]
  },
  {
   "cell_type": "code",
   "execution_count": 53,
   "metadata": {},
   "outputs": [
    {
     "data": {
      "text/plain": [
       "['Bui Tuong Phong',\n",
       " 'James W. Layland',\n",
       " 'Veronica Falcao',\n",
       " 'Mitesh Suchak',\n",
       " 'Neophytos Iacovou',\n",
       " 'Josh Broch',\n",
       " 'Anit Chakraborty',\n",
       " 'Hal L. Feinstein',\n",
       " 'Neil D. McKay',\n",
       " 'Jonathan Gibbons',\n",
       " 'Mary Ann Marcinkiewicz',\n",
       " 'Beatrice Santorini',\n",
       " 'Vera Watson',\n",
       " 'Lee R. Gordon',\n",
       " 'Scott R. Parry',\n",
       " 'Vincent D. Park',\n",
       " 'Burton H. Bloom',\n",
       " 'Craig W. Reynolds',\n",
       " 'Robert A. Schumacker',\n",
       " 'Fernando G. Palacios',\n",
       " 'Norbert Beckmann',\n",
       " 'Margaret J. Corasick',\n",
       " 'Elliot Schwartz',\n",
       " 'William Adjie-Winoto',\n",
       " 'M. Kirby',\n",
       " 'John W. Tukey',\n",
       " 'Mike Woo',\n",
       " 'Stephen Barnhill',\n",
       " 'Alan E. Kulawik',\n",
       " 'Jakov N. Seizovic',\n",
       " 'David Maltz',\n",
       " 'Jonathan A. Zarge',\n",
       " 'Tony Ballardie',\n",
       " 'Douglas S. J. De Couto',\n",
       " 'Bruce Jay Nelson',\n",
       " 'Martin Lades',\n",
       " 'Hervé Da Costa',\n",
       " 'David Hecherman',\n",
       " 'Hu Imm Lee',\n",
       " 'Gregory A. Klanderman',\n",
       " 'C. Katz',\n",
       " 'Elena Pacenti',\n",
       " 'Gregory K. Wallace',\n",
       " 'Robert A. Drebin',\n",
       " 'Terence Tong',\n",
       " 'Susan Irwin',\n",
       " 'Hans Eriksson',\n",
       " 'Jack Tzu-Chieh Tsai',\n",
       " 'Martin Roesch',\n",
       " 'Mark Rosenstein',\n",
       " 'Barry A. Woodward',\n",
       " 'Paul Webster',\n",
       " 'Martin E. Newell',\n",
       " 'Nicklas Hedman',\n",
       " 'Steven Cameron Woo',\n",
       " 'Jeremy Lilley',\n",
       " 'S. Soltani',\n",
       " 'Frédéic Vincent',\n",
       " 'Farshid Farrokhnia',\n",
       " 'Daniel V. Wilson',\n",
       " 'Xuanli Lisa Xie',\n",
       " 'Garth Gullekson',\n",
       " 'Benjamin Jun',\n",
       " 'George Logemann',\n",
       " 'Daniel Rubenstein',\n",
       " 'R. Riley',\n",
       " 'Stephen A. Brobst',\n",
       " 'Wen-King Su',\n",
       " 'Nanette J. Boden',\n",
       " 'Timothy J. Shepard',\n",
       " 'Richard M. Russell',\n",
       " 'Andreas Moestedt',\n",
       " 'Magnus Christensson',\n",
       " 'Johan Högberg',\n",
       " 'Gustav Hållberg',\n",
       " 'Thaddeus Beier',\n",
       " 'Shawn Neely',\n",
       " 'Anne Dardenne',\n",
       " 'Michael D. Kupfer',\n",
       " 'James G. Thompson',\n",
       " 'D. R. Kincaid',\n",
       " 'Thomas M. J. Fruchterman',\n",
       " 'Didier Le Gall',\n",
       " 'Michael Lounsbery',\n",
       " 'E. Jokipii',\n",
       " 'Pierre Guerrier',\n",
       " 'Tim McCandless',\n",
       " 'Alfarez Abdul-Rahman',\n",
       " 'J. L. Kuhns',\n",
       " 'Duane Fulk',\n",
       " 'Matt Ginzton',\n",
       " 'Loren C. Carpenter',\n",
       " 'Theodore R. Maeurer',\n",
       " 'Thomas Milligan',\n",
       " 'Mark D. Callaghan',\n",
       " 'Nathan E. Doss',\n",
       " 'Carrie Porterfield',\n",
       " 'E. Vyzas',\n",
       " 'Brian Liebowitz',\n",
       " 'Brett Warneke']"
      ]
     },
     "execution_count": 53,
     "metadata": {},
     "output_type": "execute_result"
    }
   ],
   "source": [
    "author_names[:100]"
   ]
  },
  {
   "cell_type": "code",
   "execution_count": 54,
   "metadata": {},
   "outputs": [],
   "source": [
    "def calc_h_index(author_map):\n",
    "    for a_name in author_map.keys():\n",
    "        author_map[a_name].citations.sort()\n",
    "        i = 0\n",
    "        l = len(author_map[a_name].citations)\n",
    "        while i < l and author_map[a_name].citations[l-1-i] > i:\n",
    "            i += 1\n",
    "        author_map[a_name].h_index = i\n",
    "        \n",
    "        \n",
    "        \n",
    "        "
   ]
  },
  {
   "cell_type": "code",
   "execution_count": 55,
   "metadata": {},
   "outputs": [],
   "source": [
    "calc_h_index(author_map)\n"
   ]
  },
  {
   "cell_type": "code",
   "execution_count": 56,
   "metadata": {},
   "outputs": [],
   "source": [
    "#[((citation_graph[x].year, sum([citation_graph[x].n_citations if for y in author_map['WANG Wei'].paper_list])) for x in author_map['WANG Wei'].paper_list))\n",
    "\n",
    "def year_wise_citations(a_name):\n",
    "    paper_list = author_map[a_name].paper_list\n",
    "    print(len(paper_list))\n",
    "    from collections import defaultdict\n",
    "    d = defaultdict(int)\n",
    "    for p_id in paper_list:\n",
    "        d[citation_graph[p_id].year] += len(citation_graph[p_id].inlinks)\n",
    "    return sorted([(k,d[k]) for k in d.keys()], key = lambda x: x[0])\n"
   ]
  },
  {
   "cell_type": "code",
   "execution_count": 9,
   "metadata": {},
   "outputs": [],
   "source": [
    "with open(\"author_map.pkl\", \"rb\") as f:\n",
    "    author_map = pickle.load(f)"
   ]
  },
  {
   "cell_type": "code",
   "execution_count": 57,
   "metadata": {},
   "outputs": [],
   "source": [
    "def top_n(n, auths):\n",
    "    return auths[:n]"
   ]
  },
  {
   "cell_type": "code",
   "execution_count": 58,
   "metadata": {},
   "outputs": [],
   "source": [
    "author_names_h = sorted(author_map.keys(), key = lambda x: author_map[x].h_index)[::-1]\n",
    "author_names = sorted(author_map.keys(), key = lambda x: author_map[x].author_score_2)[::-1]\n",
    "\n",
    "top_n_our_index = top_n(5, author_names)\n",
    "top_n_h_index = top_n(5, author_names_h)"
   ]
  },
  {
   "cell_type": "code",
   "execution_count": 59,
   "metadata": {},
   "outputs": [
    {
     "data": {
      "text/plain": [
       "['Hector Garcia-Molina',\n",
       " 'Scott Shenker',\n",
       " 'Jiawei Han',\n",
       " 'Christos Faloutsos',\n",
       " 'Rakesh Agrawal',\n",
       " 'Moni Naor',\n",
       " 'Thomas A. Henzinger',\n",
       " 'Christos H. Papadimitriou',\n",
       " 'Anil K. Jain',\n",
       " 'Philip S. Yu',\n",
       " 'Jennifer Widom',\n",
       " 'David E. Culler',\n",
       " 'Rajeev Motwani',\n",
       " 'Ian T. Foster',\n",
       " 'Mihir Bellare',\n",
       " 'David J. DeWitt',\n",
       " 'Deborah Estrin',\n",
       " 'Dan Suciu',\n",
       " 'Hari Balakrishnan',\n",
       " 'W. Bruce Croft',\n",
       " 'Ronald Fagin',\n",
       " 'Jon M. Kleinberg',\n",
       " 'Jeffrey D. Ullman',\n",
       " 'Oded Goldreich',\n",
       " 'Michael Stonebraker',\n",
       " 'Thomas E. Anderson',\n",
       " 'Robert Endre Tarjan',\n",
       " 'Raghu Ramakrishnan',\n",
       " 'Mihalis Yannakakis',\n",
       " 'Amit Sahai',\n",
       " 'Moshe Y. Vardi',\n",
       " 'Joseph M. Hellerstein',\n",
       " 'Edmund M. Clarke',\n",
       " 'Martín Abadi',\n",
       " 'Thomas W. Reps',\n",
       " 'Jeffrey F. Naughton',\n",
       " 'Dan Boneh',\n",
       " 'Ravi Kumar',\n",
       " 'Ran Canetti',\n",
       " 'Pat Hanrahan',\n",
       " 'H. V. Jagadish',\n",
       " 'Amir Pnueli',\n",
       " 'Ion Stoica',\n",
       " 'Ken Kennedy',\n",
       " 'Rajeev Alur',\n",
       " 'Madhu Sudan',\n",
       " 'Wei-Ying Ma',\n",
       " 'Robert E. Schapire',\n",
       " 'Serge Abiteboul',\n",
       " 'Brent Waters']"
      ]
     },
     "execution_count": 59,
     "metadata": {},
     "output_type": "execute_result"
    }
   ],
   "source": [
    "author_names_h[:50]"
   ]
  },
  {
   "cell_type": "code",
   "execution_count": 60,
   "metadata": {},
   "outputs": [
    {
     "data": {
      "text/plain": [
       "107201"
      ]
     },
     "execution_count": 60,
     "metadata": {},
     "output_type": "execute_result"
    }
   ],
   "source": [
    "author_names.index('Matthias Mann')"
   ]
  },
  {
   "cell_type": "code",
   "execution_count": 61,
   "metadata": {},
   "outputs": [
    {
     "data": {
      "text/plain": [
       "['Bui Tuong Phong',\n",
       " 'Josh Broch',\n",
       " 'James W. Layland',\n",
       " 'Neophytos Iacovou',\n",
       " 'Vincent D. Park',\n",
       " 'Burton H. Bloom',\n",
       " 'Anit Chakraborty',\n",
       " 'Craig W. Reynolds',\n",
       " 'Norbert Beckmann',\n",
       " 'William Adjie-Winoto',\n",
       " 'M. Kirby',\n",
       " 'Neil D. McKay',\n",
       " 'Veronica Falcao',\n",
       " 'Mitesh Suchak',\n",
       " 'Beatrice Santorini',\n",
       " 'Tony Ballardie',\n",
       " 'Martin Lades',\n",
       " 'Gregory K. Wallace',\n",
       " 'Robert A. Drebin',\n",
       " 'Scott R. Parry',\n",
       " 'Hans Eriksson',\n",
       " 'Martin Roesch',\n",
       " 'Steven Cameron Woo',\n",
       " 'Hal L. Feinstein',\n",
       " 'Margaret J. Corasick',\n",
       " 'Elliot Schwartz',\n",
       " 'Xuanli Lisa Xie',\n",
       " 'Mike Woo',\n",
       " 'Nanette J. Boden',\n",
       " 'Timothy J. Shepard',\n",
       " 'Mary Ann Marcinkiewicz',\n",
       " 'Richard M. Russell',\n",
       " 'Thaddeus Beier',\n",
       " 'Jonathan A. Zarge',\n",
       " 'Anne Dardenne',\n",
       " 'Bruce Jay Nelson',\n",
       " 'Hervé Da Costa',\n",
       " 'Gregory A. Klanderman',\n",
       " 'Thomas M. J. Fruchterman',\n",
       " 'Didier Le Gall',\n",
       " 'Pierre Guerrier',\n",
       " 'Terence Tong',\n",
       " 'Alfarez Abdul-Rahman',\n",
       " 'Jack Tzu-Chieh Tsai',\n",
       " 'Brett Warneke',\n",
       " 'Tijs van Dam',\n",
       " 'Robert A. Schumacker',\n",
       " 'David Maltz',\n",
       " 'Martin E. Newell',\n",
       " 'Jean Babaud']"
      ]
     },
     "execution_count": 61,
     "metadata": {},
     "output_type": "execute_result"
    }
   ],
   "source": [
    "author_names[:50]"
   ]
  },
  {
   "cell_type": "code",
   "execution_count": 41,
   "metadata": {},
   "outputs": [
    {
     "ename": "KeyError",
     "evalue": "'istvan simon'",
     "output_type": "error",
     "traceback": [
      "\u001b[0;31m---------------------------------------------------------------------------\u001b[0m",
      "\u001b[0;31mKeyError\u001b[0m                                  Traceback (most recent call last)",
      "\u001b[0;32m<ipython-input-41-51df1bfeb369>\u001b[0m in \u001b[0;36m<module>\u001b[0;34m\u001b[0m\n\u001b[0;32m----> 1\u001b[0;31m \u001b[0mauthor_map\u001b[0m\u001b[0;34m[\u001b[0m\u001b[0;34m'istvan simon'\u001b[0m\u001b[0;34m]\u001b[0m\u001b[0;34m.\u001b[0m\u001b[0mpaper_list\u001b[0m\u001b[0;34m\u001b[0m\u001b[0m\n\u001b[0m",
      "\u001b[0;31mKeyError\u001b[0m: 'istvan simon'"
     ]
    }
   ],
   "source": [
    "author_map['istvan simon'].paper_list"
   ]
  },
  {
   "cell_type": "code",
   "execution_count": 62,
   "metadata": {},
   "outputs": [
    {
     "name": "stdout",
     "output_type": "stream",
     "text": [
      "1\n",
      "Bui Tuong Phong [(1975, 239)]\n",
      "2\n",
      "Josh Broch [(1998, 702), (1999, 31)]\n",
      "1\n",
      "James W. Layland [(1973, 1260)]\n",
      "1\n",
      "Neophytos Iacovou [(1994, 812)]\n",
      "2\n",
      "Vincent D. Park [(1997, 321), (2010, 2)]\n",
      "1\n",
      "Burton H. Bloom [(1970, 810)]\n",
      "1\n",
      "Anit Chakraborty [(2000, 526)]\n",
      "2\n",
      "Craig W. Reynolds [(1987, 626), (1994, 0)]\n",
      "2\n",
      "Norbert Beckmann [(1990, 1049), (2009, 1)]\n",
      "1\n",
      "William Adjie-Winoto [(1999, 155)]\n",
      "2\n",
      "M. Kirby [(1990, 244), (2011, 0)]\n",
      "1\n",
      "Neil D. McKay [(1992, 908)]\n",
      "1\n",
      "Veronica Falcao [(1992, 515)]\n",
      "1\n",
      "Mitesh Suchak [(1994, 812)]\n",
      "2\n",
      "Beatrice Santorini [(1991, 0), (1993, 908)]\n",
      "1\n",
      "Tony Ballardie [(1993, 161)]\n",
      "2\n",
      "Martin Lades [(1993, 244)]\n",
      "2\n",
      "Gregory K. Wallace [(1991, 247)]\n",
      "1\n",
      "Robert A. Drebin [(1988, 214)]\n",
      "1\n",
      "Scott R. Parry [(1986, 322)]\n",
      "1\n",
      "Hans Eriksson [(1994, 122)]\n",
      "1\n",
      "Martin Roesch [(1999, 364)]\n",
      "2\n",
      "Steven Cameron Woo [(1994, 0), (1995, 781)]\n",
      "1\n",
      "Hal L. Feinstein [(1996, 940)]\n",
      "1\n",
      "Margaret J. Corasick [(1975, 405)]\n",
      "1\n",
      "Elliot Schwartz [(1999, 155)]\n",
      "1\n",
      "Xuanli Lisa Xie [(1991, 283)]\n",
      "1\n",
      "Mike Woo [(1998, 301)]\n",
      "2\n",
      "Nanette J. Boden [(1989, 5), (1995, 458)]\n",
      "1\n",
      "Timothy J. Shepard [(1996, 46)]\n",
      "2\n",
      "Mary Ann Marcinkiewicz [(1993, 908), (1994, 93)]\n",
      "1\n",
      "Richard M. Russell [(1978, 129)]\n",
      "1\n",
      "Thaddeus Beier [(1992, 163)]\n",
      "1\n",
      "Jonathan A. Zarge [(1992, 236)]\n",
      "1\n",
      "Anne Dardenne [(1993, 298)]\n",
      "2\n",
      "Bruce Jay Nelson [(1983, 0), (1984, 333)]\n",
      "1\n",
      "Hervé Da Costa [(1985, 146)]\n",
      "1\n",
      "Gregory A. Klanderman [(1993, 346)]\n",
      "1\n",
      "Thomas M. J. Fruchterman [(1991, 283)]\n",
      "2\n",
      "Didier Le Gall [(1991, 241), (2010, 0)]\n",
      "1\n",
      "Pierre Guerrier [(2000, 170)]\n",
      "1\n",
      "Terence Tong [(2003, 338)]\n",
      "1\n",
      "Alfarez Abdul-Rahman [(2000, 204)]\n",
      "1\n",
      "Jack Tzu-Chieh Tsai [(1995, 214)]\n",
      "1\n",
      "Brett Warneke [(2001, 116)]\n",
      "2\n",
      "Tijs van Dam [(2003, 329), (2005, 14)]\n",
      "2\n",
      "Robert A. Schumacker [(1973, 0), (1974, 104)]\n",
      "2\n",
      "David Maltz [(1995, 58), (1997, 475)]\n",
      "2\n",
      "Martin E. Newell [(1976, 128), (1982, 0)]\n",
      "1\n",
      "Jean Babaud [(1986, 92)]\n",
      "1\n",
      "Ioan Cristian Trelea [(2003, 126)]\n",
      "2\n",
      "Ken Shoemake [(1985, 140), (1991, 35)]\n",
      "1\n",
      "S. Soltani [(1988, 178)]\n",
      "1\n",
      "Henry G. Baker Jr. [(1978, 185)]\n",
      "2\n",
      "Lisa Gottesfeld Brown [(1990, 6), (1992, 284)]\n",
      "1\n",
      "Farshid Farrokhnia [(1991, 213)]\n",
      "5\n",
      "Badrul M. Sarwar [(1998, 92), (1999, 149), (2000, 295), (2001, 625), (2005, 0)]\n",
      "1\n",
      "John Moy [(1994, 55)]\n",
      "1\n",
      "Brent N. Clark [(1990, 240)]\n",
      "2\n",
      "George Logemann [(1962, 688), (1966, 0)]\n",
      "1\n",
      "Garth Gullekson [(1994, 256)]\n",
      "2\n",
      "Bruce D. Lucas [(1981, 433), (1985, 1)]\n",
      "2\n",
      "Tristan Richardson [(1997, 7), (1998, 197)]\n",
      "1\n",
      "Stephen Barnhill [(2002, 521)]\n",
      "2\n",
      "Phil Karn [(1987, 48), (1991, 29)]\n",
      "2\n",
      "M. Shreedhar [(1995, 141), (1996, 159)]\n",
      "1\n",
      "R. Riley [(1989, 45)]\n",
      "1\n",
      "Asif Ghias [(1995, 124)]\n",
      "1\n",
      "Giuseppe DeCandia [(2007, 253)]\n",
      "1\n",
      "Richard Stoakley [(1995, 147)]\n",
      "2\n",
      "Donald F. Specht [(1990, 194), (2006, 0)]\n",
      "2\n",
      "Scott Elrod [(1992, 104), (1993, 19)]\n",
      "1\n",
      "T. Kamada [(1989, 206)]\n",
      "1\n",
      "Caroline Claus [(1998, 146)]\n",
      "1\n",
      "John Michael Spivey [(1989, 161)]\n",
      "2\n",
      "Jonathan Gibbons [(1992, 515), (1994, 0)]\n",
      "6\n",
      "Stephen E. Deering [(1985, 2), (1988, 89), (1990, 246), (1994, 76), (1995, 8), (1996, 94)]\n",
      "1\n",
      "John M. Airey [(1990, 85)]\n",
      "5\n",
      "Douglas S. J. De Couto [(2000, 263), (2001, 255), (2003, 424), (2005, 26)]\n",
      "1\n",
      "John Rohlf [(1994, 101)]\n",
      "5\n",
      "John C. Bicket [(2002, 11), (2003, 401), (2004, 215), (2005, 171)]\n",
      "2\n",
      "Jane Morris [(1991, 185), (2010, 0)]\n",
      "2\n",
      "Sandra Rapps [(1982, 38), (1985, 214)]\n",
      "1\n",
      "Magnus Christensson [(2002, 411)]\n",
      "1\n",
      "Hans Eisenmann [(1998, 150)]\n",
      "1\n",
      "Shawn Neely [(1992, 163)]\n",
      "1\n",
      "Richard Rudell [(1993, 192)]\n",
      "1\n",
      "J. Chris Lauwers [(1990, 68)]\n",
      "1\n",
      "Paolo Sabella [(1988, 94)]\n",
      "1\n",
      "Poonacha Kongetira [(2005, 222)]\n",
      "1\n",
      "David Hecherman [(1998, 336)]\n",
      "1\n",
      "Chris Savarese [(2002, 109)]\n",
      "2\n",
      "Chris Ruemmler [(1993, 0), (1994, 230)]\n",
      "1\n",
      "Thomas L. Adam [(1974, 100)]\n",
      "2\n",
      "Tad McGeer [(1990, 142), (1991, 4)]\n",
      "1\n",
      "Elena Pacenti [(1999, 270)]\n",
      "1\n",
      "Marion Buchenau [(2000, 116)]\n",
      "1\n",
      "A. Medina [(2002, 117)]\n",
      "1\n",
      "Masaki Hilaga [(2001, 207)]\n",
      "1\n",
      "J. L. Kuhns [(1960, 113)]\n"
     ]
    }
   ],
   "source": [
    "for author in author_names[:100]:\n",
    "    print(author, year_wise_citations(author))\n",
    "    "
   ]
  },
  {
   "cell_type": "code",
   "execution_count": 63,
   "metadata": {},
   "outputs": [
    {
     "name": "stdout",
     "output_type": "stream",
     "text": [
      "411\n",
      "Hector Garcia-Molina [(1978, 0), (1979, 0), (1982, 93), (1983, 0), (1984, 8), (1985, 148), (1986, 113), (1987, 309), (1988, 108), (1989, 72), (1990, 138), (1991, 43), (1992, 218), (1993, 15), (1994, 213), (1995, 618), (1996, 529), (1997, 493), (1998, 734), (1999, 179), (2000, 505), (2001, 674), (2002, 807), (2003, 1175), (2004, 536), (2005, 141), (2006, 77), (2007, 83), (2008, 249), (2009, 159), (2010, 36), (2011, 40), (2012, 1)]\n",
      "201\n",
      "Scott Shenker [(1987, 338), (1988, 30), (1989, 398), (1990, 54), (1991, 167), (1992, 181), (1993, 67), (1994, 437), (1995, 386), (1996, 3), (1997, 57), (1998, 174), (1999, 88), (2000, 268), (2001, 1830), (2002, 1739), (2003, 1153), (2004, 307), (2005, 524), (2006, 157), (2007, 263), (2008, 223), (2009, 35), (2010, 54), (2011, 6), (2012, 1), (2013, 0)]\n",
      "580\n",
      "Jiawei Han [(1986, 11), (1987, 8), (1988, 13), (1989, 22), (1990, 11), (1991, 7), (1992, 105), (1993, 84), (1994, 46), (1995, 376), (1996, 577), (1997, 58), (1998, 172), (1999, 240), (2000, 1246), (2001, 601), (2002, 835), (2003, 836), (2004, 922), (2005, 457), (2006, 303), (2007, 479), (2008, 345), (2009, 184), (2010, 199), (2011, 88), (2012, 16), (2013, 0)]\n",
      "374\n",
      "Christos Faloutsos [(1982, 0), (1983, 15), (1984, 91), (1985, 114), (1986, 41), (1987, 453), (1988, 111), (1989, 96), (1990, 14), (1991, 65), (1992, 81), (1993, 580), (1994, 1076), (1995, 304), (1996, 220), (1997, 208), (1998, 475), (1999, 597), (2000, 295), (2001, 269), (2002, 167), (2003, 89), (2004, 376), (2005, 420), (2006, 322), (2007, 362), (2008, 197), (2009, 148), (2010, 52), (2011, 49), (2012, 8), (2013, 0)]\n",
      "199\n",
      "Rakesh Agrawal [(1983, 7), (1984, 0), (1985, 51), (1986, 3), (1987, 225), (1988, 43), (1989, 209), (1990, 51), (1991, 96), (1992, 74), (1993, 2894), (1994, 2704), (1995, 1505), (1996, 2051), (1997, 296), (1998, 742), (1999, 191), (2000, 644), (2001, 107), (2002, 362), (2003, 188), (2004, 194), (2005, 313), (2006, 46), (2007, 8), (2008, 56), (2009, 158), (2010, 9), (2011, 13), (2012, 0)]\n",
      "226\n",
      "Moni Naor [(1987, 0), (1988, 180), (1989, 359), (1990, 339), (1991, 66), (1992, 213), (1993, 186), (1994, 290), (1995, 148), (1996, 244), (1997, 284), (1998, 304), (1999, 428), (2000, 547), (2001, 1087), (2002, 475), (2003, 231), (2004, 133), (2005, 39), (2006, 119), (2007, 27), (2008, 91), (2009, 263), (2010, 38), (2011, 0), (2012, 0), (2013, 0)]\n",
      "348\n",
      "Thomas A. Henzinger [(1985, 0), (1989, 0), (1990, 14), (1991, 147), (1992, 231), (1993, 145), (1994, 165), (1995, 687), (1996, 525), (1997, 425), (1998, 473), (1999, 203), (2000, 132), (2001, 503), (2002, 869), (2003, 85), (2004, 383), (2005, 120), (2006, 183), (2007, 125), (2008, 185), (2009, 152), (2010, 92), (2011, 35), (2012, 5), (2013, 0)]\n",
      "355\n",
      "Christos H. Papadimitriou [(1976, 19), (1977, 0), (1978, 11), (1979, 251), (1980, 30), (1981, 59), (1982, 121), (1983, 82), (1984, 80), (1985, 55), (1986, 133), (1987, 143), (1988, 492), (1989, 38), (1990, 100), (1991, 293), (1992, 85), (1993, 62), (1994, 294), (1995, 65), (1996, 90), (1997, 117), (1998, 298), (1999, 326), (2000, 309), (2001, 725), (2002, 337), (2003, 650), (2004, 248), (2005, 302), (2006, 237), (2007, 153), (2008, 142), (2009, 120), (2010, 41), (2011, 19), (2012, 0), (2013, 0)]\n",
      "441\n",
      "Anil K. Jain [(1976, 0), (1977, 3), (1978, 0), (1979, 0), (1980, 0), (1983, 11), (1984, 8), (1985, 0), (1987, 78), (1988, 38), (1989, 13), (1990, 35), (1991, 370), (1992, 110), (1993, 0), (1994, 0), (1995, 246), (1996, 296), (1997, 544), (1998, 404), (1999, 1503), (2000, 664), (2001, 127), (2002, 738), (2003, 377), (2004, 270), (2005, 408), (2006, 247), (2007, 61), (2008, 117), (2009, 50), (2010, 75), (2011, 11), (2012, 1), (2013, 0)]\n",
      "711\n",
      "Philip S. Yu [(1981, 0), (1983, 0), (1985, 17), (1986, 34), (1987, 28), (1988, 28), (1989, 63), (1990, 96), (1991, 46), (1992, 273), (1993, 193), (1994, 148), (1995, 432), (1996, 408), (1997, 201), (1998, 413), (1999, 554), (2000, 281), (2001, 362), (2002, 451), (2003, 750), (2004, 464), (2005, 408), (2006, 352), (2007, 427), (2008, 645), (2009, 94), (2010, 97), (2011, 45), (2012, 1), (2013, 0)]\n",
      "180\n",
      "Jennifer Widom [(1986, 7), (1987, 3), (1988, 0), (1989, 13), (1990, 110), (1991, 147), (1992, 82), (1993, 52), (1994, 102), (1995, 636), (1996, 250), (1997, 1007), (1998, 72), (1999, 147), (2000, 267), (2001, 301), (2002, 839), (2003, 531), (2004, 221), (2005, 126), (2006, 480), (2007, 12), (2008, 87), (2009, 48), (2010, 17), (2011, 26), (2012, 1)]\n",
      "173\n",
      "David E. Culler [(1988, 38), (1990, 84), (1991, 80), (1992, 354), (1993, 504), (1995, 224), (1996, 191), (1997, 133), (1998, 113), (1999, 103), (2000, 93), (2001, 411), (2002, 1121), (2003, 828), (2004, 1176), (2005, 824), (2006, 136), (2007, 161), (2008, 127), (2009, 29), (2010, 16), (2011, 2), (2012, 3)]\n",
      "195\n",
      "Rajeev Motwani [(1986, 3), (1988, 2), (1989, 11), (1990, 13), (1991, 18), (1992, 81), (1993, 32), (1994, 139), (1995, 95), (1996, 76), (1997, 914), (1998, 1606), (1999, 557), (2000, 362), (2001, 108), (2002, 1117), (2003, 471), (2004, 224), (2005, 87), (2006, 201), (2007, 7), (2008, 49), (2009, 15), (2010, 0), (2011, 0), (2012, 0)]\n",
      "336\n",
      "Ian T. Foster [(1986, 1), (1987, 3), (1988, 0), (1989, 9), (1990, 2), (1991, 4), (1992, 3), (1993, 0), (1994, 3), (1995, 60), (1996, 108), (1997, 164), (1998, 790), (1999, 210), (2000, 61), (2001, 4870), (2002, 1649), (2003, 407), (2004, 253), (2005, 165), (2006, 130), (2007, 48), (2008, 117), (2009, 73), (2010, 7), (2011, 10), (2012, 1), (2013, 0)]\n",
      "204\n",
      "Mihir Bellare [(1988, 5), (1989, 56), (1990, 56), (1991, 5), (1992, 185), (1993, 1239), (1994, 260), (1995, 332), (1996, 403), (1997, 464), (1998, 698), (1999, 183), (2000, 808), (2001, 303), (2002, 125), (2003, 247), (2004, 29), (2005, 44), (2006, 165), (2007, 101), (2008, 92), (2009, 118), (2010, 49), (2011, 24), (2012, 4)]\n",
      "183\n",
      "David J. DeWitt [(1978, 18), (1979, 11), (1980, 12), (1981, 23), (1982, 6), (1983, 219), (1984, 229), (1985, 118), (1986, 270), (1987, 106), (1988, 96), (1989, 108), (1990, 369), (1991, 139), (1992, 456), (1993, 61), (1994, 255), (1995, 64), (1996, 134), (1997, 60), (1998, 243), (1999, 471), (2000, 314), (2001, 347), (2002, 75), (2003, 71), (2004, 43), (2005, 381), (2006, 231), (2007, 33), (2008, 43), (2009, 124), (2010, 46), (2011, 6), (2012, 0)]\n",
      "185\n",
      "Deborah Estrin [(1985, 0), (1986, 0), (1987, 0), (1988, 0), (1989, 0), (1990, 9), (1991, 23), (1992, 24), (1993, 71), (1994, 76), (1995, 0), (1996, 94), (1997, 0), (1998, 53), (1999, 527), (2000, 1176), (2001, 814), (2002, 729), (2003, 645), (2004, 1022), (2005, 265), (2006, 171), (2007, 91), (2008, 24), (2009, 70), (2010, 113), (2011, 1), (2012, 0)]\n",
      "230\n",
      "Dan Suciu [(1993, 8), (1994, 91), (1995, 34), (1996, 238), (1997, 290), (1998, 411), (1999, 627), (2000, 375), (2001, 182), (2002, 246), (2003, 406), (2004, 359), (2005, 167), (2006, 65), (2007, 308), (2008, 81), (2009, 91), (2010, 78), (2011, 21), (2012, 4), (2013, 0)]\n",
      "151\n",
      "Hari Balakrishnan [(1993, 1), (1995, 129), (1996, 97), (1997, 248), (1998, 0), (1999, 565), (2000, 1655), (2001, 2704), (2002, 529), (2003, 625), (2004, 332), (2005, 153), (2006, 265), (2007, 61), (2008, 304), (2009, 183), (2010, 7), (2011, 20), (2012, 2), (2013, 0)]\n",
      "249\n",
      "W. Bruce Croft [(1975, 0), (1976, 0), (1978, 0), (1979, 1), (1980, 0), (1981, 2), (1982, 3), (1983, 3), (1984, 4), (1985, 5), (1986, 9), (1987, 40), (1988, 12), (1989, 62), (1990, 46), (1991, 222), (1992, 298), (1993, 84), (1994, 51), (1995, 314), (1996, 474), (1997, 167), (1998, 166), (1999, 388), (2000, 149), (2001, 402), (2002, 352), (2003, 286), (2004, 272), (2005, 426), (2006, 274), (2007, 221), (2008, 209), (2009, 101), (2010, 84), (2011, 27), (2012, 6), (2013, 0)]\n",
      "154\n",
      "Ronald Fagin [(1976, 6), (1977, 317), (1978, 53), (1979, 40), (1980, 33), (1981, 136), (1982, 124), (1983, 365), (1984, 58), (1985, 48), (1986, 3), (1987, 74), (1988, 12), (1989, 18), (1990, 152), (1991, 30), (1992, 72), (1993, 0), (1994, 82), (1995, 100), (1996, 205), (1997, 56), (1998, 115), (1999, 84), (2000, 38), (2001, 547), (2002, 348), (2003, 547), (2004, 117), (2005, 359), (2006, 38), (2007, 38), (2008, 40), (2009, 29), (2010, 17), (2011, 6), (2012, 0)]\n",
      "182\n",
      "Jon M. Kleinberg [(1992, 23), (1993, 0), (1994, 32), (1995, 23), (1996, 149), (1997, 149), (1998, 1073), (1999, 1508), (2000, 137), (2001, 275), (2002, 279), (2003, 663), (2004, 244), (2005, 254), (2006, 239), (2007, 318), (2008, 259), (2009, 260), (2010, 225), (2011, 46), (2012, 11), (2013, 0)]\n",
      "254\n",
      "Jeffrey D. Ullman [(1967, 5), (1968, 11), (1969, 42), (1970, 79), (1971, 69), (1972, 58), (1973, 38), (1974, 51), (1975, 110), (1976, 329), (1977, 59), (1978, 8), (1979, 255), (1980, 41), (1981, 49), (1982, 74), (1983, 183), (1984, 116), (1985, 85), (1986, 21), (1987, 41), (1988, 37), (1989, 135), (1990, 19), (1991, 73), (1992, 3), (1993, 0), (1994, 52), (1995, 213), (1996, 493), (1997, 981), (1998, 409), (1999, 41), (2000, 122), (2001, 104), (2003, 5), (2005, 36), (2007, 4), (2009, 0), (2010, 28), (2011, 9), (2012, 1)]\n",
      "370\n",
      "Oded Goldreich [(1981, 0), (1982, 0), (1983, 16), (1984, 37), (1985, 351), (1986, 613), (1987, 131), (1988, 228), (1989, 364), (1990, 106), (1991, 49), (1992, 356), (1993, 98), (1994, 69), (1995, 314), (1996, 435), (1997, 224), (1998, 1030), (1999, 190), (2000, 183), (2001, 429), (2002, 189), (2003, 76), (2004, 190), (2005, 30), (2006, 102), (2007, 10), (2008, 57), (2009, 33), (2010, 31), (2011, 6), (2012, 4), (2013, 0)]\n",
      "239\n",
      "Michael Stonebraker [(1972, 0), (1974, 3), (1975, 172), (1976, 294), (1977, 40), (1978, 69), (1979, 81), (1980, 34), (1981, 132), (1982, 25), (1983, 56), (1984, 309), (1985, 20), (1986, 251), (1987, 160), (1988, 142), (1989, 55), (1990, 105), (1991, 223), (1992, 23), (1993, 179), (1994, 125), (1995, 120), (1996, 158), (1997, 41), (1998, 185), (1999, 0), (2001, 13), (2002, 131), (2003, 421), (2004, 110), (2005, 325), (2006, 1), (2007, 77), (2008, 69), (2009, 139), (2010, 51), (2011, 11), (2012, 0)]\n",
      "105\n",
      "Thomas E. Anderson [(1989, 67), (1990, 94), (1991, 133), (1992, 142), (1993, 389), (1994, 114), (1995, 361), (1996, 63), (1997, 535), (1998, 109), (1999, 162), (2000, 297), (2001, 64), (2002, 185), (2003, 168), (2004, 144), (2005, 128), (2006, 136), (2007, 23), (2008, 118), (2009, 37), (2010, 20), (2011, 2), (2012, 0)]\n",
      "270\n",
      "Robert Endre Tarjan [(1971, 0), (1972, 41), (1973, 95), (1974, 185), (1975, 247), (1976, 17), (1977, 17), (1978, 9), (1979, 310), (1980, 106), (1981, 162), (1982, 8), (1983, 228), (1984, 693), (1985, 778), (1986, 512), (1987, 639), (1988, 322), (1989, 404), (1990, 68), (1991, 89), (1992, 103), (1993, 0), (1994, 156), (1995, 123), (1996, 23), (1997, 10), (1998, 4), (1999, 93), (2000, 5), (2001, 50), (2002, 29), (2003, 14), (2004, 15), (2005, 28), (2006, 8), (2007, 9), (2008, 44), (2009, 8), (2010, 2), (2011, 0), (2012, 1)]\n",
      "227\n",
      "Raghu Ramakrishnan [(1985, 0), (1986, 185), (1987, 156), (1988, 89), (1989, 32), (1990, 107), (1991, 115), (1992, 64), (1993, 173), (1994, 136), (1995, 81), (1996, 898), (1997, 115), (1998, 131), (1999, 321), (2000, 97), (2001, 31), (2002, 41), (2003, 0), (2004, 144), (2005, 302), (2006, 318), (2007, 167), (2008, 144), (2009, 65), (2010, 66), (2011, 34), (2012, 4)]\n",
      "214\n",
      "Mihalis Yannakakis [(1978, 77), (1979, 13), (1980, 139), (1981, 155), (1982, 79), (1983, 235), (1984, 171), (1985, 17), (1986, 42), (1987, 32), (1988, 278), (1989, 73), (1990, 172), (1991, 191), (1992, 252), (1993, 167), (1994, 468), (1995, 233), (1996, 144), (1997, 39), (1998, 96), (1999, 190), (2000, 178), (2001, 89), (2002, 55), (2003, 62), (2004, 35), (2005, 123), (2006, 10), (2007, 21), (2008, 30), (2009, 38), (2010, 12), (2011, 3), (2012, 8), (2013, 0)]\n",
      "151\n",
      "Amit Sahai [(1996, 0), (1997, 22), (1998, 283), (1999, 413), (2000, 58), (2001, 295), (2002, 464), (2003, 10), (2004, 205), (2005, 142), (2006, 530), (2007, 682), (2008, 451), (2009, 123), (2010, 170), (2011, 54), (2012, 3), (2013, 0)]\n",
      "447\n",
      "Moshe Y. Vardi [(1979, 0), (1980, 0), (1981, 43), (1982, 384), (1983, 115), (1984, 263), (1985, 158), (1986, 164), (1987, 21), (1988, 87), (1989, 108), (1990, 82), (1991, 53), (1992, 159), (1993, 137), (1994, 265), (1995, 428), (1996, 82), (1997, 127), (1998, 527), (1999, 190), (2000, 369), (2001, 313), (2002, 219), (2003, 83), (2004, 42), (2005, 78), (2006, 45), (2007, 75), (2008, 25), (2009, 45), (2010, 11), (2011, 4), (2012, 1), (2013, 0)]\n",
      "162\n",
      "Joseph M. Hellerstein [(1992, 152), (1993, 88), (1994, 26), (1995, 161), (1996, 74), (1997, 362), (1998, 240), (1999, 218), (2000, 266), (2001, 129), (2002, 427), (2003, 478), (2004, 297), (2005, 485), (2006, 174), (2007, 59), (2008, 60), (2009, 71), (2010, 102), (2011, 11), (2012, 2), (2013, 0)]\n",
      "256\n",
      "Edmund M. Clarke [(1977, 2), (1979, 31), (1980, 78), (1981, 610), (1982, 14), (1983, 16), (1984, 0), (1985, 213), (1986, 734), (1987, 29), (1988, 122), (1989, 129), (1990, 87), (1991, 47), (1992, 101), (1993, 198), (1994, 339), (1995, 142), (1996, 265), (1997, 125), (1998, 93), (1999, 505), (2000, 436), (2001, 176), (2002, 370), (2003, 318), (2004, 168), (2005, 44), (2006, 6), (2007, 23), (2008, 66), (2009, 46), (2010, 30), (2011, 4), (2012, 1)]\n",
      "207\n",
      "Martín Abadi [(1985, 1), (1986, 1), (1987, 5), (1988, 8), (1989, 166), (1990, 374), (1991, 374), (1992, 230), (1993, 365), (1994, 90), (1995, 157), (1996, 203), (1997, 229), (1998, 231), (1999, 218), (2000, 73), (2001, 297), (2002, 87), (2003, 50), (2004, 29), (2005, 208), (2006, 126), (2007, 48), (2008, 80), (2009, 63), (2010, 12), (2011, 7), (2012, 1), (2013, 0)]\n",
      "170\n",
      "Thomas W. Reps [(1981, 215), (1982, 37), (1983, 82), (1984, 86), (1986, 25), (1987, 0), (1988, 114), (1989, 290), (1990, 305), (1991, 17), (1992, 60), (1993, 36), (1994, 98), (1995, 392), (1996, 252), (1997, 97), (1998, 139), (1999, 286), (2000, 109), (2001, 52), (2002, 274), (2003, 59), (2004, 15), (2005, 209), (2006, 36), (2007, 52), (2008, 73), (2009, 26), (2010, 20), (2011, 8), (2012, 0)]\n",
      "169\n",
      "Jeffrey F. Naughton [(1986, 19), (1987, 37), (1988, 22), (1989, 49), (1990, 154), (1991, 122), (1992, 112), (1993, 79), (1994, 302), (1995, 288), (1996, 334), (1997, 163), (1998, 328), (1999, 306), (2000, 70), (2001, 371), (2002, 273), (2003, 133), (2004, 196), (2005, 69), (2006, 29), (2007, 86), (2008, 62), (2009, 44), (2010, 2), (2011, 7), (2012, 0)]\n",
      "184\n",
      "Dan Boneh [(1993, 8), (1995, 132), (1996, 75), (1997, 107), (1998, 231), (1999, 90), (2000, 190), (2001, 1738), (2002, 186), (2003, 776), (2004, 337), (2005, 197), (2006, 250), (2007, 281), (2008, 263), (2009, 59), (2010, 118), (2011, 69), (2012, 5), (2013, 0)]\n",
      "206\n",
      "Ravi Kumar [(1993, 1), (1995, 11), (1996, 0), (1997, 258), (1998, 88), (1999, 586), (2000, 506), (2001, 526), (2002, 281), (2003, 412), (2004, 467), (2005, 207), (2006, 377), (2007, 121), (2008, 450), (2009, 84), (2010, 54), (2011, 18), (2012, 9), (2013, 0)]\n",
      "155\n",
      "Ran Canetti [(1990, 0), (1991, 0), (1993, 120), (1994, 27), (1995, 50), (1996, 392), (1997, 141), (1998, 503), (1999, 85), (2000, 307), (2001, 1088), (2002, 672), (2003, 280), (2004, 279), (2005, 22), (2006, 67), (2007, 247), (2008, 53), (2009, 17), (2010, 32), (2011, 34), (2012, 10), (2013, 0)]\n",
      "119\n",
      "Pat Hanrahan [(1985, 0), (1987, 1), (1988, 214), (1990, 48), (1991, 246), (1992, 67), (1993, 198), (1994, 40), (1995, 29), (1996, 516), (1997, 151), (1998, 81), (1999, 6), (2000, 89), (2001, 544), (2002, 393), (2003, 392), (2004, 367), (2005, 22), (2006, 2), (2007, 82), (2008, 188), (2009, 63), (2010, 38), (2011, 8), (2012, 3), (2013, 0)]\n",
      "237\n",
      "H. V. Jagadish [(1986, 1), (1987, 55), (1988, 22), (1989, 153), (1990, 116), (1991, 141), (1992, 135), (1993, 18), (1994, 219), (1995, 82), (1996, 140), (1997, 158), (1998, 428), (1999, 175), (2000, 31), (2001, 453), (2002, 274), (2003, 90), (2004, 174), (2005, 111), (2006, 210), (2007, 130), (2008, 90), (2009, 35), (2010, 20), (2011, 0), (2012, 0)]\n",
      "262\n",
      "Amir Pnueli [(1969, 3), (1970, 20), (1971, 23), (1972, 14), (1973, 10), (1974, 0), (1977, 489), (1978, 0), (1979, 44), (1980, 1), (1981, 119), (1982, 9), (1983, 109), (1984, 47), (1985, 288), (1986, 133), (1987, 13), (1988, 74), (1989, 279), (1990, 285), (1991, 180), (1992, 153), (1993, 68), (1994, 105), (1995, 132), (1996, 42), (1997, 125), (1998, 218), (1999, 110), (2000, 39), (2001, 161), (2002, 169), (2003, 45), (2004, 5), (2005, 33), (2006, 56), (2007, 73), (2008, 38), (2009, 13), (2010, 11), (2012, 6)]\n",
      "144\n",
      "Ion Stoica [(1995, 19), (1996, 65), (1997, 33), (1998, 122), (1999, 103), (2000, 81), (2001, 2176), (2002, 178), (2003, 953), (2004, 236), (2005, 491), (2006, 185), (2007, 238), (2008, 106), (2009, 84), (2010, 195), (2011, 22), (2012, 2), (2013, 0)]\n",
      "179\n",
      "Ken Kennedy [(1975, 30), (1976, 47), (1977, 27), (1978, 0), (1979, 13), (1981, 0), (1983, 156), (1984, 94), (1986, 68), (1987, 278), (1988, 127), (1989, 171), (1990, 213), (1991, 464), (1992, 333), (1993, 118), (1994, 151), (1995, 154), (1996, 23), (1997, 25), (1998, 40), (1999, 117), (2000, 44), (2001, 138), (2002, 53), (2003, 5), (2004, 47), (2005, 119), (2006, 32), (2007, 28), (2008, 1), (2009, 1), (2011, 0), (2012, 0)]\n",
      "215\n",
      "Rajeev Alur [(1989, 0), (1990, 141), (1991, 179), (1992, 185), (1993, 315), (1994, 1244), (1995, 419), (1996, 345), (1997, 247), (1998, 244), (1999, 240), (2000, 123), (2001, 180), (2002, 257), (2003, 51), (2004, 158), (2005, 176), (2006, 59), (2007, 114), (2008, 70), (2009, 70), (2010, 4), (2011, 8), (2012, 0), (2013, 0)]\n",
      "206\n",
      "Madhu Sudan [(1990, 0), (1991, 61), (1992, 128), (1994, 180), (1995, 346), (1996, 107), (1997, 281), (1998, 1219), (1999, 86), (2000, 224), (2001, 164), (2002, 88), (2003, 61), (2004, 82), (2005, 70), (2006, 98), (2007, 73), (2008, 99), (2009, 69), (2010, 17), (2011, 9), (2012, 2), (2013, 0)]\n",
      "289\n",
      "Wei-Ying Ma [(1995, 16), (1996, 461), (1997, 128), (1998, 17), (1999, 57), (2000, 0), (2001, 4), (2002, 201), (2003, 432), (2004, 871), (2005, 631), (2006, 348), (2007, 290), (2008, 195), (2009, 107), (2010, 23), (2011, 17), (2012, 0)]\n",
      "136\n",
      "Robert E. Schapire [(1987, 0), (1989, 0), (1990, 456), (1991, 17), (1992, 70), (1993, 254), (1994, 183), (1995, 314), (1996, 234), (1997, 1520), (1998, 339), (1999, 719), (2000, 174), (2001, 7), (2002, 251), (2003, 257), (2004, 20), (2005, 0), (2006, 43), (2007, 14), (2008, 11), (2009, 5), (2010, 34), (2011, 0), (2012, 0), (2013, 0)]\n",
      "260\n",
      "Serge Abiteboul [(1983, 1), (1984, 19), (1985, 17), (1986, 52), (1987, 132), (1988, 90), (1989, 142), (1990, 59), (1991, 289), (1992, 10), (1993, 141), (1994, 114), (1995, 111), (1996, 98), (1997, 521), (1998, 534), (1999, 133), (2000, 34), (2001, 235), (2002, 156), (2003, 173), (2004, 63), (2005, 80), (2006, 73), (2007, 55), (2008, 76), (2009, 52), (2010, 38), (2011, 18), (2012, 1)]\n",
      "125\n",
      "Brent Waters [(2004, 79), (2005, 455), (2006, 741), (2007, 812), (2008, 513), (2009, 433), (2010, 221), (2011, 155), (2012, 13), (2013, 0)]\n",
      "107\n",
      "Monica S. Lam [(1986, 38), (1987, 48), (1988, 327), (1989, 0), (1990, 40), (1991, 534), (1992, 629), (1993, 267), (1994, 178), (1995, 419), (1996, 223), (1997, 112), (1998, 76), (1999, 162), (2000, 3), (2001, 39), (2002, 282), (2003, 122), (2004, 159), (2005, 221), (2006, 13), (2008, 43), (2009, 1), (2010, 2), (2011, 8), (2012, 1)]\n",
      "209\n",
      "Randy H. Katz [(1979, 8), (1980, 5), (1981, 6), (1982, 50), (1983, 22), (1984, 228), (1985, 121), (1986, 82), (1987, 4), (1988, 588), (1989, 139), (1990, 29), (1991, 48), (1992, 10), (1993, 70), (1994, 248), (1995, 159), (1996, 132), (1997, 384), (1998, 201), (1999, 248), (2000, 128), (2001, 158), (2002, 176), (2003, 127), (2004, 130), (2005, 31), (2006, 78), (2007, 11), (2008, 70), (2009, 12), (2010, 135), (2011, 19), (2012, 4), (2013, 0)]\n",
      "70\n",
      "Hugues Hoppe [(1992, 344), (1993, 217), (1994, 142), (1995, 265), (1996, 630), (1997, 313), (1998, 102), (1999, 92), (2000, 233), (2001, 256), (2002, 349), (2003, 158), (2004, 231), (2005, 112), (2006, 183), (2007, 46), (2008, 40), (2009, 12), (2010, 9), (2011, 9), (2012, 0)]\n",
      "263\n",
      "Andrew Zisserman [(1985, 10), (1986, 0), (1987, 0), (1989, 24), (1990, 8), (1991, 90), (1992, 32), (1993, 67), (1994, 13), (1995, 113), (1996, 175), (1997, 109), (1998, 344), (1999, 50), (2000, 223), (2001, 0), (2002, 239), (2003, 538), (2004, 0), (2005, 874), (2006, 180), (2007, 190), (2008, 96), (2009, 47), (2010, 69), (2011, 11), (2012, 1)]\n",
      "113\n",
      "Mark D. Hill [(1983, 14), (1984, 0), (1986, 23), (1988, 60), (1989, 174), (1990, 5), (1991, 122), (1992, 86), (1993, 172), (1994, 120), (1995, 88), (1996, 23), (1997, 17), (1998, 113), (1999, 273), (2000, 37), (2001, 115), (2002, 181), (2003, 161), (2004, 13), (2005, 322), (2006, 86), (2007, 188), (2008, 275), (2009, 6), (2011, 34), (2012, 1), (2013, 0)]\n",
      "90\n",
      "Phillip Rogaway [(1988, 42), (1990, 31), (1991, 78), (1993, 1166), (1994, 128), (1995, 285), (1996, 192), (1997, 333), (1998, 310), (1999, 66), (2000, 591), (2001, 225), (2002, 384), (2003, 48), (2004, 2), (2005, 8), (2006, 43), (2007, 30), (2008, 29), (2009, 27), (2010, 4), (2011, 5), (2012, 0)]\n",
      "103\n",
      "Vern Paxson [(1993, 0), (1994, 202), (1995, 581), (1996, 104), (1997, 377), (1998, 97), (1999, 462), (2001, 260), (2002, 440), (2003, 347), (2004, 244), (2005, 72), (2006, 89), (2007, 56), (2008, 86), (2009, 54), (2010, 67), (2011, 37), (2012, 0)]\n",
      "116\n",
      "Anoop Gupta [(1983, 11), (1984, 0), (1986, 17), (1988, 81), (1989, 188), (1990, 271), (1991, 265), (1992, 681), (1993, 204), (1994, 433), (1995, 946), (1996, 69), (1997, 33), (1998, 48), (1999, 113), (2000, 230), (2001, 111), (2002, 145), (2003, 12), (2004, 7), (2005, 16), (2012, 1)]\n",
      "261\n",
      "Alex Pentland [(1982, 0), (1983, 0), (1984, 1), (1985, 5), (1986, 59), (1987, 88), (1988, 14), (1989, 0), (1990, 74), (1991, 139), (1992, 54), (1993, 29), (1994, 15), (1995, 232), (1996, 310), (1997, 1307), (1998, 263), (1999, 43), (2000, 285), (2001, 6), (2002, 5), (2003, 71), (2004, 91), (2005, 161), (2006, 281), (2007, 19), (2008, 46), (2009, 30), (2010, 16), (2011, 18), (2012, 3), (2013, 0)]\n",
      "179\n",
      "Prabhakar Raghavan [(1985, 17), (1986, 8), (1987, 195), (1988, 145), (1989, 37), (1990, 7), (1991, 3), (1992, 14), (1993, 33), (1994, 183), (1995, 69), (1996, 85), (1997, 170), (1998, 1201), (1999, 519), (2000, 571), (2001, 82), (2002, 132), (2003, 262), (2004, 293), (2005, 50), (2006, 86), (2007, 22), (2008, 0), (2009, 29), (2010, 1), (2011, 0), (2012, 0)]\n",
      "386\n",
      "Donald F. Towsley [(1976, 1), (1977, 41), (1978, 11), (1980, 13), (1982, 1), (1984, 11), (1985, 63), (1986, 28), (1987, 1), (1988, 69), (1989, 81), (1990, 67), (1991, 31), (1992, 40), (1993, 46), (1994, 88), (1995, 90), (1996, 145), (1997, 154), (1998, 559), (1999, 100), (2000, 392), (2001, 73), (2002, 280), (2003, 268), (2004, 123), (2005, 234), (2006, 90), (2007, 203), (2008, 111), (2009, 52), (2010, 45), (2011, 1), (2012, 0)]\n",
      "411\n",
      "Moti Yung [(1984, 0), (1985, 1), (1986, 42), (1987, 97), (1988, 2), (1989, 329), (1990, 355), (1991, 196), (1992, 384), (1993, 145), (1994, 220), (1995, 211), (1996, 161), (1997, 339), (1998, 177), (1999, 59), (2000, 128), (2001, 227), (2002, 308), (2003, 121), (2004, 15), (2005, 15), (2006, 56), (2007, 75), (2008, 53), (2009, 192), (2010, 38), (2011, 33), (2012, 2), (2013, 0)]\n",
      "363\n",
      "Leonidas J. Guibas [(1974, 0), (1976, 3), (1977, 44), (1978, 95), (1980, 12), (1981, 0), (1982, 5), (1983, 31), (1984, 0), (1985, 85), (1986, 185), (1987, 37), (1988, 49), (1989, 262), (1990, 14), (1991, 80), (1992, 18), (1993, 22), (1994, 19), (1995, 77), (1996, 18), (1997, 244), (1998, 237), (1999, 160), (2000, 339), (2001, 135), (2002, 79), (2003, 58), (2004, 166), (2005, 175), (2006, 132), (2007, 224), (2008, 109), (2009, 132), (2010, 13), (2011, 41), (2012, 1), (2013, 0)]\n",
      "275\n",
      "John A. Stankovic [(1981, 0), (1982, 0), (1983, 1), (1984, 38), (1985, 5), (1986, 7), (1987, 76), (1988, 21), (1989, 103), (1990, 102), (1991, 61), (1992, 20), (1993, 18), (1994, 9), (1995, 69), (1996, 68), (1997, 18), (1998, 3), (1999, 56), (2000, 45), (2001, 116), (2002, 327), (2003, 639), (2004, 328), (2005, 204), (2006, 335), (2007, 76), (2008, 51), (2009, 19), (2010, 29), (2011, 4), (2012, 1)]\n",
      "131\n",
      "M. Frans Kaashoek [(1989, 54), (1990, 13), (1991, 2), (1992, 122), (1993, 57), (1994, 56), (1995, 379), (1996, 144), (1997, 180), (1998, 39), (1999, 221), (2000, 414), (2001, 2607), (2002, 58), (2003, 673), (2004, 288), (2005, 97), (2006, 61), (2007, 96), (2008, 50), (2009, 46), (2010, 26), (2011, 3), (2012, 1)]\n",
      "210\n",
      "Richard M. Karp [(1960, 0), (1961, 2), (1965, 0), (1966, 30), (1967, 121), (1969, 68), (1970, 2), (1971, 0), (1972, 277), (1973, 0), (1975, 0), (1979, 76), (1980, 108), (1981, 0), (1982, 69), (1983, 39), (1984, 29), (1985, 30), (1986, 41), (1987, 148), (1988, 42), (1989, 76), (1990, 205), (1991, 140), (1992, 76), (1993, 454), (1994, 27), (1995, 87), (1996, 71), (1997, 8), (1998, 11), (1999, 13), (2000, 203), (2001, 1615), (2002, 132), (2003, 228), (2004, 37), (2005, 20), (2006, 23), (2007, 34), (2008, 6), (2009, 21), (2010, 0), (2011, 6), (2012, 3), (2013, 0)]\n",
      "277\n",
      "S. Muthukrishnan [(1984, 0), (1992, 1), (1993, 10), (1994, 65), (1995, 32), (1996, 81), (1997, 52), (1998, 343), (1999, 120), (2000, 339), (2001, 416), (2002, 450), (2003, 336), (2004, 211), (2005, 557), (2006, 89), (2007, 94), (2008, 130), (2009, 135), (2010, 39), (2011, 16), (2012, 2), (2013, 0)]\n",
      "123\n",
      "Silvio Micali [(1980, 0), (1981, 0), (1982, 43), (1983, 36), (1984, 317), (1985, 108), (1986, 581), (1987, 20), (1988, 931), (1989, 573), (1990, 66), (1991, 201), (1992, 57), (1993, 10), (1994, 11), (1995, 20), (1996, 35), (1997, 55), (1998, 0), (1999, 170), (2000, 283), (2001, 133), (2002, 70), (2003, 100), (2004, 29), (2005, 64), (2006, 28), (2008, 10), (2009, 9), (2010, 0), (2011, 2), (2012, 1), (2013, 0)]\n",
      "128\n",
      "Shafi Goldwasser [(1982, 11), (1983, 10), (1984, 30), (1985, 101), (1986, 543), (1988, 898), (1989, 512), (1990, 122), (1991, 89), (1992, 18), (1993, 96), (1994, 68), (1995, 32), (1996, 182), (1997, 200), (1998, 329), (1999, 4), (2000, 161), (2001, 23), (2002, 47), (2003, 243), (2004, 0), (2005, 48), (2006, 24), (2007, 44), (2008, 96), (2009, 86), (2010, 106), (2011, 22), (2012, 0), (2013, 0)]\n",
      "130\n",
      "Jitendra Malik [(1983, 5), (1987, 5), (1989, 6), (1990, 892), (1992, 39), (1993, 0), (1994, 79), (1995, 49), (1996, 362), (1997, 531), (1998, 279), (1999, 222), (2000, 1222), (2001, 278), (2002, 962), (2003, 282), (2004, 246), (2005, 189), (2006, 152), (2007, 0), (2008, 17), (2009, 2), (2010, 15), (2011, 29)]\n",
      "193\n",
      "John C. Mitchell [(1982, 2), (1983, 30), (1984, 91), (1985, 16), (1986, 27), (1987, 2), (1988, 210), (1989, 116), (1990, 173), (1991, 49), (1992, 43), (1993, 99), (1994, 70), (1995, 52), (1996, 3), (1997, 58), (1998, 137), (1999, 124), (2000, 171), (2001, 67), (2002, 228), (2003, 247), (2004, 77), (2005, 133), (2006, 187), (2007, 63), (2008, 98), (2009, 34), (2010, 35), (2011, 16), (2012, 1), (2013, 0)]\n",
      "403\n",
      "Nicholas R. Jennings [(1992, 6), (1993, 0), (1994, 175), (1995, 124), (1996, 72), (1997, 132), (1998, 448), (1999, 244), (2000, 634), (2001, 263), (2002, 109), (2003, 746), (2004, 435), (2005, 194), (2006, 336), (2007, 122), (2008, 145), (2009, 124), (2010, 63), (2011, 14), (2012, 6), (2013, 0)]\n",
      "360\n",
      "Hans-Peter Kriegel [(1975, 0), (1976, 0), (1977, 0), (1980, 8), (1981, 6), (1982, 0), (1983, 0), (1984, 7), (1985, 0), (1986, 2), (1987, 6), (1988, 26), (1989, 4), (1990, 1087), (1991, 20), (1992, 0), (1993, 222), (1994, 103), (1995, 87), (1996, 454), (1997, 365), (1998, 651), (1999, 476), (2000, 423), (2001, 82), (2002, 25), (2003, 50), (2004, 77), (2005, 136), (2006, 101), (2007, 63), (2008, 50), (2009, 136), (2010, 36), (2011, 17), (2012, 2), (2013, 0)]\n",
      "220\n",
      "Michael J. Carey [(1982, 0), (1983, 17), (1984, 25), (1985, 31), (1986, 249), (1987, 178), (1988, 201), (1989, 85), (1990, 216), (1991, 114), (1992, 181), (1993, 113), (1994, 267), (1995, 111), (1996, 105), (1997, 68), (1998, 50), (1999, 10), (2000, 126), (2001, 56), (2002, 186), (2003, 16), (2004, 27), (2005, 80), (2006, 32), (2007, 4), (2008, 29), (2009, 17), (2010, 50), (2011, 33), (2012, 3)]\n",
      "139\n",
      "Alon Y. Halevy [(2000, 47), (2001, 826), (2002, 315), (2003, 372), (2004, 147), (2005, 446), (2006, 344), (2007, 95), (2008, 264), (2009, 119), (2010, 58), (2011, 46), (2012, 2)]\n",
      "330\n",
      "Ben Shneiderman [(1972, 0), (1973, 25), (1974, 6), (1975, 0), (1976, 21), (1977, 33), (1978, 27), (1979, 1), (1980, 7), (1981, 0), (1982, 11), (1983, 121), (1984, 38), (1986, 29), (1987, 15), (1988, 76), (1989, 17), (1990, 2), (1991, 316), (1992, 535), (1993, 57), (1994, 332), (1995, 88), (1996, 391), (1997, 198), (1998, 36), (1999, 41), (2000, 296), (2001, 63), (2002, 157), (2003, 46), (2004, 92), (2005, 61), (2006, 157), (2007, 59), (2008, 77), (2009, 30), (2010, 23), (2011, 16), (2012, 1), (2013, 0)]\n",
      "139\n",
      "Andrew McCallum [(1990, 7), (1992, 0), (1993, 0), (1994, 0), (1995, 0), (1998, 622), (1999, 78), (2000, 1107), (2001, 1316), (2002, 1), (2003, 222), (2004, 158), (2005, 272), (2006, 268), (2007, 269), (2008, 61), (2009, 93), (2010, 51), (2011, 16), (2012, 0), (2013, 0)]\n",
      "188\n",
      "Adi Shamir [(1975, 0), (1976, 0), (1977, 9), (1978, 1724), (1979, 1268), (1980, 2), (1981, 31), (1982, 19), (1983, 85), (1984, 958), (1985, 12), (1986, 671), (1987, 65), (1988, 208), (1989, 76), (1990, 282), (1991, 161), (1992, 206), (1993, 9), (1994, 1), (1995, 0), (1996, 94), (1997, 210), (1998, 5), (1999, 274), (2000, 218), (2001, 367), (2002, 173), (2003, 6), (2004, 0), (2005, 28), (2006, 20), (2007, 45), (2008, 91), (2009, 50), (2010, 50), (2011, 16), (2012, 1)]\n",
      "113\n",
      "Robert Morris [(1968, 60), (1976, 0), (1978, 35), (1979, 84), (1983, 0), (1990, 1), (1991, 0), (1994, 3), (1997, 171), (1999, 66), (2000, 652), (2001, 3156), (2002, 409), (2003, 943), (2004, 547), (2005, 422), (2006, 97), (2007, 86), (2008, 26), (2009, 17), (2010, 20), (2011, 5), (2012, 0)]\n",
      "320\n",
      "Georg Gottlob [(1983, 0), (1984, 0), (1985, 47), (1986, 28), (1987, 44), (1988, 66), (1989, 76), (1990, 8), (1991, 0), (1992, 35), (1993, 51), (1994, 25), (1995, 261), (1996, 106), (1997, 273), (1998, 56), (1999, 126), (2000, 23), (2001, 438), (2002, 315), (2003, 163), (2004, 132), (2005, 200), (2006, 373), (2007, 63), (2008, 67), (2009, 118), (2010, 92), (2011, 38), (2012, 5), (2013, 0)]\n",
      "152\n",
      "Adrian Perrig [(2000, 433), (2001, 210), (2002, 559), (2003, 751), (2004, 336), (2005, 332), (2006, 125), (2007, 264), (2008, 127), (2009, 29), (2010, 52), (2011, 7), (2012, 5)]\n",
      "445\n",
      "Luca Benini [(1994, 18), (1995, 24), (1996, 39), (1997, 173), (1998, 181), (1999, 310), (2000, 572), (2001, 181), (2002, 796), (2003, 198), (2004, 273), (2005, 252), (2006, 188), (2007, 139), (2008, 155), (2009, 67), (2010, 34), (2011, 3), (2012, 4), (2013, 0)]\n",
      "189\n",
      "David R. Karger [(1991, 3), (1992, 376), (1993, 113), (1994, 55), (1995, 82), (1996, 117), (1997, 316), (1998, 182), (1999, 203), (2000, 333), (2001, 2173), (2002, 246), (2003, 556), (2004, 229), (2005, 145), (2006, 176), (2007, 108), (2008, 38), (2009, 37), (2010, 57), (2011, 46), (2012, 0)]\n",
      "670\n",
      "Elisa Bertino [(1981, 1), (1982, 0), (1983, 5), (1984, 7), (1986, 0), (1987, 0), (1988, 37), (1989, 58), (1990, 7), (1991, 126), (1992, 74), (1993, 31), (1994, 52), (1995, 58), (1996, 105), (1997, 262), (1998, 179), (1999, 227), (2000, 167), (2001, 330), (2002, 216), (2003, 117), (2004, 345), (2005, 377), (2006, 105), (2007, 148), (2008, 175), (2009, 138), (2010, 60), (2011, 6), (2012, 1), (2013, 0)]\n",
      "136\n",
      "Richard Szeliski [(1987, 0), (1988, 0), (1989, 11), (1990, 60), (1991, 0), (1992, 68), (1993, 9), (1995, 27), (1996, 471), (1997, 210), (1998, 524), (1999, 81), (2000, 248), (2001, 33), (2002, 609), (2003, 122), (2004, 221), (2005, 110), (2006, 561), (2007, 1), (2008, 214), (2009, 0), (2010, 19), (2011, 13), (2012, 0)]\n",
      "433\n",
      "Joseph Y. Halpern [(1980, 5), (1981, 7), (1982, 33), (1983, 56), (1984, 177), (1985, 119), (1986, 24), (1987, 110), (1988, 18), (1989, 86), (1990, 438), (1991, 115), (1992, 278), (1993, 44), (1994, 137), (1995, 69), (1996, 82), (1997, 67), (1998, 92), (1999, 146), (2000, 56), (2001, 87), (2002, 137), (2003, 52), (2004, 188), (2005, 85), (2006, 143), (2007, 48), (2008, 70), (2009, 8), (2010, 1), (2011, 7), (2012, 4), (2013, 0)]\n",
      "158\n",
      "Noam Nisan [(1988, 0), (1989, 20), (1990, 54), (1991, 45), (1992, 206), (1993, 333), (1994, 308), (1995, 92), (1996, 164), (1997, 19), (1998, 156), (1999, 323), (2000, 265), (2001, 115), (2002, 157), (2003, 144), (2004, 40), (2005, 97), (2006, 81), (2007, 72), (2008, 113), (2009, 20), (2010, 9), (2011, 17), (2012, 5)]\n",
      "144\n",
      "Piotr Indyk [(1994, 9), (1995, 0), (1996, 18), (1997, 58), (1998, 673), (1999, 532), (2000, 271), (2001, 221), (2002, 648), (2003, 97), (2004, 195), (2005, 95), (2006, 136), (2007, 63), (2008, 121), (2009, 14), (2010, 24), (2011, 22), (2012, 6)]\n",
      "172\n",
      "Hiroshi Ishii [(1990, 46), (1991, 39), (1992, 132), (1993, 41), (1994, 36), (1995, 267), (1996, 0), (1997, 871), (1998, 307), (1999, 222), (2000, 204), (2001, 71), (2002, 277), (2003, 1), (2004, 136), (2005, 49), (2006, 46), (2007, 73), (2008, 102), (2009, 12), (2010, 34), (2011, 12), (2012, 5), (2013, 0)]\n",
      "163\n",
      "Michael J. Franklin [(1990, 100), (1991, 72), (1992, 82), (1993, 19), (1994, 190), (1995, 16), (1996, 360), (1997, 167), (1998, 241), (1999, 13), (2000, 216), (2001, 201), (2002, 275), (2003, 502), (2004, 72), (2005, 426), (2006, 184), (2007, 27), (2008, 58), (2009, 14), (2010, 23), (2011, 39), (2012, 3)]\n",
      "80\n",
      "David Salesin [(1986, 0), (1987, 112), (1989, 46), (1990, 0), (1992, 31), (1993, 0), (1994, 285), (1995, 116), (1996, 541), (1997, 262), (1998, 185), (1999, 61), (2000, 286), (2001, 206), (2002, 137), (2003, 54), (2004, 207), (2005, 50), (2006, 119), (2007, 47), (2008, 76), (2009, 2), (2010, 8)]\n",
      "430\n",
      "Sushil Jajodia [(1983, 6), (1984, 1), (1985, 0), (1986, 0), (1987, 53), (1988, 7), (1989, 14), (1990, 61), (1991, 32), (1992, 72), (1993, 45), (1994, 8), (1995, 52), (1996, 116), (1997, 474), (1998, 134), (1999, 65), (2000, 180), (2001, 269), (2002, 267), (2003, 654), (2004, 108), (2005, 120), (2006, 102), (2007, 108), (2008, 58), (2009, 48), (2010, 36), (2011, 2), (2012, 1)]\n",
      "141\n",
      "Samuel Madden [(2000, 0), (2001, 10), (2002, 414), (2003, 350), (2004, 364), (2005, 549), (2006, 404), (2007, 270), (2008, 229), (2009, 249), (2010, 104), (2011, 50), (2012, 0)]\n",
      "94\n",
      "Andrew Tomkins [(1992, 20), (1993, 2), (1994, 0), (1995, 0), (1996, 50), (1997, 61), (1998, 30), (1999, 523), (2000, 441), (2001, 40), (2002, 35), (2003, 225), (2004, 745), (2005, 185), (2006, 311), (2007, 106), (2008, 322), (2009, 34), (2010, 28), (2011, 0), (2012, 2), (2013, 0)]\n",
      "173\n",
      "Simon L. Peyton Jones [(1982, 3), (1985, 0), (1986, 5), (1987, 0), (1988, 16), (1989, 41), (1991, 29), (1992, 195), (1993, 237), (1994, 9), (1995, 83), (1996, 270), (1997, 27), (1998, 76), (1999, 124), (2000, 46), (2001, 28), (2002, 134), (2003, 273), (2004, 51), (2005, 332), (2006, 107), (2007, 180), (2008, 77), (2009, 49), (2010, 19), (2011, 11), (2012, 2), (2013, 0)]\n",
      "223\n",
      "Brad A. Myers [(1986, 30), (1988, 33), (1989, 66), (1990, 227), (1991, 98), (1992, 112), (1993, 18), (1994, 58), (1995, 171), (1996, 69), (1997, 65), (1998, 146), (1999, 33), (2000, 155), (2001, 333), (2002, 250), (2003, 79), (2004, 198), (2005, 155), (2006, 237), (2007, 71), (2008, 125), (2009, 61), (2010, 22), (2011, 10), (2012, 1)]\n",
      "204\n",
      "Mani B. Srivastava [(1991, 1), (1992, 1), (1994, 13), (1995, 30), (1996, 103), (1997, 25), (1998, 197), (1999, 88), (2000, 68), (2001, 519), (2002, 296), (2003, 456), (2004, 365), (2005, 425), (2006, 90), (2007, 126), (2008, 46), (2009, 47), (2010, 67), (2011, 1), (2012, 0)]\n",
      "117\n",
      "Carl Kesselman [(1987, 0), (1988, 0), (1990, 14), (1991, 4), (1992, 22), (1993, 0), (1994, 1), (1996, 72), (1997, 115), (1998, 623), (1999, 189), (2000, 19), (2001, 2286), (2002, 726), (2003, 273), (2004, 180), (2005, 156), (2006, 35), (2007, 25), (2008, 3), (2009, 7), (2010, 0), (2011, 0), (2012, 0)]\n",
      "170\n",
      "Philip A. Bernstein [(1975, 17), (1976, 128), (1977, 0), (1978, 32), (1979, 202), (1980, 310), (1981, 491), (1982, 122), (1983, 38), (1984, 16), (1985, 9), (1986, 0), (1987, 33), (1988, 0), (1989, 52), (1990, 50), (1993, 1), (1994, 18), (1995, 147), (1996, 64), (1997, 10), (1998, 146), (1999, 37), (2000, 17), (2001, 1084), (2002, 58), (2003, 143), (2004, 65), (2005, 200), (2006, 65), (2007, 127), (2008, 104), (2009, 17), (2010, 5), (2011, 10), (2012, 0)]\n",
      "165\n",
      "Yale N. Patt [(1967, 2), (1969, 11), (1972, 21), (1975, 1), (1979, 0), (1984, 0), (1985, 13), (1986, 31), (1987, 74), (1988, 47), (1989, 9), (1990, 0), (1991, 204), (1992, 178), (1993, 165), (1994, 170), (1995, 100), (1996, 88), (1997, 160), (1998, 132), (1999, 73), (2000, 59), (2001, 51), (2002, 20), (2003, 103), (2004, 16), (2005, 61), (2006, 166), (2007, 107), (2008, 45), (2009, 54), (2010, 37), (2011, 21), (2012, 1)]\n"
     ]
    }
   ],
   "source": [
    "for author in author_names_h[:100]:\n",
    "    print(author, year_wise_citations(author))\n",
    "    "
   ]
  },
  {
   "cell_type": "code",
   "execution_count": 64,
   "metadata": {},
   "outputs": [
    {
     "ename": "KeyError",
     "evalue": "'WANG Wei'",
     "output_type": "error",
     "traceback": [
      "\u001b[0;31m---------------------------------------------------------------------------\u001b[0m",
      "\u001b[0;31mKeyError\u001b[0m                                  Traceback (most recent call last)",
      "\u001b[0;32m<ipython-input-64-ea014e959d24>\u001b[0m in \u001b[0;36m<module>\u001b[0;34m\u001b[0m\n\u001b[0;32m----> 1\u001b[0;31m \u001b[0mauthor_map\u001b[0m\u001b[0;34m[\u001b[0m\u001b[0;34m'WANG Wei'\u001b[0m\u001b[0;34m]\u001b[0m\u001b[0;34m.\u001b[0m\u001b[0mauthor_score\u001b[0m\u001b[0;34m\u001b[0m\u001b[0m\n\u001b[0m",
      "\u001b[0;31mKeyError\u001b[0m: 'WANG Wei'"
     ]
    }
   ],
   "source": [
    "author_map['WANG Wei'].author_score"
   ]
  },
  {
   "cell_type": "code",
   "execution_count": 109,
   "metadata": {},
   "outputs": [
    {
     "data": {
      "text/plain": [
       "3.7614743775888346e-07"
      ]
     },
     "execution_count": 109,
     "metadata": {},
     "output_type": "execute_result"
    }
   ],
   "source": [
    "1/len(citation_graph)"
   ]
  },
  {
   "cell_type": "code",
   "execution_count": 65,
   "metadata": {},
   "outputs": [
    {
     "name": "stdout",
     "output_type": "stream",
     "text": [
      "1\n",
      "2\n",
      "1\n",
      "1\n",
      "2\n"
     ]
    },
    {
     "data": {
      "image/png": "[encoded data removed]",
      "text/plain": [
       "<Figure size 576x360 with 1 Axes>"
      ]
     },
     "metadata": {
      "needs_background": "light"
     },
     "output_type": "display_data"
    }
   ],
   "source": [
    "plt.figure(figsize=(8,5))\n",
    "for author in top_n_our_index:\n",
    "    year_wise = year_wise_citations(author)\n",
    "    years = [x[0] for x in year_wise]\n",
    "    citations = [x[1] for x in year_wise]\n",
    "    plt.plot(years, citations)\n",
    "    plt.xticks = np.arange(1985.0, 2018.0, step = 1.0)\n",
    "plt.legend(top_n_our_index)\n",
    "plt.xlabel('Years')\n",
    "plt.ylabel('Number of citations')\n",
    "plt.title('Yearly citations - Top 5 authors (scored on our index)')\n",
    "plt.show()"
   ]
  },
  {
   "cell_type": "code",
   "execution_count": 66,
   "metadata": {
    "scrolled": false
   },
   "outputs": [
    {
     "name": "stdout",
     "output_type": "stream",
     "text": [
      "411\n",
      "201\n",
      "580\n",
      "374\n",
      "199\n"
     ]
    },
    {
     "data": {
      "image/png": "[encoded data removed]",
      "text/plain": [
       "<Figure size 576x360 with 1 Axes>"
      ]
     },
     "metadata": {
      "needs_background": "light"
     },
     "output_type": "display_data"
    }
   ],
   "source": [
    "plt.figure(figsize=(8,5))\n",
    "for author in top_n_h_index:\n",
    "    year_wise = year_wise_citations(author)\n",
    "    years = [x[0] for x in year_wise]\n",
    "    citations = [x[1] for x in year_wise]\n",
    "    plt.plot(years, citations)\n",
    "    plt.xticks = np.arange(1985.0, 2018.0, step = 1.0)\n",
    "plt.legend(top_n_h_index)\n",
    "plt.xlabel('Years')\n",
    "plt.ylabel('Number of citations')\n",
    "plt.title('Yearly citations - Top 5 authors (scored on h-index)')\n",
    "plt.show()"
   ]
  },
  {
   "cell_type": "code",
   "execution_count": 67,
   "metadata": {},
   "outputs": [],
   "source": [
    "def autolabel(rects):\n",
    "    \"\"\"\n",
    "    Attach a text label above each bar displaying its height\n",
    "    \"\"\"\n",
    "    for rect in rects:\n",
    "        height = rect.get_height()\n",
    "        ax.text(rect.get_x() + rect.get_width()/2., 1.05*height,\n",
    "                '%d' % int(height),\n",
    "                ha='center', va='bottom')"
   ]
  },
  {
   "cell_type": "code",
   "execution_count": 68,
   "metadata": {},
   "outputs": [
    {
     "data": {
      "image/png": "[encoded data removed]",
      "text/plain": [
       "<Figure size 432x288 with 1 Axes>"
      ]
     },
     "metadata": {
      "needs_background": "light"
     },
     "output_type": "display_data"
    }
   ],
   "source": [
    "n_groups = 5\n",
    "\n",
    "top_our_index = [len(author_map[author].paper_list) for author in top_n_our_index]\n",
    "# std_men = (2, 3, 4, 1, 2)\n",
    "\n",
    "top_h_index = [len(author_map[author].paper_list) for author in top_n_h_index]\n",
    "# std_women = (3, 5, 2, 3, 3)\n",
    "\n",
    "fig, ax = plt.subplots()\n",
    "\n",
    "index = np.arange(n_groups)\n",
    "bar_width = 0.35\n",
    "\n",
    "opacity = 0.4\n",
    "error_config = {'ecolor': '0.3'}\n",
    "\n",
    "rects1 = ax.bar(index, top_our_index, bar_width,\n",
    "                alpha=opacity, color='b',\n",
    "                error_kw=error_config,\n",
    "                label='Our Index')\n",
    "\n",
    "rects2 = ax.bar(index + bar_width, top_h_index, bar_width,\n",
    "                alpha=opacity, color='r',\n",
    "                error_kw=error_config,\n",
    "                label='H-Index')\n",
    "\n",
    "ax.set_xlabel('Rank')\n",
    "# ax.set_ylabel('Papers published')\n",
    "ax.set_title('Total Papers published - Top 5 Authors')\n",
    "ax.set_xticks(index + bar_width / 2)\n",
    "ax.set_xticklabels(range(1,6))\n",
    "ax.set_yticks([])\n",
    "ax.set_ylim(0, max(top_our_index) + 200)\n",
    "ax.legend()\n",
    "autolabel(rects1)\n",
    "autolabel(rects2)\n",
    "# fig.tight_layout()\n",
    "plt.show()"
   ]
  },
  {
   "cell_type": "code",
   "execution_count": 69,
   "metadata": {},
   "outputs": [
    {
     "name": "stderr",
     "output_type": "stream",
     "text": [
      "/home/shivanggupta1994/venv/lib/python3.5/site-packages/matplotlib/tight_layout.py:181: UserWarning: Tight layout not applied. The bottom and top margins cannot be made large enough to accommodate all axes decorations. \n",
      "  warnings.warn('Tight layout not applied. '\n"
     ]
    },
    {
     "data": {
      "image/png": "[encoded data removed]",
      "text/plain": [
       "<Figure size 432x288 with 1 Axes>"
      ]
     },
     "metadata": {
      "needs_background": "light"
     },
     "output_type": "display_data"
    }
   ],
   "source": [
    "n_groups = 5\n",
    "\n",
    "top_our_index = [np.average(author_map[author].citations) for author in top_n_our_index]\n",
    "# std_men = (2, 3, 4, 1, 2)\n",
    "\n",
    "top_h_index = [np.average(author_map[author].citations) for author in top_n_h_index]\n",
    "# std_women = (3, 5, 2, 3, 3)\n",
    "\n",
    "fig, ax = plt.subplots()\n",
    "\n",
    "index = np.arange(n_groups)\n",
    "bar_width = 0.35\n",
    "\n",
    "opacity = 0.4\n",
    "error_config = {'ecolor': '0.3'}\n",
    "\n",
    "rects1 = ax.bar(index, top_our_index, bar_width,\n",
    "                alpha=opacity, color='b',\n",
    "                error_kw=error_config,\n",
    "                label='Our Index')\n",
    "\n",
    "rects2 = ax.bar(index + bar_width, top_h_index, bar_width,\n",
    "                alpha=opacity, color='r',\n",
    "                error_kw=error_config,\n",
    "                label='H-Index')\n",
    "\n",
    "ax.set_xlabel('Rank')\n",
    "# ax.set_ylabel('Average Citations')\n",
    "ax.set_title('Average number of Citations - Top 5 Authors')\n",
    "ax.set_xticks(index + bar_width / 2)\n",
    "ax.set_xticklabels(range(1,6))\n",
    "ax.set_yticks([])\n",
    "ax.set_ylim(0, max(top_h_index) + 10)\n",
    "ax.legend()\n",
    "\n",
    "autolabel(rects1)\n",
    "autolabel(rects2)\n",
    "fig.tight_layout()\n",
    "plt.show()"
   ]
  },
  {
   "cell_type": "code",
   "execution_count": 70,
   "metadata": {},
   "outputs": [
    {
     "data": {
      "image/png": "[encoded data removed]",
      "text/plain": [
       "<Figure size 432x288 with 1 Axes>"
      ]
     },
     "metadata": {
      "needs_background": "light"
     },
     "output_type": "display_data"
    }
   ],
   "source": [
    "n_groups = 5\n",
    "\n",
    "top_our_index = [np.median(author_map[author].citations) for author in top_n_our_index]\n",
    "# std_men = (2, 3, 4, 1, 2)\n",
    "\n",
    "top_h_index = [np.median(author_map[author].citations) for author in top_n_h_index]\n",
    "# std_women = (3, 5, 2, 3, 3)\n",
    "\n",
    "fig, ax = plt.subplots()\n",
    "\n",
    "index = np.arange(n_groups)\n",
    "bar_width = 0.35\n",
    "\n",
    "opacity = 0.4\n",
    "error_config = {'ecolor': '0.3'}\n",
    "\n",
    "rects1 = ax.bar(index, top_our_index, bar_width,\n",
    "                alpha=opacity, color='b',\n",
    "                error_kw=error_config,\n",
    "                label='Our Index')\n",
    "\n",
    "rects2 = ax.bar(index + bar_width, top_h_index, bar_width,\n",
    "                alpha=opacity, color='r',\n",
    "                error_kw=error_config,\n",
    "                label='H-Index')\n",
    "\n",
    "ax.set_xlabel('Rank')\n",
    "# ax.set_ylabel('Median Citations')\n",
    "ax.set_title('Median number of Citations - Top Authors')\n",
    "ax.set_xticks(index + bar_width / 2)\n",
    "ax.set_xticklabels(range(1,6))\n",
    "ax.set_yticks([])\n",
    "ax.set_ylim(0, max(top_h_index) + 5)\n",
    "ax.legend()\n",
    "\n",
    "autolabel(rects1)\n",
    "autolabel(rects2)\n",
    "fig.tight_layout()\n",
    "plt.show()"
   ]
  },
  {
   "cell_type": "code",
   "execution_count": 71,
   "metadata": {},
   "outputs": [
    {
     "data": {
      "text/plain": [
       "[146826, 86228, 335261, 195949, 97527]"
      ]
     },
     "execution_count": 71,
     "metadata": {},
     "output_type": "execute_result"
    }
   ],
   "source": [
    "[author_names_h.index(author) for author in top_n_our_index]"
   ]
  },
  {
   "cell_type": "code",
   "execution_count": 72,
   "metadata": {},
   "outputs": [
    {
     "data": {
      "text/plain": [
       "[255, 762, 188, 268, 1070]"
      ]
     },
     "execution_count": 72,
     "metadata": {},
     "output_type": "execute_result"
    }
   ],
   "source": [
    "[author_names.index(author) for author in top_n_h_index]"
   ]
  },
  {
   "cell_type": "code",
   "execution_count": 73,
   "metadata": {},
   "outputs": [],
   "source": [
    "common_authors = list(set(author_names[:100]) & set(author_names_h[:100]))"
   ]
  },
  {
   "cell_type": "code",
   "execution_count": 74,
   "metadata": {},
   "outputs": [
    {
     "data": {
      "text/plain": [
       "[]"
      ]
     },
     "execution_count": 74,
     "metadata": {},
     "output_type": "execute_result"
    }
   ],
   "source": [
    "[author_names.index(author) for author in common_authors]"
   ]
  },
  {
   "cell_type": "code",
   "execution_count": 75,
   "metadata": {},
   "outputs": [
    {
     "data": {
      "text/plain": [
       "[]"
      ]
     },
     "execution_count": 75,
     "metadata": {},
     "output_type": "execute_result"
    }
   ],
   "source": [
    "[author_names_h.index(author) for author in common_authors]"
   ]
  },
  {
   "cell_type": "code",
   "execution_count": 76,
   "metadata": {},
   "outputs": [
    {
     "ename": "IndexError",
     "evalue": "list index out of range",
     "output_type": "error",
     "traceback": [
      "\u001b[0;31m---------------------------------------------------------------------------\u001b[0m",
      "\u001b[0;31mIndexError\u001b[0m                                Traceback (most recent call last)",
      "\u001b[0;32m<ipython-input-76-ae5a6b4bc706>\u001b[0m in \u001b[0;36m<module>\u001b[0;34m\u001b[0m\n\u001b[1;32m     34\u001b[0m \u001b[0max\u001b[0m\u001b[0;34m.\u001b[0m\u001b[0mset_yticks\u001b[0m\u001b[0;34m(\u001b[0m\u001b[0;34m[\u001b[0m\u001b[0;34m]\u001b[0m\u001b[0;34m)\u001b[0m\u001b[0;34m\u001b[0m\u001b[0m\n\u001b[1;32m     35\u001b[0m \u001b[0max\u001b[0m\u001b[0;34m.\u001b[0m\u001b[0mset_ylim\u001b[0m\u001b[0;34m(\u001b[0m\u001b[0;36m0\u001b[0m\u001b[0;34m,\u001b[0m \u001b[0;36m150\u001b[0m\u001b[0;34m)\u001b[0m\u001b[0;34m\u001b[0m\u001b[0m\n\u001b[0;32m---> 36\u001b[0;31m \u001b[0max\u001b[0m\u001b[0;34m.\u001b[0m\u001b[0mlegend\u001b[0m\u001b[0;34m(\u001b[0m\u001b[0;34m)\u001b[0m\u001b[0;34m\u001b[0m\u001b[0m\n\u001b[0m\u001b[1;32m     37\u001b[0m \u001b[0;34m\u001b[0m\u001b[0m\n\u001b[1;32m     38\u001b[0m \u001b[0mautolabel\u001b[0m\u001b[0;34m(\u001b[0m\u001b[0mrects1\u001b[0m\u001b[0;34m)\u001b[0m\u001b[0;34m\u001b[0m\u001b[0m\n",
      "\u001b[0;32m~/venv/lib/python3.5/site-packages/matplotlib/axes/_axes.py\u001b[0m in \u001b[0;36mlegend\u001b[0;34m(self, *args, **kwargs)\u001b[0m\n\u001b[1;32m    421\u001b[0m         \u001b[0;32mif\u001b[0m \u001b[0mlen\u001b[0m\u001b[0;34m(\u001b[0m\u001b[0mextra_args\u001b[0m\u001b[0;34m)\u001b[0m\u001b[0;34m:\u001b[0m\u001b[0;34m\u001b[0m\u001b[0m\n\u001b[1;32m    422\u001b[0m             \u001b[0;32mraise\u001b[0m \u001b[0mTypeError\u001b[0m\u001b[0;34m(\u001b[0m\u001b[0;34m'legend only accepts two non-keyword arguments'\u001b[0m\u001b[0;34m)\u001b[0m\u001b[0;34m\u001b[0m\u001b[0m\n\u001b[0;32m--> 423\u001b[0;31m         \u001b[0mself\u001b[0m\u001b[0;34m.\u001b[0m\u001b[0mlegend_\u001b[0m \u001b[0;34m=\u001b[0m \u001b[0mmlegend\u001b[0m\u001b[0;34m.\u001b[0m\u001b[0mLegend\u001b[0m\u001b[0;34m(\u001b[0m\u001b[0mself\u001b[0m\u001b[0;34m,\u001b[0m \u001b[0mhandles\u001b[0m\u001b[0;34m,\u001b[0m \u001b[0mlabels\u001b[0m\u001b[0;34m,\u001b[0m \u001b[0;34m**\u001b[0m\u001b[0mkwargs\u001b[0m\u001b[0;34m)\u001b[0m\u001b[0;34m\u001b[0m\u001b[0m\n\u001b[0m\u001b[1;32m    424\u001b[0m         \u001b[0mself\u001b[0m\u001b[0;34m.\u001b[0m\u001b[0mlegend_\u001b[0m\u001b[0;34m.\u001b[0m\u001b[0m_remove_method\u001b[0m \u001b[0;34m=\u001b[0m \u001b[0mself\u001b[0m\u001b[0;34m.\u001b[0m\u001b[0m_remove_legend\u001b[0m\u001b[0;34m\u001b[0m\u001b[0m\n\u001b[1;32m    425\u001b[0m         \u001b[0;32mreturn\u001b[0m \u001b[0mself\u001b[0m\u001b[0;34m.\u001b[0m\u001b[0mlegend_\u001b[0m\u001b[0;34m\u001b[0m\u001b[0m\n",
      "\u001b[0;32m~/venv/lib/python3.5/site-packages/matplotlib/legend.py\u001b[0m in \u001b[0;36m__init__\u001b[0;34m(self, parent, handles, labels, loc, numpoints, markerscale, markerfirst, scatterpoints, scatteryoffsets, prop, fontsize, borderpad, labelspacing, handlelength, handleheight, handletextpad, borderaxespad, columnspacing, ncol, mode, fancybox, shadow, title, title_fontsize, framealpha, edgecolor, facecolor, bbox_to_anchor, bbox_transform, frameon, handler_map)\u001b[0m\n\u001b[1;32m    554\u001b[0m \u001b[0;34m\u001b[0m\u001b[0m\n\u001b[1;32m    555\u001b[0m         \u001b[0;31m# init with null renderer\u001b[0m\u001b[0;34m\u001b[0m\u001b[0;34m\u001b[0m\u001b[0m\n\u001b[0;32m--> 556\u001b[0;31m         \u001b[0mself\u001b[0m\u001b[0;34m.\u001b[0m\u001b[0m_init_legend_box\u001b[0m\u001b[0;34m(\u001b[0m\u001b[0mhandles\u001b[0m\u001b[0;34m,\u001b[0m \u001b[0mlabels\u001b[0m\u001b[0;34m,\u001b[0m \u001b[0mmarkerfirst\u001b[0m\u001b[0;34m)\u001b[0m\u001b[0;34m\u001b[0m\u001b[0m\n\u001b[0m\u001b[1;32m    557\u001b[0m \u001b[0;34m\u001b[0m\u001b[0m\n\u001b[1;32m    558\u001b[0m         \u001b[0;31m# If shadow is activated use framealpha if not\u001b[0m\u001b[0;34m\u001b[0m\u001b[0;34m\u001b[0m\u001b[0m\n",
      "\u001b[0;32m~/venv/lib/python3.5/site-packages/matplotlib/legend.py\u001b[0m in \u001b[0;36m_init_legend_box\u001b[0;34m(self, handles, labels, markerfirst)\u001b[0m\n\u001b[1;32m    813\u001b[0m                 \u001b[0;31m# original artist/handle.\u001b[0m\u001b[0;34m\u001b[0m\u001b[0;34m\u001b[0m\u001b[0m\n\u001b[1;32m    814\u001b[0m                 handle_list.append(handler.legend_artist(self, orig_handle,\n\u001b[0;32m--> 815\u001b[0;31m                                                          fontsize, handlebox))\n\u001b[0m\u001b[1;32m    816\u001b[0m                 \u001b[0mhandles_and_labels\u001b[0m\u001b[0;34m.\u001b[0m\u001b[0mappend\u001b[0m\u001b[0;34m(\u001b[0m\u001b[0;34m(\u001b[0m\u001b[0mhandlebox\u001b[0m\u001b[0;34m,\u001b[0m \u001b[0mtextbox\u001b[0m\u001b[0;34m)\u001b[0m\u001b[0;34m)\u001b[0m\u001b[0;34m\u001b[0m\u001b[0m\n\u001b[1;32m    817\u001b[0m \u001b[0;34m\u001b[0m\u001b[0m\n",
      "\u001b[0;32m~/venv/lib/python3.5/site-packages/matplotlib/legend_handler.py\u001b[0m in \u001b[0;36mlegend_artist\u001b[0;34m(self, legend, orig_handle, fontsize, handlebox)\u001b[0m\n\u001b[1;32m    113\u001b[0m         artists = self.create_artists(legend, orig_handle,\n\u001b[1;32m    114\u001b[0m                                       \u001b[0mxdescent\u001b[0m\u001b[0;34m,\u001b[0m \u001b[0mydescent\u001b[0m\u001b[0;34m,\u001b[0m \u001b[0mwidth\u001b[0m\u001b[0;34m,\u001b[0m \u001b[0mheight\u001b[0m\u001b[0;34m,\u001b[0m\u001b[0;34m\u001b[0m\u001b[0m\n\u001b[0;32m--> 115\u001b[0;31m                                       fontsize, handlebox.get_transform())\n\u001b[0m\u001b[1;32m    116\u001b[0m \u001b[0;34m\u001b[0m\u001b[0m\n\u001b[1;32m    117\u001b[0m         \u001b[0;31m# create_artists will return a list of artists.\u001b[0m\u001b[0;34m\u001b[0m\u001b[0;34m\u001b[0m\u001b[0m\n",
      "\u001b[0;32m~/venv/lib/python3.5/site-packages/matplotlib/legend_handler.py\u001b[0m in \u001b[0;36mcreate_artists\u001b[0;34m(self, legend, orig_handle, xdescent, ydescent, width, height, fontsize, trans)\u001b[0m\n\u001b[1;32m    297\u001b[0m         p = self._create_patch(legend, orig_handle,\n\u001b[1;32m    298\u001b[0m                                xdescent, ydescent, width, height, fontsize)\n\u001b[0;32m--> 299\u001b[0;31m         \u001b[0mself\u001b[0m\u001b[0;34m.\u001b[0m\u001b[0mupdate_prop\u001b[0m\u001b[0;34m(\u001b[0m\u001b[0mp\u001b[0m\u001b[0;34m,\u001b[0m \u001b[0morig_handle\u001b[0m\u001b[0;34m,\u001b[0m \u001b[0mlegend\u001b[0m\u001b[0;34m)\u001b[0m\u001b[0;34m\u001b[0m\u001b[0m\n\u001b[0m\u001b[1;32m    300\u001b[0m         \u001b[0mp\u001b[0m\u001b[0;34m.\u001b[0m\u001b[0mset_transform\u001b[0m\u001b[0;34m(\u001b[0m\u001b[0mtrans\u001b[0m\u001b[0;34m)\u001b[0m\u001b[0;34m\u001b[0m\u001b[0m\n\u001b[1;32m    301\u001b[0m         \u001b[0;32mreturn\u001b[0m \u001b[0;34m[\u001b[0m\u001b[0mp\u001b[0m\u001b[0;34m]\u001b[0m\u001b[0;34m\u001b[0m\u001b[0m\n",
      "\u001b[0;32m~/venv/lib/python3.5/site-packages/matplotlib/legend_handler.py\u001b[0m in \u001b[0;36mupdate_prop\u001b[0;34m(self, legend_handle, orig_handle, legend)\u001b[0m\n\u001b[1;32m     70\u001b[0m     \u001b[0;32mdef\u001b[0m \u001b[0mupdate_prop\u001b[0m\u001b[0;34m(\u001b[0m\u001b[0mself\u001b[0m\u001b[0;34m,\u001b[0m \u001b[0mlegend_handle\u001b[0m\u001b[0;34m,\u001b[0m \u001b[0morig_handle\u001b[0m\u001b[0;34m,\u001b[0m \u001b[0mlegend\u001b[0m\u001b[0;34m)\u001b[0m\u001b[0;34m:\u001b[0m\u001b[0;34m\u001b[0m\u001b[0m\n\u001b[1;32m     71\u001b[0m \u001b[0;34m\u001b[0m\u001b[0m\n\u001b[0;32m---> 72\u001b[0;31m         \u001b[0mself\u001b[0m\u001b[0;34m.\u001b[0m\u001b[0m_update_prop\u001b[0m\u001b[0;34m(\u001b[0m\u001b[0mlegend_handle\u001b[0m\u001b[0;34m,\u001b[0m \u001b[0morig_handle\u001b[0m\u001b[0;34m)\u001b[0m\u001b[0;34m\u001b[0m\u001b[0m\n\u001b[0m\u001b[1;32m     73\u001b[0m \u001b[0;34m\u001b[0m\u001b[0m\n\u001b[1;32m     74\u001b[0m         \u001b[0mlegend\u001b[0m\u001b[0;34m.\u001b[0m\u001b[0m_set_artist_props\u001b[0m\u001b[0;34m(\u001b[0m\u001b[0mlegend_handle\u001b[0m\u001b[0;34m)\u001b[0m\u001b[0;34m\u001b[0m\u001b[0m\n",
      "\u001b[0;32m~/venv/lib/python3.5/site-packages/matplotlib/legend_handler.py\u001b[0m in \u001b[0;36m_update_prop\u001b[0;34m(self, legend_handle, orig_handle)\u001b[0m\n\u001b[1;32m     63\u001b[0m             \u001b[0mself\u001b[0m\u001b[0;34m.\u001b[0m\u001b[0m_default_update_prop\u001b[0m\u001b[0;34m(\u001b[0m\u001b[0mlegend_handle\u001b[0m\u001b[0;34m,\u001b[0m \u001b[0morig_handle\u001b[0m\u001b[0;34m)\u001b[0m\u001b[0;34m\u001b[0m\u001b[0m\n\u001b[1;32m     64\u001b[0m         \u001b[0;32melse\u001b[0m\u001b[0;34m:\u001b[0m\u001b[0;34m\u001b[0m\u001b[0m\n\u001b[0;32m---> 65\u001b[0;31m             \u001b[0mself\u001b[0m\u001b[0;34m.\u001b[0m\u001b[0m_update_prop_func\u001b[0m\u001b[0;34m(\u001b[0m\u001b[0mlegend_handle\u001b[0m\u001b[0;34m,\u001b[0m \u001b[0morig_handle\u001b[0m\u001b[0;34m)\u001b[0m\u001b[0;34m\u001b[0m\u001b[0m\n\u001b[0m\u001b[1;32m     66\u001b[0m \u001b[0;34m\u001b[0m\u001b[0m\n\u001b[1;32m     67\u001b[0m     \u001b[0;32mdef\u001b[0m \u001b[0m_default_update_prop\u001b[0m\u001b[0;34m(\u001b[0m\u001b[0mself\u001b[0m\u001b[0;34m,\u001b[0m \u001b[0mlegend_handle\u001b[0m\u001b[0;34m,\u001b[0m \u001b[0morig_handle\u001b[0m\u001b[0;34m)\u001b[0m\u001b[0;34m:\u001b[0m\u001b[0;34m\u001b[0m\u001b[0m\n",
      "\u001b[0;32m~/venv/lib/python3.5/site-packages/matplotlib/legend_handler.py\u001b[0m in \u001b[0;36mupdate_from_first_child\u001b[0;34m(tgt, src)\u001b[0m\n\u001b[1;32m     36\u001b[0m \u001b[0;34m\u001b[0m\u001b[0m\n\u001b[1;32m     37\u001b[0m \u001b[0;32mdef\u001b[0m \u001b[0mupdate_from_first_child\u001b[0m\u001b[0;34m(\u001b[0m\u001b[0mtgt\u001b[0m\u001b[0;34m,\u001b[0m \u001b[0msrc\u001b[0m\u001b[0;34m)\u001b[0m\u001b[0;34m:\u001b[0m\u001b[0;34m\u001b[0m\u001b[0m\n\u001b[0;32m---> 38\u001b[0;31m     \u001b[0mtgt\u001b[0m\u001b[0;34m.\u001b[0m\u001b[0mupdate_from\u001b[0m\u001b[0;34m(\u001b[0m\u001b[0msrc\u001b[0m\u001b[0;34m.\u001b[0m\u001b[0mget_children\u001b[0m\u001b[0;34m(\u001b[0m\u001b[0;34m)\u001b[0m\u001b[0;34m[\u001b[0m\u001b[0;36m0\u001b[0m\u001b[0;34m]\u001b[0m\u001b[0;34m)\u001b[0m\u001b[0;34m\u001b[0m\u001b[0m\n\u001b[0m\u001b[1;32m     39\u001b[0m \u001b[0;34m\u001b[0m\u001b[0m\n\u001b[1;32m     40\u001b[0m \u001b[0;34m\u001b[0m\u001b[0m\n",
      "\u001b[0;31mIndexError\u001b[0m: list index out of range"
     ]
    },
    {
     "data": {
      "image/png": "[encoded data removed]",
      "text/plain": [
       "<Figure size 432x288 with 1 Axes>"
      ]
     },
     "metadata": {},
     "output_type": "display_data"
    }
   ],
   "source": [
    "top_our_index = [author_names.index(author) + 1 for author in common_authors]\n",
    "# std_men = (2, 3, 4, 1, 2)\n",
    "\n",
    "top_h_index = [author_names_h.index(author) + 1 for author in common_authors]\n",
    "# std_women = (3, 5, 2, 3, 3)\n",
    "\n",
    "n_groups = len(top_our_index)\n",
    "\n",
    "fig, ax = plt.subplots()\n",
    "\n",
    "index = np.arange(n_groups)\n",
    "bar_width = 0.35\n",
    "\n",
    "opacity = 0.4\n",
    "error_config = {'ecolor': '0.3'}\n",
    "# plt.figure(figsize=(18,15))\n",
    "fig.size = (18,15)\n",
    "rects1 = ax.bar(index, top_our_index, bar_width,\n",
    "                alpha=opacity, color='b',\n",
    "                error_kw=error_config,\n",
    "                label='Our Index')\n",
    "\n",
    "rects2 = ax.bar(index + bar_width, top_h_index, bar_width,\n",
    "                alpha=opacity, color='r',\n",
    "                error_kw=error_config,\n",
    "                label='H-Index')\n",
    "\n",
    "ax.set_xlabel('Authors')\n",
    "# ax.set_ylabel('Ranking')\n",
    "ax.set_title('Rankings of authors found in both top 100 rankings')\n",
    "ax.set_xticks(index + bar_width / 2)\n",
    "ax.set_yticks([])\n",
    "ax.set_xticklabels(common_authors, rotation = 90)\n",
    "ax.set_yticks([])\n",
    "ax.set_ylim(0, 150)\n",
    "ax.legend()\n",
    "\n",
    "autolabel(rects1)\n",
    "autolabel(rects2)\n",
    "# fig.tight_layout()\n",
    "plt.show()"
   ]
  },
  {
   "cell_type": "code",
   "execution_count": 85,
   "metadata": {},
   "outputs": [],
   "source": [
    "def author_keywords(auth):\n",
    "    keywords = []\n",
    "    for paper in author_map[author].paper_list:\n",
    "        keywords += citation_graph[paper].keywords\n",
    "    return set(keywords)\n",
    "        "
   ]
  },
  {
   "cell_type": "code",
   "execution_count": 90,
   "metadata": {},
   "outputs": [
    {
     "data": {
      "text/plain": [
       "3856"
      ]
     },
     "execution_count": 90,
     "metadata": {},
     "output_type": "execute_result"
    }
   ],
   "source": [
    "len(author_keywords('Li Li'))"
   ]
  },
  {
   "cell_type": "code",
   "execution_count": 49,
   "metadata": {},
   "outputs": [
    {
     "data": {
      "text/plain": [
       "946"
      ]
     },
     "execution_count": 49,
     "metadata": {},
     "output_type": "execute_result"
    }
   ],
   "source": []
  },
  {
   "cell_type": "code",
   "execution_count": null,
   "metadata": {},
   "outputs": [],
   "source": [
    "# plots\n",
    "\n",
    "# 1. top n authors' citations distribution \n",
    "# 2. top n authors' no. of papers distribution\n",
    "# 3. missing values graph\n",
    "# 4. top n authors' h-index and our index comparison\n",
    "# 5. top n authors' reverse comparison\n",
    "# \n",
    "# citations distribution\n",
    "# \n",
    "\n",
    "\n",
    "# score\n",
    "# 1. use a constant rate of decay using publish date\n",
    "# 2. people with a lot of citations need to be accounted for\n",
    "# 3. young authors with lesser research time need to be weighted equally \n",
    "# 4. median citations for author instead of average\n",
    "# 5. journal impact factor\n",
    "# 6. domain of other fields\n"
   ]
  },
  {
   "cell_type": "code",
   "execution_count": 27,
   "metadata": {},
   "outputs": [
    {
     "data": {
      "text/plain": [
       "0"
      ]
     },
     "execution_count": 27,
     "metadata": {},
     "output_type": "execute_result"
    }
   ],
   "source": [
    "len(citation_graph)"
   ]
  },
  {
   "cell_type": "code",
   "execution_count": null,
   "metadata": {},
   "outputs": [],
   "source": []
  }
 ],
 "metadata": {
  "kernelspec": {
   "display_name": "Python 3",
   "language": "python",
   "name": "python3"
  },
  "language_info": {
   "codemirror_mode": {
    "name": "ipython",
    "version": 3
   },
   "file_extension": ".py",
   "mimetype": "text/x-python",
   "name": "python",
   "nbconvert_exporter": "python",
   "pygments_lexer": "ipython3",
   "version": "3.5.2"
  }
 },
 "nbformat": 4,
 "nbformat_minor": 2
}
