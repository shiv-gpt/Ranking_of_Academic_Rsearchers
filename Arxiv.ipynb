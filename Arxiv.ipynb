{
 "cells": [
  {
   "cell_type": "code",
   "execution_count": 49,
   "metadata": {},
   "outputs": [],
   "source": [
    "import arxiv\n",
    "from datetime import datetime"
   ]
  },
  {
   "cell_type": "markdown",
   "metadata": {},
   "source": [
    "arxiv.query(search_query, id_list, prune, start, max_results, sort_by, sort_order)"
   ]
  },
  {
   "cell_type": "code",
   "execution_count": 60,
   "metadata": {},
   "outputs": [],
   "source": [
    "query = arxiv.query(search_query='Glen Mullineux', max_results=10)"
   ]
  },
  {
   "cell_type": "code",
   "execution_count": 61,
   "metadata": {},
   "outputs": [
    {
     "name": "stdout",
     "output_type": "stream",
     "text": [
      "2001-11-06T09:13:08Z\n",
      "2001-02-06T11:13:42Z\n",
      "2001-11-20T13:49:49Z\n",
      "2001-05-03T15:22:55Z\n",
      "2001-08-06T02:54:53Z\n",
      "2001-03-12T09:33:15Z\n",
      "2001-03-20T13:37:17Z\n",
      "2001-01-15T23:59:32Z\n",
      "2001-12-21T18:33:19Z\n",
      "2001-12-21T18:44:16Z\n"
     ]
    }
   ],
   "source": [
    "for paper in query:\n",
    "    print(paper.published)"
   ]
  },
  {
   "cell_type": "code",
   "execution_count": 77,
   "metadata": {},
   "outputs": [],
   "source": [
    "class ArxivSearch(object):\n",
    "    def __init__(self, records_per_query = 100):\n",
    "        self.records_per_query = records_per_query\n",
    "        self.search_threshold = 1000\n",
    "        \n",
    "    def get_papers_by_author(self, author):\n",
    "        papers = []\n",
    "        records_searched = 0\n",
    "        while records_searched < self.search_threshold:\n",
    "            query = arxiv.query(search_query=author, start=records_searched, max_results=self.records_per_query)\n",
    "            for paper in query:\n",
    "                if author in paper['authors']:\n",
    "                    papers.append(paper)\n",
    "            records_searched += self.records_per_query\n",
    "        return papers\n",
    "    \n",
    "    def get_papers_by_year(self, year):\n",
    "        papers = []\n",
    "        records_searched = 0\n",
    "        while records_searched < self.search_threshold:\n",
    "            query = arxiv.query(search_query=str(year), start=records_searched, max_results=self.records_per_query)\n",
    "            for paper in query:\n",
    "                publish_date = datetime.strptime(paper['published'].split('T')[0], '%Y-%m-%d')\n",
    "                if publish_date.year == year: \n",
    "                    papers.append(paper)\n",
    "            records_searched += self.records_per_query\n",
    "        return papers\n",
    "    \n",
    "    def get_papers_after(self, papers, year):\n",
    "        papers_after = []\n",
    "        for paper in papers:\n",
    "            publish_date = datetime.strptime(paper['published'].split('T')[0], '%Y-%m-%d')\n",
    "            if publish_date.year >= year:\n",
    "                papers_after.append(paper)\n",
    "        return papers_after\n",
    "        "
   ]
  },
  {
   "cell_type": "code",
   "execution_count": 75,
   "metadata": {},
   "outputs": [
    {
     "name": "stdout",
     "output_type": "stream",
     "text": [
      "2018-09-27T15:53:36Z\n",
      "1\n",
      "2018-09-27 00:00:00\n"
     ]
    }
   ],
   "source": [
    "author = \"Giridhar Subramanian\"\n",
    "asearch = ArxivSearch()\n",
    "papers = asearch.get_papers_by_author(author)\n",
    "papers = asearch.get_papers_after(papers, 2018)"
   ]
  },
  {
   "cell_type": "code",
   "execution_count": 76,
   "metadata": {},
   "outputs": [
    {
     "data": {
      "text/plain": [
       "1"
      ]
     },
     "execution_count": 76,
     "metadata": {},
     "output_type": "execute_result"
    }
   ],
   "source": [
    "len(papers)"
   ]
  },
  {
   "cell_type": "code",
   "execution_count": 24,
   "metadata": {},
   "outputs": [],
   "source": [
    "with open('./DBLP_Citation_2014_May/publications.txt') as file:\n",
    "    papers = file.readlines()"
   ]
  },
  {
   "cell_type": "code",
   "execution_count": 31,
   "metadata": {},
   "outputs": [
    {
     "name": "stdout",
     "output_type": "stream",
     "text": [
      "False\n",
      "True\n",
      "False\n",
      "False\n",
      "False\n",
      "False\n",
      "False\n",
      "False\n",
      "False\n",
      "True\n",
      "False\n",
      "False\n"
     ]
    }
   ],
   "source": [
    "authors = []\n",
    "for idx, line in enumerate(papers):\n",
    "    print(line.startswith('#@'))\n",
    "    if idx > 10:\n",
    "        break"
   ]
  },
  {
   "cell_type": "code",
   "execution_count": null,
   "metadata": {},
   "outputs": [],
   "source": [
    "authors = []\n",
    "for idx, line in enumerate(papers):\n",
    "    if line.starswith('#@'):\n",
    "        authors.append()"
   ]
  }
 ],
 "metadata": {
  "kernelspec": {
   "display_name": "arxiv-kernel",
   "language": "python",
   "name": "arxiv-kernel"
  },
  "language_info": {
   "codemirror_mode": {
    "name": "ipython",
    "version": 3
   },
   "file_extension": ".py",
   "mimetype": "text/x-python",
   "name": "python",
   "nbconvert_exporter": "python",
   "pygments_lexer": "ipython3",
   "version": "3.7.0"
  }
 },
 "nbformat": 4,
 "nbformat_minor": 2
}
